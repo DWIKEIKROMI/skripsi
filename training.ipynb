{
 "cells": [
  {
   "cell_type": "markdown",
   "metadata": {},
   "source": [
    "## SETTING UP DATASET"
   ]
  },
  {
   "cell_type": "code",
   "execution_count": 2,
   "metadata": {},
   "outputs": [
    {
     "data": {
      "text/html": [
       "<div>\n",
       "<style scoped>\n",
       "    .dataframe tbody tr th:only-of-type {\n",
       "        vertical-align: middle;\n",
       "    }\n",
       "\n",
       "    .dataframe tbody tr th {\n",
       "        vertical-align: top;\n",
       "    }\n",
       "\n",
       "    .dataframe thead th {\n",
       "        text-align: right;\n",
       "    }\n",
       "</style>\n",
       "<table border=\"1\" class=\"dataframe\">\n",
       "  <thead>\n",
       "    <tr style=\"text-align: right;\">\n",
       "      <th></th>\n",
       "      <th>no</th>\n",
       "      <th>prodi</th>\n",
       "      <th>minat</th>\n",
       "      <th>bakat</th>\n",
       "      <th>mapel</th>\n",
       "      <th>mtk</th>\n",
       "      <th>biologi</th>\n",
       "      <th>fisika</th>\n",
       "      <th>kimia</th>\n",
       "    </tr>\n",
       "  </thead>\n",
       "  <tbody>\n",
       "    <tr>\n",
       "      <th>0</th>\n",
       "      <td>0</td>\n",
       "      <td>akuntansi</td>\n",
       "      <td>['minat', 'aktivias', 'hubung', 'tugas', 'ruti...</td>\n",
       "      <td>['bakat', 'aktivias', 'hubung', 'tugas', 'ruti...</td>\n",
       "      <td>['sejarah', 'geografi']</td>\n",
       "      <td>0</td>\n",
       "      <td>0</td>\n",
       "      <td>0</td>\n",
       "      <td>0</td>\n",
       "    </tr>\n",
       "    <tr>\n",
       "      <th>1</th>\n",
       "      <td>1</td>\n",
       "      <td>teknik informatika</td>\n",
       "      <td>['minat', 'aktivitas', 'laku', 'luar', 'ruang'...</td>\n",
       "      <td>['bakat', 'aktivitas', 'kait', 'musik', 'baik'...</td>\n",
       "      <td>['sejarah']</td>\n",
       "      <td>0</td>\n",
       "      <td>0</td>\n",
       "      <td>0</td>\n",
       "      <td>0</td>\n",
       "    </tr>\n",
       "    <tr>\n",
       "      <th>2</th>\n",
       "      <td>2</td>\n",
       "      <td>teknik informatika</td>\n",
       "      <td>['minat', 'aktivias', 'hubung', 'tugas', 'ruti...</td>\n",
       "      <td>['bakat', 'aktivias', 'hubung', 'tugas', 'ruti...</td>\n",
       "      <td>['olah', 'video']</td>\n",
       "      <td>0</td>\n",
       "      <td>0</td>\n",
       "      <td>0</td>\n",
       "      <td>0</td>\n",
       "    </tr>\n",
       "    <tr>\n",
       "      <th>3</th>\n",
       "      <td>3</td>\n",
       "      <td>akuntansi</td>\n",
       "      <td>['minat', 'aktivias', 'hubung', 'tugas', 'ruti...</td>\n",
       "      <td>['bakat', 'aktivias', 'hubung', 'tugas', 'ruti...</td>\n",
       "      <td>['mtk', 'kimia', 'bahasa', 'indonesia']</td>\n",
       "      <td>0</td>\n",
       "      <td>0</td>\n",
       "      <td>0</td>\n",
       "      <td>0</td>\n",
       "    </tr>\n",
       "    <tr>\n",
       "      <th>4</th>\n",
       "      <td>4</td>\n",
       "      <td>teknik informatika</td>\n",
       "      <td>['minat', 'aktivitas', 'hubung', 'mesin', 'ala...</td>\n",
       "      <td>['bakat', 'aktivitas', 'hubung', 'mesin', 'ala...</td>\n",
       "      <td>['biologi', 'bahasa', 'inggris', 'bahasa', 'in...</td>\n",
       "      <td>0</td>\n",
       "      <td>0</td>\n",
       "      <td>0</td>\n",
       "      <td>0</td>\n",
       "    </tr>\n",
       "  </tbody>\n",
       "</table>\n",
       "</div>"
      ],
      "text/plain": [
       "   no                 prodi  \\\n",
       "0   0             akuntansi   \n",
       "1   1   teknik informatika    \n",
       "2   2    teknik informatika   \n",
       "3   3             akuntansi   \n",
       "4   4   teknik informatika    \n",
       "\n",
       "                                               minat  \\\n",
       "0  ['minat', 'aktivias', 'hubung', 'tugas', 'ruti...   \n",
       "1  ['minat', 'aktivitas', 'laku', 'luar', 'ruang'...   \n",
       "2  ['minat', 'aktivias', 'hubung', 'tugas', 'ruti...   \n",
       "3  ['minat', 'aktivias', 'hubung', 'tugas', 'ruti...   \n",
       "4  ['minat', 'aktivitas', 'hubung', 'mesin', 'ala...   \n",
       "\n",
       "                                               bakat  \\\n",
       "0  ['bakat', 'aktivias', 'hubung', 'tugas', 'ruti...   \n",
       "1  ['bakat', 'aktivitas', 'kait', 'musik', 'baik'...   \n",
       "2  ['bakat', 'aktivias', 'hubung', 'tugas', 'ruti...   \n",
       "3  ['bakat', 'aktivias', 'hubung', 'tugas', 'ruti...   \n",
       "4  ['bakat', 'aktivitas', 'hubung', 'mesin', 'ala...   \n",
       "\n",
       "                                               mapel mtk biologi fisika kimia  \n",
       "0                            ['sejarah', 'geografi']   0       0      0     0  \n",
       "1                                        ['sejarah']   0       0      0     0  \n",
       "2                                  ['olah', 'video']   0       0      0     0  \n",
       "3            ['mtk', 'kimia', 'bahasa', 'indonesia']   0       0      0     0  \n",
       "4  ['biologi', 'bahasa', 'inggris', 'bahasa', 'in...   0       0      0     0  "
      ]
     },
     "execution_count": 2,
     "metadata": {},
     "output_type": "execute_result"
    }
   ],
   "source": [
    "import pandas as pd\n",
    "from utils.tfidf import *\n",
    "import numpy as np\n",
    "\n",
    "df = pd.read_csv(\"./data/data_train5.csv\", delimiter=\",\")\n",
    "df.head()"
   ]
  },
  {
   "cell_type": "code",
   "execution_count": 3,
   "metadata": {},
   "outputs": [],
   "source": [
    "df_minat = pd.read_csv('./data/tfidf_minat.csv')\n",
    "df_bakat = pd.read_csv('./data/tfidf_bakat.csv')\n",
    "df_mapel = pd.read_csv('./data/tfidf_mapel.csv')"
   ]
  },
  {
   "cell_type": "code",
   "execution_count": 4,
   "metadata": {},
   "outputs": [],
   "source": [
    "prodi = df['prodi'].tolist()\n",
    "df['prodi'] = [p.strip() for p in prodi]"
   ]
  },
  {
   "cell_type": "code",
   "execution_count": 5,
   "metadata": {},
   "outputs": [],
   "source": [
    "def tfidf_mean(string, df):\n",
    "  tfidf_value = evaluate_tfidf(string, df)\n",
    "  return np.mean(list(tfidf_value.values()))"
   ]
  },
  {
   "cell_type": "code",
   "execution_count": 6,
   "metadata": {},
   "outputs": [],
   "source": [
    "df['minat_score'] = [tfidf_mean(minat, df_minat) for minat in df['minat']]\n",
    "df['bakat_score'] = [tfidf_mean(bakat, df_bakat) for bakat in df['bakat']]\n",
    "df['mapel_score'] = [tfidf_mean(mapel, df_mapel) for mapel in df['mapel']]"
   ]
  },
  {
   "cell_type": "code",
   "execution_count": 7,
   "metadata": {},
   "outputs": [
    {
     "data": {
      "text/html": [
       "<div>\n",
       "<style scoped>\n",
       "    .dataframe tbody tr th:only-of-type {\n",
       "        vertical-align: middle;\n",
       "    }\n",
       "\n",
       "    .dataframe tbody tr th {\n",
       "        vertical-align: top;\n",
       "    }\n",
       "\n",
       "    .dataframe thead th {\n",
       "        text-align: right;\n",
       "    }\n",
       "</style>\n",
       "<table border=\"1\" class=\"dataframe\">\n",
       "  <thead>\n",
       "    <tr style=\"text-align: right;\">\n",
       "      <th></th>\n",
       "      <th>no</th>\n",
       "      <th>prodi</th>\n",
       "      <th>minat</th>\n",
       "      <th>bakat</th>\n",
       "      <th>mapel</th>\n",
       "      <th>mtk</th>\n",
       "      <th>biologi</th>\n",
       "      <th>fisika</th>\n",
       "      <th>kimia</th>\n",
       "      <th>minat_score</th>\n",
       "      <th>bakat_score</th>\n",
       "      <th>mapel_score</th>\n",
       "    </tr>\n",
       "  </thead>\n",
       "  <tbody>\n",
       "    <tr>\n",
       "      <th>0</th>\n",
       "      <td>0</td>\n",
       "      <td>akuntansi</td>\n",
       "      <td>['minat', 'aktivias', 'hubung', 'tugas', 'ruti...</td>\n",
       "      <td>['bakat', 'aktivias', 'hubung', 'tugas', 'ruti...</td>\n",
       "      <td>['sejarah', 'geografi']</td>\n",
       "      <td>0</td>\n",
       "      <td>0</td>\n",
       "      <td>0</td>\n",
       "      <td>0</td>\n",
       "      <td>0.285900</td>\n",
       "      <td>0.309112</td>\n",
       "      <td>6.550802</td>\n",
       "    </tr>\n",
       "    <tr>\n",
       "      <th>1</th>\n",
       "      <td>1</td>\n",
       "      <td>teknik informatika</td>\n",
       "      <td>['minat', 'aktivitas', 'laku', 'luar', 'ruang'...</td>\n",
       "      <td>['bakat', 'aktivitas', 'kait', 'musik', 'baik'...</td>\n",
       "      <td>['sejarah']</td>\n",
       "      <td>0</td>\n",
       "      <td>0</td>\n",
       "      <td>0</td>\n",
       "      <td>0</td>\n",
       "      <td>0.217867</td>\n",
       "      <td>0.325761</td>\n",
       "      <td>10.294118</td>\n",
       "    </tr>\n",
       "    <tr>\n",
       "      <th>2</th>\n",
       "      <td>2</td>\n",
       "      <td>teknik informatika</td>\n",
       "      <td>['minat', 'aktivias', 'hubung', 'tugas', 'ruti...</td>\n",
       "      <td>['bakat', 'aktivias', 'hubung', 'tugas', 'ruti...</td>\n",
       "      <td>['olah', 'video']</td>\n",
       "      <td>0</td>\n",
       "      <td>0</td>\n",
       "      <td>0</td>\n",
       "      <td>0</td>\n",
       "      <td>0.198672</td>\n",
       "      <td>0.239341</td>\n",
       "      <td>87.500000</td>\n",
       "    </tr>\n",
       "    <tr>\n",
       "      <th>3</th>\n",
       "      <td>3</td>\n",
       "      <td>akuntansi</td>\n",
       "      <td>['minat', 'aktivias', 'hubung', 'tugas', 'ruti...</td>\n",
       "      <td>['bakat', 'aktivias', 'hubung', 'tugas', 'ruti...</td>\n",
       "      <td>['mtk', 'kimia', 'bahasa', 'indonesia']</td>\n",
       "      <td>0</td>\n",
       "      <td>0</td>\n",
       "      <td>0</td>\n",
       "      <td>0</td>\n",
       "      <td>0.285900</td>\n",
       "      <td>0.207605</td>\n",
       "      <td>0.881995</td>\n",
       "    </tr>\n",
       "    <tr>\n",
       "      <th>4</th>\n",
       "      <td>4</td>\n",
       "      <td>teknik informatika</td>\n",
       "      <td>['minat', 'aktivitas', 'hubung', 'mesin', 'ala...</td>\n",
       "      <td>['bakat', 'aktivitas', 'hubung', 'mesin', 'ala...</td>\n",
       "      <td>['biologi', 'bahasa', 'inggris', 'bahasa', 'in...</td>\n",
       "      <td>0</td>\n",
       "      <td>0</td>\n",
       "      <td>0</td>\n",
       "      <td>0</td>\n",
       "      <td>0.092461</td>\n",
       "      <td>0.102315</td>\n",
       "      <td>0.743029</td>\n",
       "    </tr>\n",
       "  </tbody>\n",
       "</table>\n",
       "</div>"
      ],
      "text/plain": [
       "   no               prodi                                              minat  \\\n",
       "0   0           akuntansi  ['minat', 'aktivias', 'hubung', 'tugas', 'ruti...   \n",
       "1   1  teknik informatika  ['minat', 'aktivitas', 'laku', 'luar', 'ruang'...   \n",
       "2   2  teknik informatika  ['minat', 'aktivias', 'hubung', 'tugas', 'ruti...   \n",
       "3   3           akuntansi  ['minat', 'aktivias', 'hubung', 'tugas', 'ruti...   \n",
       "4   4  teknik informatika  ['minat', 'aktivitas', 'hubung', 'mesin', 'ala...   \n",
       "\n",
       "                                               bakat  \\\n",
       "0  ['bakat', 'aktivias', 'hubung', 'tugas', 'ruti...   \n",
       "1  ['bakat', 'aktivitas', 'kait', 'musik', 'baik'...   \n",
       "2  ['bakat', 'aktivias', 'hubung', 'tugas', 'ruti...   \n",
       "3  ['bakat', 'aktivias', 'hubung', 'tugas', 'ruti...   \n",
       "4  ['bakat', 'aktivitas', 'hubung', 'mesin', 'ala...   \n",
       "\n",
       "                                               mapel mtk biologi fisika kimia  \\\n",
       "0                            ['sejarah', 'geografi']   0       0      0     0   \n",
       "1                                        ['sejarah']   0       0      0     0   \n",
       "2                                  ['olah', 'video']   0       0      0     0   \n",
       "3            ['mtk', 'kimia', 'bahasa', 'indonesia']   0       0      0     0   \n",
       "4  ['biologi', 'bahasa', 'inggris', 'bahasa', 'in...   0       0      0     0   \n",
       "\n",
       "   minat_score  bakat_score  mapel_score  \n",
       "0     0.285900     0.309112     6.550802  \n",
       "1     0.217867     0.325761    10.294118  \n",
       "2     0.198672     0.239341    87.500000  \n",
       "3     0.285900     0.207605     0.881995  \n",
       "4     0.092461     0.102315     0.743029  "
      ]
     },
     "execution_count": 7,
     "metadata": {},
     "output_type": "execute_result"
    }
   ],
   "source": [
    "df.head()"
   ]
  },
  {
   "cell_type": "code",
   "execution_count": 8,
   "metadata": {},
   "outputs": [
    {
     "data": {
      "text/html": [
       "<div>\n",
       "<style scoped>\n",
       "    .dataframe tbody tr th:only-of-type {\n",
       "        vertical-align: middle;\n",
       "    }\n",
       "\n",
       "    .dataframe tbody tr th {\n",
       "        vertical-align: top;\n",
       "    }\n",
       "\n",
       "    .dataframe thead th {\n",
       "        text-align: right;\n",
       "    }\n",
       "</style>\n",
       "<table border=\"1\" class=\"dataframe\">\n",
       "  <thead>\n",
       "    <tr style=\"text-align: right;\">\n",
       "      <th></th>\n",
       "      <th>no</th>\n",
       "      <th>prodi</th>\n",
       "      <th>mtk</th>\n",
       "      <th>biologi</th>\n",
       "      <th>fisika</th>\n",
       "      <th>kimia</th>\n",
       "      <th>minat_score</th>\n",
       "      <th>bakat_score</th>\n",
       "      <th>mapel_score</th>\n",
       "    </tr>\n",
       "  </thead>\n",
       "  <tbody>\n",
       "    <tr>\n",
       "      <th>0</th>\n",
       "      <td>0</td>\n",
       "      <td>akuntansi</td>\n",
       "      <td>0</td>\n",
       "      <td>0</td>\n",
       "      <td>0</td>\n",
       "      <td>0</td>\n",
       "      <td>0.285900</td>\n",
       "      <td>0.309112</td>\n",
       "      <td>6.550802</td>\n",
       "    </tr>\n",
       "    <tr>\n",
       "      <th>1</th>\n",
       "      <td>1</td>\n",
       "      <td>teknik informatika</td>\n",
       "      <td>0</td>\n",
       "      <td>0</td>\n",
       "      <td>0</td>\n",
       "      <td>0</td>\n",
       "      <td>0.217867</td>\n",
       "      <td>0.325761</td>\n",
       "      <td>10.294118</td>\n",
       "    </tr>\n",
       "    <tr>\n",
       "      <th>2</th>\n",
       "      <td>2</td>\n",
       "      <td>teknik informatika</td>\n",
       "      <td>0</td>\n",
       "      <td>0</td>\n",
       "      <td>0</td>\n",
       "      <td>0</td>\n",
       "      <td>0.198672</td>\n",
       "      <td>0.239341</td>\n",
       "      <td>87.500000</td>\n",
       "    </tr>\n",
       "    <tr>\n",
       "      <th>3</th>\n",
       "      <td>3</td>\n",
       "      <td>akuntansi</td>\n",
       "      <td>0</td>\n",
       "      <td>0</td>\n",
       "      <td>0</td>\n",
       "      <td>0</td>\n",
       "      <td>0.285900</td>\n",
       "      <td>0.207605</td>\n",
       "      <td>0.881995</td>\n",
       "    </tr>\n",
       "    <tr>\n",
       "      <th>4</th>\n",
       "      <td>4</td>\n",
       "      <td>teknik informatika</td>\n",
       "      <td>0</td>\n",
       "      <td>0</td>\n",
       "      <td>0</td>\n",
       "      <td>0</td>\n",
       "      <td>0.092461</td>\n",
       "      <td>0.102315</td>\n",
       "      <td>0.743029</td>\n",
       "    </tr>\n",
       "  </tbody>\n",
       "</table>\n",
       "</div>"
      ],
      "text/plain": [
       "   no               prodi mtk biologi fisika kimia  minat_score  bakat_score  \\\n",
       "0   0           akuntansi   0       0      0     0     0.285900     0.309112   \n",
       "1   1  teknik informatika   0       0      0     0     0.217867     0.325761   \n",
       "2   2  teknik informatika   0       0      0     0     0.198672     0.239341   \n",
       "3   3           akuntansi   0       0      0     0     0.285900     0.207605   \n",
       "4   4  teknik informatika   0       0      0     0     0.092461     0.102315   \n",
       "\n",
       "   mapel_score  \n",
       "0     6.550802  \n",
       "1    10.294118  \n",
       "2    87.500000  \n",
       "3     0.881995  \n",
       "4     0.743029  "
      ]
     },
     "execution_count": 8,
     "metadata": {},
     "output_type": "execute_result"
    }
   ],
   "source": [
    "df = df.drop(['minat', 'bakat', 'mapel'], axis=1)\n",
    "df.head()"
   ]
  },
  {
   "cell_type": "code",
   "execution_count": 9,
   "metadata": {},
   "outputs": [],
   "source": [
    "df['mtk'] = [float(score.replace(\",\", \".\")) for score in df['mtk']]\n",
    "df['biologi'] = [float(score.replace(\",\", \".\")) for score in df['biologi']]\n",
    "df['kimia'] = [float(score.replace(\",\", \".\")) for score in df['kimia']]\n",
    "df['fisika'] = [float(score.replace(\",\", \".\")) for score in df['fisika']]"
   ]
  },
  {
   "cell_type": "code",
   "execution_count": 10,
   "metadata": {},
   "outputs": [],
   "source": [
    "# Generate clean dataset for training\n",
    "\n",
    "df.to_csv(\"./data/data_train5_clean.csv\")"
   ]
  },
  {
   "cell_type": "markdown",
   "metadata": {},
   "source": [
    "## TRAINING"
   ]
  },
  {
   "cell_type": "code",
   "execution_count": 28,
   "metadata": {},
   "outputs": [],
   "source": [
    "df = pd.read_csv(\"./data/data_train5_clean.csv\")"
   ]
  },
  {
   "cell_type": "code",
   "execution_count": 29,
   "metadata": {},
   "outputs": [],
   "source": [
    "# Preprocessing data\n",
    "from sklearn.model_selection import train_test_split\n",
    "from sklearn import preprocessing\n",
    "\n",
    "X = df[['mtk', 'biologi', 'fisika', 'kimia', 'minat_score', 'bakat_score', 'mapel_score']]\n",
    "y = df['prodi']\n",
    "\n",
    "le = preprocessing.LabelEncoder()\n",
    "y = le.fit_transform(y)"
   ]
  },
  {
   "cell_type": "code",
   "execution_count": 30,
   "metadata": {},
   "outputs": [],
   "source": [
    "from sklearn.preprocessing import MinMaxScaler\n",
    "\n",
    "X_train, X_test, y_train, y_test = train_test_split(X, y, test_size = 0.3, random_state = 21)\n",
    "\n",
    "scaler = MinMaxScaler()\n",
    "X_train = scaler.fit_transform(X_train)\n",
    "X_test = scaler.transform(X_test)"
   ]
  },
  {
   "cell_type": "code",
   "execution_count": 37,
   "metadata": {},
   "outputs": [
    {
     "data": {
      "text/plain": [
       "1.0"
      ]
     },
     "execution_count": 37,
     "metadata": {},
     "output_type": "execute_result"
    }
   ],
   "source": [
    "from sklearn.ensemble import RandomForestClassifier\n",
    "\n",
    "classifier = RandomForestClassifier(max_depth=10, criterion='entropy', random_state=0)\n",
    "classifier.fit(X_train, y_train)\n",
    "classifier.score(X_train, y_train)"
   ]
  },
  {
   "cell_type": "code",
   "execution_count": 38,
   "metadata": {},
   "outputs": [
    {
     "data": {
      "text/plain": [
       "7"
      ]
     },
     "execution_count": 38,
     "metadata": {},
     "output_type": "execute_result"
    }
   ],
   "source": [
    "classifier.n_features_in_"
   ]
  },
  {
   "cell_type": "code",
   "execution_count": 39,
   "metadata": {},
   "outputs": [
    {
     "data": {
      "text/plain": [
       "array([45, 45, 45, 45, 40, 15, 42, 45, 45, 45,  2, 15, 45,  2, 45,  2,  2,\n",
       "       45, 45, 45, 42,  2,  9, 42,  2, 45,  1,  2, 45, 48, 48, 40, 42, 48,\n",
       "       42,  1, 15,  2, 20, 42, 46,  9,  2,  2,  2, 45, 48,  2,  2,  9, 45,\n",
       "       48, 40])"
      ]
     },
     "execution_count": 39,
     "metadata": {},
     "output_type": "execute_result"
    }
   ],
   "source": [
    "classifier.predict(X_test)"
   ]
  },
  {
   "cell_type": "code",
   "execution_count": 40,
   "metadata": {},
   "outputs": [
    {
     "data": {
      "text/plain": [
       "0.18867924528301888"
      ]
     },
     "execution_count": 40,
     "metadata": {},
     "output_type": "execute_result"
    }
   ],
   "source": [
    "sum(classifier.predict(X_test) == y_test) / len(y_test)"
   ]
  }
 ],
 "metadata": {
  "interpreter": {
   "hash": "47727860e9ee911cb8d6f5385e114a585de69c0f2cfbc7560f9a9c5e8f00ed1c"
  },
  "kernelspec": {
   "display_name": "Python 3 (ipykernel)",
   "language": "python",
   "name": "python3"
  },
  "language_info": {
   "codemirror_mode": {
    "name": "ipython",
    "version": 3
   },
   "file_extension": ".py",
   "mimetype": "text/x-python",
   "name": "python",
   "nbconvert_exporter": "python",
   "pygments_lexer": "ipython3",
   "version": "3.9.10"
  }
 },
 "nbformat": 4,
 "nbformat_minor": 2
}
