{
 "cells": [
  {
   "cell_type": "markdown",
   "metadata": {
    "id": "MRDSV4bFc0Ms"
   },
   "source": [
    "# Recommendation System (Random Forest)"
   ]
  },
  {
   "cell_type": "code",
   "execution_count": 9,
   "metadata": {
    "colab": {
     "base_uri": "https://localhost:8080/"
    },
    "id": "K_g7bj333m7_",
    "outputId": "c0012232-2d1d-4881-eddb-ba1bd3a250f0"
   },
   "outputs": [
    {
     "name": "stdout",
     "output_type": "stream",
     "text": [
      "Requirement already satisfied: Sastrawi in d:\\dwike\\skripsi\\venv\\lib\\site-packages (1.0.1)\n"
     ]
    },
    {
     "name": "stderr",
     "output_type": "stream",
     "text": [
      "WARNING: You are using pip version 21.3.1; however, version 22.1.2 is available.\n",
      "You should consider upgrading via the 'D:\\Dwike\\Skripsi\\venv\\Scripts\\python.exe -m pip install --upgrade pip' command.\n"
     ]
    }
   ],
   "source": [
    "!pip install Sastrawi"
   ]
  },
  {
   "cell_type": "code",
   "execution_count": 10,
   "metadata": {
    "colab": {
     "base_uri": "https://localhost:8080/"
    },
    "id": "yVQmJCC2Y-HV",
    "outputId": "5382709b-5d9f-495d-efb9-8ade5b7dc344"
   },
   "outputs": [
    {
     "name": "stderr",
     "output_type": "stream",
     "text": [
      "[nltk_data] Downloading package punkt to\n",
      "[nltk_data]     C:\\Users\\User\\AppData\\Roaming\\nltk_data...\n",
      "[nltk_data]   Package punkt is already up-to-date!\n"
     ]
    },
    {
     "data": {
      "text/plain": [
       "True"
      ]
     },
     "execution_count": 10,
     "metadata": {},
     "output_type": "execute_result"
    }
   ],
   "source": [
    "# import all the libraries\n",
    "import pandas as pd\n",
    "import numpy as np\n",
    "import os\n",
    "import matplotlib.pyplot as plt\n",
    "import re\n",
    "import string\n",
    "\n",
    "from sklearn.model_selection import train_test_split\n",
    "from sklearn.ensemble import RandomForestClassifier\n",
    "from sklearn.feature_extraction.text import TfidfVectorizer, CountVectorizer\n",
    "from sklearn.preprocessing import LabelEncoder, MinMaxScaler\n",
    "from sklearn.pipeline import Pipeline\n",
    "from sklearn.metrics import accuracy_score, classification_report\n",
    "from sklearn.base import BaseEstimator, TransformerMixin\n",
    "\n",
    "# NLTK\n",
    "import nltk\n",
    "from nltk.tokenize import word_tokenize\n",
    "\n",
    "# Sastrawi\n",
    "from Sastrawi.StopWordRemover.StopWordRemoverFactory import StopWordRemoverFactory, StopWordRemover, ArrayDictionary\n",
    "from Sastrawi.Stemmer.StemmerFactory import StemmerFactory\n",
    "\n",
    "\n",
    "import warnings\n",
    "warnings.filterwarnings(\"ignore\")\n",
    "nltk.download(\"punkt\")"
   ]
  },
  {
   "cell_type": "code",
   "execution_count": 11,
   "metadata": {
    "id": "4bMoUR9paQpQ"
   },
   "outputs": [],
   "source": [
    "df = pd.read_excel(\"train.xlsx\")"
   ]
  },
  {
   "cell_type": "code",
   "execution_count": 12,
   "metadata": {
    "colab": {
     "base_uri": "https://localhost:8080/",
     "height": 260
    },
    "id": "C4eRfbt0aXYo",
    "outputId": "fee15896-ca11-4aa7-9454-96857500c6a4"
   },
   "outputs": [
    {
     "data": {
      "text/html": [
       "<div>\n",
       "<style scoped>\n",
       "    .dataframe tbody tr th:only-of-type {\n",
       "        vertical-align: middle;\n",
       "    }\n",
       "\n",
       "    .dataframe tbody tr th {\n",
       "        vertical-align: top;\n",
       "    }\n",
       "\n",
       "    .dataframe thead th {\n",
       "        text-align: right;\n",
       "    }\n",
       "</style>\n",
       "<table border=\"1\" class=\"dataframe\">\n",
       "  <thead>\n",
       "    <tr style=\"text-align: right;\">\n",
       "      <th></th>\n",
       "      <th>no</th>\n",
       "      <th>nama</th>\n",
       "      <th>prodi</th>\n",
       "      <th>minat</th>\n",
       "      <th>bakat</th>\n",
       "      <th>mapel</th>\n",
       "      <th>nilai</th>\n",
       "      <th>ibu</th>\n",
       "      <th>ayah</th>\n",
       "      <th>penghasilan</th>\n",
       "    </tr>\n",
       "  </thead>\n",
       "  <tbody>\n",
       "    <tr>\n",
       "      <th>0</th>\n",
       "      <td>1</td>\n",
       "      <td>DYAH AYU</td>\n",
       "      <td>akuntansi</td>\n",
       "      <td>Minat terhadap aktivitas yang berhubungan deng...</td>\n",
       "      <td>Bakat terhadap aktivitas yang berhubungan deng...</td>\n",
       "      <td>SEJARAH, GEOGRAFI</td>\n",
       "      <td>89</td>\n",
       "      <td>PETANI</td>\n",
       "      <td>Meninggal</td>\n",
       "      <td>golongan 2</td>\n",
       "    </tr>\n",
       "    <tr>\n",
       "      <th>1</th>\n",
       "      <td>2</td>\n",
       "      <td>Muhammad isyak rizqi</td>\n",
       "      <td>teknik informatika</td>\n",
       "      <td>Minat terhadap aktivitas yang berhubungan deng...</td>\n",
       "      <td>Bakat terhadap aktivitas yang berhubungan deng...</td>\n",
       "      <td>komputer</td>\n",
       "      <td>96</td>\n",
       "      <td>WIRAUSAHA</td>\n",
       "      <td>Meninggal</td>\n",
       "      <td>golongan 2</td>\n",
       "    </tr>\n",
       "  </tbody>\n",
       "</table>\n",
       "</div>"
      ],
      "text/plain": [
       "   no                  nama               prodi  \\\n",
       "0   1              DYAH AYU           akuntansi   \n",
       "1   2  Muhammad isyak rizqi  teknik informatika   \n",
       "\n",
       "                                               minat  \\\n",
       "0  Minat terhadap aktivitas yang berhubungan deng...   \n",
       "1  Minat terhadap aktivitas yang berhubungan deng...   \n",
       "\n",
       "                                               bakat              mapel  \\\n",
       "0  Bakat terhadap aktivitas yang berhubungan deng...  SEJARAH, GEOGRAFI   \n",
       "1  Bakat terhadap aktivitas yang berhubungan deng...           komputer   \n",
       "\n",
       "   nilai        ibu       ayah penghasilan  \n",
       "0     89     PETANI  Meninggal  golongan 2  \n",
       "1     96  WIRAUSAHA  Meninggal  golongan 2  "
      ]
     },
     "execution_count": 12,
     "metadata": {},
     "output_type": "execute_result"
    }
   ],
   "source": [
    "df.head(2)"
   ]
  },
  {
   "cell_type": "markdown",
   "metadata": {
    "id": "5Io5hTHSdMdg"
   },
   "source": [
    "* Notice that all the value of categorical columns isn't in standard value for text.\n",
    "\n",
    "* We also going to delete `no` and `nama` columns since its was useless for our model"
   ]
  },
  {
   "cell_type": "code",
   "execution_count": 13,
   "metadata": {
    "id": "UhwLx_CAtSB2"
   },
   "outputs": [],
   "source": [
    "# Drop no and nama\n",
    "df.drop([\"no\", \"nama\"], axis=1, inplace=True)"
   ]
  },
  {
   "cell_type": "markdown",
   "metadata": {
    "id": "QwTMx3kxDvPl"
   },
   "source": [
    "## Text cleaning/Preprocessing"
   ]
  },
  {
   "cell_type": "code",
   "execution_count": 14,
   "metadata": {
    "colab": {
     "base_uri": "https://localhost:8080/"
    },
    "id": "c-Un4JjRtcuJ",
    "outputId": "04905b16-4217-4258-ff4f-9d7729180f8e"
   },
   "outputs": [
    {
     "name": "stdout",
     "output_type": "stream",
     "text": [
      "Index(['prodi', 'minat', 'bakat', 'mapel', 'ibu', 'ayah', 'penghasilan'], dtype='object')\n"
     ]
    }
   ],
   "source": [
    "# select category columns\n",
    "text_cols = df.select_dtypes(exclude=\"int64\").columns\n",
    "print(text_cols)"
   ]
  },
  {
   "cell_type": "markdown",
   "metadata": {
    "id": "w393CpjU6fWY"
   },
   "source": [
    "### Case Folding"
   ]
  },
  {
   "cell_type": "code",
   "execution_count": 15,
   "metadata": {
    "colab": {
     "base_uri": "https://localhost:8080/",
     "height": 240
    },
    "id": "FpG2JFrZ6k29",
    "outputId": "419c3c66-8862-4d52-cbe2-a9299a718456"
   },
   "outputs": [
    {
     "data": {
      "text/html": [
       "<div>\n",
       "<style scoped>\n",
       "    .dataframe tbody tr th:only-of-type {\n",
       "        vertical-align: middle;\n",
       "    }\n",
       "\n",
       "    .dataframe tbody tr th {\n",
       "        vertical-align: top;\n",
       "    }\n",
       "\n",
       "    .dataframe thead th {\n",
       "        text-align: right;\n",
       "    }\n",
       "</style>\n",
       "<table border=\"1\" class=\"dataframe\">\n",
       "  <thead>\n",
       "    <tr style=\"text-align: right;\">\n",
       "      <th></th>\n",
       "      <th>prodi</th>\n",
       "      <th>minat</th>\n",
       "      <th>bakat</th>\n",
       "      <th>mapel</th>\n",
       "      <th>ibu</th>\n",
       "      <th>ayah</th>\n",
       "      <th>penghasilan</th>\n",
       "    </tr>\n",
       "  </thead>\n",
       "  <tbody>\n",
       "    <tr>\n",
       "      <th>0</th>\n",
       "      <td>akuntansi</td>\n",
       "      <td>minat terhadap aktivitas yang berhubungan deng...</td>\n",
       "      <td>bakat terhadap aktivitas yang berhubungan deng...</td>\n",
       "      <td>sejarah, geografi</td>\n",
       "      <td>petani</td>\n",
       "      <td>meninggal</td>\n",
       "      <td>golongan 2</td>\n",
       "    </tr>\n",
       "    <tr>\n",
       "      <th>1</th>\n",
       "      <td>teknik informatika</td>\n",
       "      <td>minat terhadap aktivitas yang berhubungan deng...</td>\n",
       "      <td>bakat terhadap aktivitas yang berhubungan deng...</td>\n",
       "      <td>komputer</td>\n",
       "      <td>wirausaha</td>\n",
       "      <td>meninggal</td>\n",
       "      <td>golongan 2</td>\n",
       "    </tr>\n",
       "    <tr>\n",
       "      <th>2</th>\n",
       "      <td>teknik informatika</td>\n",
       "      <td>minat terhadap aktivitas yang berhubungan deng...</td>\n",
       "      <td>bakat terhadap aktivitas yang berhubungan deng...</td>\n",
       "      <td>biologi, bahasa inggris, bahasa indonesia</td>\n",
       "      <td>ibu rumah tangga</td>\n",
       "      <td>petani</td>\n",
       "      <td>golongan 2</td>\n",
       "    </tr>\n",
       "  </tbody>\n",
       "</table>\n",
       "</div>"
      ],
      "text/plain": [
       "                prodi                                              minat  \\\n",
       "0           akuntansi  minat terhadap aktivitas yang berhubungan deng...   \n",
       "1  teknik informatika  minat terhadap aktivitas yang berhubungan deng...   \n",
       "2  teknik informatika  minat terhadap aktivitas yang berhubungan deng...   \n",
       "\n",
       "                                               bakat  \\\n",
       "0  bakat terhadap aktivitas yang berhubungan deng...   \n",
       "1  bakat terhadap aktivitas yang berhubungan deng...   \n",
       "2  bakat terhadap aktivitas yang berhubungan deng...   \n",
       "\n",
       "                                       mapel               ibu       ayah  \\\n",
       "0                          sejarah, geografi            petani  meninggal   \n",
       "1                                   komputer         wirausaha  meninggal   \n",
       "2  biologi, bahasa inggris, bahasa indonesia  ibu rumah tangga     petani   \n",
       "\n",
       "  penghasilan  \n",
       "0  golongan 2  \n",
       "1  golongan 2  \n",
       "2  golongan 2  "
      ]
     },
     "metadata": {},
     "output_type": "display_data"
    }
   ],
   "source": [
    "# 1.lowercase\n",
    "def lowercase(text):\n",
    "  return text.lower()\n",
    "\n",
    "for col in text_cols:\n",
    "  df[col] = df[col].apply(lowercase)\n",
    "\n",
    "display(df[text_cols].head(3))"
   ]
  },
  {
   "cell_type": "code",
   "execution_count": 16,
   "metadata": {
    "id": "aRNcdbH-0VXo"
   },
   "outputs": [],
   "source": [
    "# 2. Removing numbers (excluding: penghasilan)\n",
    "def remove_numbers(text):\n",
    "  text = re.sub(r\"\\d+\", \"\", text)\n",
    "  return text\n",
    "\n",
    "for col in text_cols[:-1]: # excluding penghasilan\n",
    "  df[col] = df[col].apply(remove_numbers)"
   ]
  },
  {
   "cell_type": "code",
   "execution_count": 17,
   "metadata": {
    "id": "sGre6xvIBLMk"
   },
   "outputs": [],
   "source": [
    "# 3. Removing punctation\n",
    "def remove_punctation(text):\n",
    "  text = text.translate(str.maketrans(\"\",\"\",string.punctuation))\n",
    "  return text\n",
    "\n",
    "for col in text_cols:\n",
    "  df[col] = df[col].apply(remove_punctation)"
   ]
  },
  {
   "cell_type": "code",
   "execution_count": 18,
   "metadata": {
    "id": "Yfl4a6UsB-zE"
   },
   "outputs": [],
   "source": [
    "# 4. Removing all whitespace\n",
    "for col in text_cols:\n",
    "  df[col] = df[col].str.strip()"
   ]
  },
  {
   "cell_type": "code",
   "execution_count": 19,
   "metadata": {
    "colab": {
     "base_uri": "https://localhost:8080/",
     "height": 406
    },
    "id": "ggEi_yRHCIp8",
    "outputId": "4951f504-b704-4f0b-ff09-8cd3f9475a74"
   },
   "outputs": [
    {
     "data": {
      "text/html": [
       "<div>\n",
       "<style scoped>\n",
       "    .dataframe tbody tr th:only-of-type {\n",
       "        vertical-align: middle;\n",
       "    }\n",
       "\n",
       "    .dataframe tbody tr th {\n",
       "        vertical-align: top;\n",
       "    }\n",
       "\n",
       "    .dataframe thead th {\n",
       "        text-align: right;\n",
       "    }\n",
       "</style>\n",
       "<table border=\"1\" class=\"dataframe\">\n",
       "  <thead>\n",
       "    <tr style=\"text-align: right;\">\n",
       "      <th></th>\n",
       "      <th>prodi</th>\n",
       "      <th>minat</th>\n",
       "      <th>bakat</th>\n",
       "      <th>mapel</th>\n",
       "      <th>nilai</th>\n",
       "      <th>ibu</th>\n",
       "      <th>ayah</th>\n",
       "      <th>penghasilan</th>\n",
       "    </tr>\n",
       "  </thead>\n",
       "  <tbody>\n",
       "    <tr>\n",
       "      <th>0</th>\n",
       "      <td>akuntansi</td>\n",
       "      <td>minat terhadap aktivitas yang berhubungan deng...</td>\n",
       "      <td>bakat terhadap aktivitas yang berhubungan deng...</td>\n",
       "      <td>sejarah geografi</td>\n",
       "      <td>89</td>\n",
       "      <td>petani</td>\n",
       "      <td>meninggal</td>\n",
       "      <td>golongan 2</td>\n",
       "    </tr>\n",
       "    <tr>\n",
       "      <th>1</th>\n",
       "      <td>teknik informatika</td>\n",
       "      <td>minat terhadap aktivitas yang berhubungan deng...</td>\n",
       "      <td>bakat terhadap aktivitas yang berhubungan deng...</td>\n",
       "      <td>komputer</td>\n",
       "      <td>96</td>\n",
       "      <td>wirausaha</td>\n",
       "      <td>meninggal</td>\n",
       "      <td>golongan 2</td>\n",
       "    </tr>\n",
       "    <tr>\n",
       "      <th>2</th>\n",
       "      <td>teknik informatika</td>\n",
       "      <td>minat terhadap aktivitas yang berhubungan deng...</td>\n",
       "      <td>bakat terhadap aktivitas yang berhubungan deng...</td>\n",
       "      <td>biologi bahasa inggris bahasa indonesia</td>\n",
       "      <td>96</td>\n",
       "      <td>ibu rumah tangga</td>\n",
       "      <td>petani</td>\n",
       "      <td>golongan 2</td>\n",
       "    </tr>\n",
       "    <tr>\n",
       "      <th>3</th>\n",
       "      <td>teknik elektro</td>\n",
       "      <td>minat terhadap aktivitas yang berkaitan dengan...</td>\n",
       "      <td>bakat terhadap aktivitas yang berkaitan dengan...</td>\n",
       "      <td>mtk</td>\n",
       "      <td>91</td>\n",
       "      <td>karyawan swasta</td>\n",
       "      <td>karyawan swasta</td>\n",
       "      <td>golongan 5</td>\n",
       "    </tr>\n",
       "    <tr>\n",
       "      <th>4</th>\n",
       "      <td>teknik informatika</td>\n",
       "      <td>minat terhadap aktivitas yang berhubungan deng...</td>\n",
       "      <td>bakat terhadap aktivitas yang berhubungan deng...</td>\n",
       "      <td>bahasa inggris bahasa indonesia sejarah</td>\n",
       "      <td>96</td>\n",
       "      <td>ibu rumah tangga</td>\n",
       "      <td>pns</td>\n",
       "      <td>golongan 5</td>\n",
       "    </tr>\n",
       "  </tbody>\n",
       "</table>\n",
       "</div>"
      ],
      "text/plain": [
       "                prodi                                              minat  \\\n",
       "0           akuntansi  minat terhadap aktivitas yang berhubungan deng...   \n",
       "1  teknik informatika  minat terhadap aktivitas yang berhubungan deng...   \n",
       "2  teknik informatika  minat terhadap aktivitas yang berhubungan deng...   \n",
       "3      teknik elektro  minat terhadap aktivitas yang berkaitan dengan...   \n",
       "4  teknik informatika  minat terhadap aktivitas yang berhubungan deng...   \n",
       "\n",
       "                                               bakat  \\\n",
       "0  bakat terhadap aktivitas yang berhubungan deng...   \n",
       "1  bakat terhadap aktivitas yang berhubungan deng...   \n",
       "2  bakat terhadap aktivitas yang berhubungan deng...   \n",
       "3  bakat terhadap aktivitas yang berkaitan dengan...   \n",
       "4  bakat terhadap aktivitas yang berhubungan deng...   \n",
       "\n",
       "                                     mapel  nilai               ibu  \\\n",
       "0                         sejarah geografi     89            petani   \n",
       "1                                 komputer     96         wirausaha   \n",
       "2  biologi bahasa inggris bahasa indonesia     96  ibu rumah tangga   \n",
       "3                                      mtk     91   karyawan swasta   \n",
       "4  bahasa inggris bahasa indonesia sejarah     96  ibu rumah tangga   \n",
       "\n",
       "              ayah penghasilan  \n",
       "0        meninggal  golongan 2  \n",
       "1        meninggal  golongan 2  \n",
       "2           petani  golongan 2  \n",
       "3  karyawan swasta  golongan 5  \n",
       "4              pns  golongan 5  "
      ]
     },
     "metadata": {},
     "output_type": "display_data"
    }
   ],
   "source": [
    "display(df.head())"
   ]
  },
  {
   "cell_type": "markdown",
   "metadata": {
    "id": "VgXzk_EyGVH-"
   },
   "source": [
    "### Tokenizing"
   ]
  },
  {
   "cell_type": "code",
   "execution_count": 20,
   "metadata": {
    "colab": {
     "base_uri": "https://localhost:8080/"
    },
    "id": "QfV16ZCQGXjk",
    "outputId": "a7b83888-eba4-45c3-b664-fe7ab660065d"
   },
   "outputs": [
    {
     "name": "stdout",
     "output_type": "stream",
     "text": [
      "['minat', 'terhadap', 'aktivitas', 'yang', 'berhubungan', 'dengan', 'tugastugas', 'rutin', 'yang', 'memerlukan', 'ketelitian', 'dan', 'ketepatan', 'dalam', 'perhitungan']\n"
     ]
    }
   ],
   "source": [
    "from nltk.tokenize import word_tokenize\n",
    "import nltk\n",
    "\n",
    "minat_1 = df[\"minat\"][0]\n",
    "\n",
    "minat_tokenizer = nltk.tokenize.word_tokenize(minat_1)\n",
    "print(minat_tokenizer)"
   ]
  },
  {
   "cell_type": "code",
   "execution_count": 21,
   "metadata": {
    "id": "xB4u_ROBYJFJ"
   },
   "outputs": [],
   "source": [
    "# implement tokenizer\n",
    "def tokenizer(text):\n",
    "  text = nltk.tokenize.word_tokenize(text)\n",
    "  text = str.join(\" \", text)\n",
    "  return text\n",
    "\n",
    "for col in text_cols:\n",
    "  df[col] = df[col].apply(tokenizer)"
   ]
  },
  {
   "cell_type": "code",
   "execution_count": 22,
   "metadata": {
    "colab": {
     "base_uri": "https://localhost:8080/",
     "height": 191
    },
    "id": "lmplmKeYgR8t",
    "outputId": "0757a3ae-8fe1-4abf-96fc-cf08c3a16746",
    "scrolled": true
   },
   "outputs": [
    {
     "data": {
      "text/html": [
       "<div>\n",
       "<style scoped>\n",
       "    .dataframe tbody tr th:only-of-type {\n",
       "        vertical-align: middle;\n",
       "    }\n",
       "\n",
       "    .dataframe tbody tr th {\n",
       "        vertical-align: top;\n",
       "    }\n",
       "\n",
       "    .dataframe thead th {\n",
       "        text-align: right;\n",
       "    }\n",
       "</style>\n",
       "<table border=\"1\" class=\"dataframe\">\n",
       "  <thead>\n",
       "    <tr style=\"text-align: right;\">\n",
       "      <th></th>\n",
       "      <th>prodi</th>\n",
       "      <th>minat</th>\n",
       "      <th>bakat</th>\n",
       "      <th>mapel</th>\n",
       "      <th>nilai</th>\n",
       "      <th>ibu</th>\n",
       "      <th>ayah</th>\n",
       "      <th>penghasilan</th>\n",
       "    </tr>\n",
       "  </thead>\n",
       "  <tbody>\n",
       "    <tr>\n",
       "      <th>0</th>\n",
       "      <td>akuntansi</td>\n",
       "      <td>minat terhadap aktivitas yang berhubungan deng...</td>\n",
       "      <td>bakat terhadap aktivitas yang berhubungan deng...</td>\n",
       "      <td>sejarah geografi</td>\n",
       "      <td>89</td>\n",
       "      <td>petani</td>\n",
       "      <td>meninggal</td>\n",
       "      <td>golongan 2</td>\n",
       "    </tr>\n",
       "    <tr>\n",
       "      <th>1</th>\n",
       "      <td>teknik informatika</td>\n",
       "      <td>minat terhadap aktivitas yang berhubungan deng...</td>\n",
       "      <td>bakat terhadap aktivitas yang berhubungan deng...</td>\n",
       "      <td>komputer</td>\n",
       "      <td>96</td>\n",
       "      <td>wirausaha</td>\n",
       "      <td>meninggal</td>\n",
       "      <td>golongan 2</td>\n",
       "    </tr>\n",
       "  </tbody>\n",
       "</table>\n",
       "</div>"
      ],
      "text/plain": [
       "                prodi                                              minat  \\\n",
       "0           akuntansi  minat terhadap aktivitas yang berhubungan deng...   \n",
       "1  teknik informatika  minat terhadap aktivitas yang berhubungan deng...   \n",
       "\n",
       "                                               bakat             mapel  nilai  \\\n",
       "0  bakat terhadap aktivitas yang berhubungan deng...  sejarah geografi     89   \n",
       "1  bakat terhadap aktivitas yang berhubungan deng...          komputer     96   \n",
       "\n",
       "         ibu       ayah penghasilan  \n",
       "0     petani  meninggal  golongan 2  \n",
       "1  wirausaha  meninggal  golongan 2  "
      ]
     },
     "execution_count": 22,
     "metadata": {},
     "output_type": "execute_result"
    }
   ],
   "source": [
    "df.head(2)"
   ]
  },
  {
   "cell_type": "markdown",
   "metadata": {
    "id": "9PyDxZrHEZ5S"
   },
   "source": [
    "### Filtering(Stop words remover)\n",
    "stopword dengan sastrawi"
   ]
  },
  {
   "cell_type": "code",
   "execution_count": 23,
   "metadata": {
    "colab": {
     "base_uri": "https://localhost:8080/"
    },
    "id": "MJEIqUQeEZic",
    "outputId": "b46cc80b-7a73-44c8-e41c-392b1baa46d9"
   },
   "outputs": [
    {
     "name": "stdout",
     "output_type": "stream",
     "text": [
      "['yang', 'untuk', 'pada', 'ke', 'para', 'namun', 'menurut', 'antara', 'dia', 'dua', 'ia', 'seperti', 'jika', 'jika', 'sehingga', 'kembali', 'dan', 'tidak', 'ini', 'karena', 'kepada', 'oleh', 'saat', 'harus', 'sementara', 'setelah', 'belum', 'kami', 'sekitar', 'bagi', 'serta', 'di', 'dari', 'telah', 'sebagai', 'masih', 'hal', 'ketika', 'adalah', 'itu', 'dalam', 'bisa', 'bahwa', 'atau', 'hanya', 'kita', 'dengan', 'akan', 'juga', 'ada', 'mereka', 'sudah', 'saya', 'terhadap', 'secara', 'agar', 'lain', 'anda', 'begitu', 'mengapa', 'kenapa', 'yaitu', 'yakni', 'daripada', 'itulah', 'lagi', 'maka', 'tentang', 'demi', 'dimana', 'kemana', 'pula', 'sambil', 'sebelum', 'sesudah', 'supaya', 'guna', 'kah', 'pun', 'sampai', 'sedangkan', 'selagi', 'sementara', 'tetapi', 'apakah', 'kecuali', 'sebab', 'selain', 'seolah', 'seraya', 'seterusnya', 'tanpa', 'agak', 'boleh', 'dapat', 'dsb', 'dst', 'dll', 'dahulu', 'dulunya', 'anu', 'demikian', 'tapi', 'ingin', 'juga', 'nggak', 'mari', 'nanti', 'melainkan', 'oh', 'ok', 'seharusnya', 'sebetulnya', 'setiap', 'setidaknya', 'sesuatu', 'pasti', 'saja', 'toh', 'ya', 'walau', 'tolong', 'tentu', 'amat', 'apalagi', 'bagaimanapun']\n"
     ]
    }
   ],
   "source": [
    "from Sastrawi.StopWordRemover.StopWordRemoverFactory import StopWordRemoverFactory\n",
    "\n",
    "factory = StopWordRemoverFactory()\n",
    "stopwords = factory.get_stop_words()\n",
    "print(stopwords)"
   ]
  },
  {
   "cell_type": "code",
   "execution_count": 24,
   "metadata": {
    "id": "SXtdyZXkFXKv"
   },
   "outputs": [],
   "source": [
    "# Removing all the stopwords\n",
    "stopwords = factory.create_stop_word_remover()\n",
    "\n",
    "def filtering(text):\n",
    "  text = stopwords.remove(text)\n",
    "  return text\n",
    "\n",
    "for col in text_cols:\n",
    "  df[col] = df[col].apply(filtering)"
   ]
  },
  {
   "cell_type": "code",
   "execution_count": 25,
   "metadata": {
    "id": "X2J_T6MPgWWs"
   },
   "outputs": [],
   "source": [
    "#df = df.sort_values([\"prodi\"])"
   ]
  },
  {
   "cell_type": "code",
   "execution_count": 26,
   "metadata": {
    "colab": {
     "base_uri": "https://localhost:8080/",
     "height": 226
    },
    "id": "6gO0jExAgtgA",
    "outputId": "f25046a3-2fd7-47a8-b444-033e28f4f865"
   },
   "outputs": [
    {
     "data": {
      "text/html": [
       "<div>\n",
       "<style scoped>\n",
       "    .dataframe tbody tr th:only-of-type {\n",
       "        vertical-align: middle;\n",
       "    }\n",
       "\n",
       "    .dataframe tbody tr th {\n",
       "        vertical-align: top;\n",
       "    }\n",
       "\n",
       "    .dataframe thead th {\n",
       "        text-align: right;\n",
       "    }\n",
       "</style>\n",
       "<table border=\"1\" class=\"dataframe\">\n",
       "  <thead>\n",
       "    <tr style=\"text-align: right;\">\n",
       "      <th></th>\n",
       "      <th>prodi</th>\n",
       "      <th>minat</th>\n",
       "      <th>bakat</th>\n",
       "      <th>mapel</th>\n",
       "      <th>nilai</th>\n",
       "      <th>ibu</th>\n",
       "      <th>ayah</th>\n",
       "      <th>penghasilan</th>\n",
       "    </tr>\n",
       "  </thead>\n",
       "  <tbody>\n",
       "    <tr>\n",
       "      <th>0</th>\n",
       "      <td>akuntansi</td>\n",
       "      <td>minat aktivitas berhubungan tugastugas rutin m...</td>\n",
       "      <td>bakat aktivitas berhubungan tugastugas rutin m...</td>\n",
       "      <td>sejarah geografi</td>\n",
       "      <td>89</td>\n",
       "      <td>petani</td>\n",
       "      <td>meninggal</td>\n",
       "      <td>golongan 2</td>\n",
       "    </tr>\n",
       "    <tr>\n",
       "      <th>1</th>\n",
       "      <td>teknik informatika</td>\n",
       "      <td>minat aktivitas berhubungan tugastugas rutin m...</td>\n",
       "      <td>bakat aktivitas berhubungan tugastugas rutin m...</td>\n",
       "      <td>komputer</td>\n",
       "      <td>96</td>\n",
       "      <td>wirausaha</td>\n",
       "      <td>meninggal</td>\n",
       "      <td>golongan 2</td>\n",
       "    </tr>\n",
       "  </tbody>\n",
       "</table>\n",
       "</div>"
      ],
      "text/plain": [
       "                prodi                                              minat  \\\n",
       "0           akuntansi  minat aktivitas berhubungan tugastugas rutin m...   \n",
       "1  teknik informatika  minat aktivitas berhubungan tugastugas rutin m...   \n",
       "\n",
       "                                               bakat             mapel  nilai  \\\n",
       "0  bakat aktivitas berhubungan tugastugas rutin m...  sejarah geografi     89   \n",
       "1  bakat aktivitas berhubungan tugastugas rutin m...          komputer     96   \n",
       "\n",
       "         ibu       ayah penghasilan  \n",
       "0     petani  meninggal  golongan 2  \n",
       "1  wirausaha  meninggal  golongan 2  "
      ]
     },
     "execution_count": 26,
     "metadata": {},
     "output_type": "execute_result"
    }
   ],
   "source": [
    "df.head(2)"
   ]
  },
  {
   "cell_type": "markdown",
   "metadata": {
    "id": "iBaJww-NDnrj"
   },
   "source": [
    "### LabelEncoder(Prodi,Ibu,Ayah,Penghasilan)"
   ]
  },
  {
   "cell_type": "code",
   "execution_count": 27,
   "metadata": {
    "id": "pFgqUrOQEKHS"
   },
   "outputs": [],
   "source": [
    "cols = [\"prodi\", \"ibu\", \"ayah\", \"penghasilan\"]\n",
    "le = LabelEncoder()\n",
    "\n",
    "for col in cols:\n",
    "  le.fit(df[col])\n",
    "  df[col] = le.transform(df[col])"
   ]
  },
  {
   "cell_type": "code",
   "execution_count": 28,
   "metadata": {
    "colab": {
     "base_uri": "https://localhost:8080/",
     "height": 191
    },
    "id": "gieza8UyDTyP",
    "outputId": "fdd2f2ad-40a2-4fa8-b769-5720405d0881"
   },
   "outputs": [
    {
     "data": {
      "text/html": [
       "<div>\n",
       "<style scoped>\n",
       "    .dataframe tbody tr th:only-of-type {\n",
       "        vertical-align: middle;\n",
       "    }\n",
       "\n",
       "    .dataframe tbody tr th {\n",
       "        vertical-align: top;\n",
       "    }\n",
       "\n",
       "    .dataframe thead th {\n",
       "        text-align: right;\n",
       "    }\n",
       "</style>\n",
       "<table border=\"1\" class=\"dataframe\">\n",
       "  <thead>\n",
       "    <tr style=\"text-align: right;\">\n",
       "      <th></th>\n",
       "      <th>prodi</th>\n",
       "      <th>minat</th>\n",
       "      <th>bakat</th>\n",
       "      <th>mapel</th>\n",
       "      <th>nilai</th>\n",
       "      <th>ibu</th>\n",
       "      <th>ayah</th>\n",
       "      <th>penghasilan</th>\n",
       "    </tr>\n",
       "  </thead>\n",
       "  <tbody>\n",
       "    <tr>\n",
       "      <th>0</th>\n",
       "      <td>2</td>\n",
       "      <td>minat aktivitas berhubungan tugastugas rutin m...</td>\n",
       "      <td>bakat aktivitas berhubungan tugastugas rutin m...</td>\n",
       "      <td>sejarah geografi</td>\n",
       "      <td>89</td>\n",
       "      <td>5</td>\n",
       "      <td>3</td>\n",
       "      <td>1</td>\n",
       "    </tr>\n",
       "    <tr>\n",
       "      <th>1</th>\n",
       "      <td>38</td>\n",
       "      <td>minat aktivitas berhubungan tugastugas rutin m...</td>\n",
       "      <td>bakat aktivitas berhubungan tugastugas rutin m...</td>\n",
       "      <td>komputer</td>\n",
       "      <td>96</td>\n",
       "      <td>8</td>\n",
       "      <td>3</td>\n",
       "      <td>1</td>\n",
       "    </tr>\n",
       "  </tbody>\n",
       "</table>\n",
       "</div>"
      ],
      "text/plain": [
       "   prodi                                              minat  \\\n",
       "0      2  minat aktivitas berhubungan tugastugas rutin m...   \n",
       "1     38  minat aktivitas berhubungan tugastugas rutin m...   \n",
       "\n",
       "                                               bakat             mapel  nilai  \\\n",
       "0  bakat aktivitas berhubungan tugastugas rutin m...  sejarah geografi     89   \n",
       "1  bakat aktivitas berhubungan tugastugas rutin m...          komputer     96   \n",
       "\n",
       "   ibu  ayah  penghasilan  \n",
       "0    5     3            1  \n",
       "1    8     3            1  "
      ]
     },
     "execution_count": 28,
     "metadata": {},
     "output_type": "execute_result"
    }
   ],
   "source": [
    "df.head(2)"
   ]
  },
  {
   "cell_type": "markdown",
   "metadata": {
    "id": "NngqrVV7EQJx"
   },
   "source": [
    "### TfIdf Vectorizer(Minat,Bakat,Mapel)"
   ]
  },
  {
   "cell_type": "code",
   "execution_count": 29,
   "metadata": {
    "id": "kr6pnwADEZOA"
   },
   "outputs": [],
   "source": [
    "cols = [\"minat\", \"bakat\", \"mapel\"]\n",
    "vectorizer = TfidfVectorizer()\n",
    "for col in cols:\n",
    "  vectorizer.fit(df[col])\n",
    "  df[col] = vectorizer.transform(df[col]).toarray()"
   ]
  },
  {
   "cell_type": "code",
   "execution_count": 30,
   "metadata": {
    "colab": {
     "base_uri": "https://localhost:8080/",
     "height": 112
    },
    "id": "4wMm8D9NDYof",
    "outputId": "90d0af49-20ee-49f2-e349-d5faeaf770f6",
    "scrolled": true
   },
   "outputs": [
    {
     "data": {
      "text/html": [
       "<div>\n",
       "<style scoped>\n",
       "    .dataframe tbody tr th:only-of-type {\n",
       "        vertical-align: middle;\n",
       "    }\n",
       "\n",
       "    .dataframe tbody tr th {\n",
       "        vertical-align: top;\n",
       "    }\n",
       "\n",
       "    .dataframe thead th {\n",
       "        text-align: right;\n",
       "    }\n",
       "</style>\n",
       "<table border=\"1\" class=\"dataframe\">\n",
       "  <thead>\n",
       "    <tr style=\"text-align: right;\">\n",
       "      <th></th>\n",
       "      <th>prodi</th>\n",
       "      <th>minat</th>\n",
       "      <th>bakat</th>\n",
       "      <th>mapel</th>\n",
       "      <th>nilai</th>\n",
       "      <th>ibu</th>\n",
       "      <th>ayah</th>\n",
       "      <th>penghasilan</th>\n",
       "    </tr>\n",
       "  </thead>\n",
       "  <tbody>\n",
       "    <tr>\n",
       "      <th>0</th>\n",
       "      <td>2</td>\n",
       "      <td>0.20106</td>\n",
       "      <td>0.199390</td>\n",
       "      <td>0.0</td>\n",
       "      <td>89</td>\n",
       "      <td>5</td>\n",
       "      <td>3</td>\n",
       "      <td>1</td>\n",
       "    </tr>\n",
       "    <tr>\n",
       "      <th>1</th>\n",
       "      <td>38</td>\n",
       "      <td>0.22605</td>\n",
       "      <td>0.181181</td>\n",
       "      <td>0.0</td>\n",
       "      <td>96</td>\n",
       "      <td>8</td>\n",
       "      <td>3</td>\n",
       "      <td>1</td>\n",
       "    </tr>\n",
       "  </tbody>\n",
       "</table>\n",
       "</div>"
      ],
      "text/plain": [
       "   prodi    minat     bakat  mapel  nilai  ibu  ayah  penghasilan\n",
       "0      2  0.20106  0.199390    0.0     89    5     3            1\n",
       "1     38  0.22605  0.181181    0.0     96    8     3            1"
      ]
     },
     "execution_count": 30,
     "metadata": {},
     "output_type": "execute_result"
    }
   ],
   "source": [
    "df.head(2)"
   ]
  },
  {
   "cell_type": "markdown",
   "metadata": {
    "id": "ISziKXeng-dX"
   },
   "source": [
    "### Scalling with MinMaxScaler"
   ]
  },
  {
   "cell_type": "code",
   "execution_count": 31,
   "metadata": {
    "colab": {
     "base_uri": "https://localhost:8080/"
    },
    "id": "rCStnHEChHu1",
    "outputId": "58cbb005-e0b3-43e0-f034-76f2d790e210"
   },
   "outputs": [
    {
     "data": {
      "text/plain": [
       "MinMaxScaler()"
      ]
     },
     "execution_count": 31,
     "metadata": {},
     "output_type": "execute_result"
    }
   ],
   "source": [
    "from sklearn.preprocessing import MinMaxScaler\n",
    "cols = [\"nilai\",\"ibu\",\"ayah\",\"penghasilan\"]\n",
    "scaler = MinMaxScaler()\n",
    "scaler.fit(df[cols])"
   ]
  },
  {
   "cell_type": "code",
   "execution_count": 32,
   "metadata": {
    "id": "nmyt-HLhhTOr"
   },
   "outputs": [],
   "source": [
    "df[cols] = scaler.transform(df[cols])"
   ]
  },
  {
   "cell_type": "code",
   "execution_count": 33,
   "metadata": {
    "colab": {
     "base_uri": "https://localhost:8080/",
     "height": 112
    },
    "id": "3pArJvPYhXTV",
    "outputId": "900b9fe3-e38b-469c-cee0-a4bc40a2bae6"
   },
   "outputs": [
    {
     "data": {
      "text/html": [
       "<div>\n",
       "<style scoped>\n",
       "    .dataframe tbody tr th:only-of-type {\n",
       "        vertical-align: middle;\n",
       "    }\n",
       "\n",
       "    .dataframe tbody tr th {\n",
       "        vertical-align: top;\n",
       "    }\n",
       "\n",
       "    .dataframe thead th {\n",
       "        text-align: right;\n",
       "    }\n",
       "</style>\n",
       "<table border=\"1\" class=\"dataframe\">\n",
       "  <thead>\n",
       "    <tr style=\"text-align: right;\">\n",
       "      <th></th>\n",
       "      <th>prodi</th>\n",
       "      <th>minat</th>\n",
       "      <th>bakat</th>\n",
       "      <th>mapel</th>\n",
       "      <th>nilai</th>\n",
       "      <th>ibu</th>\n",
       "      <th>ayah</th>\n",
       "      <th>penghasilan</th>\n",
       "    </tr>\n",
       "  </thead>\n",
       "  <tbody>\n",
       "    <tr>\n",
       "      <th>0</th>\n",
       "      <td>2</td>\n",
       "      <td>0.20106</td>\n",
       "      <td>0.0</td>\n",
       "      <td>0.0</td>\n",
       "      <td>0.927083</td>\n",
       "      <td>0.625</td>\n",
       "      <td>0.333333</td>\n",
       "      <td>0.142857</td>\n",
       "    </tr>\n",
       "    <tr>\n",
       "      <th>1</th>\n",
       "      <td>38</td>\n",
       "      <td>0.22605</td>\n",
       "      <td>0.0</td>\n",
       "      <td>0.0</td>\n",
       "      <td>1.000000</td>\n",
       "      <td>1.000</td>\n",
       "      <td>0.333333</td>\n",
       "      <td>0.142857</td>\n",
       "    </tr>\n",
       "  </tbody>\n",
       "</table>\n",
       "</div>"
      ],
      "text/plain": [
       "   prodi    minat  bakat  mapel     nilai    ibu      ayah  penghasilan\n",
       "0      2  0.20106    0.0    0.0  0.927083  0.625  0.333333     0.142857\n",
       "1     38  0.22605    0.0    0.0  1.000000  1.000  0.333333     0.142857"
      ]
     },
     "execution_count": 33,
     "metadata": {},
     "output_type": "execute_result"
    }
   ],
   "source": [
    "df.head(2)"
   ]
  },
  {
   "cell_type": "markdown",
   "metadata": {
    "id": "zJSA3G3lFBBN"
   },
   "source": [
    "## Modelling(RandomForest)"
   ]
  },
  {
   "cell_type": "code",
   "execution_count": 34,
   "metadata": {
    "colab": {
     "base_uri": "https://localhost:8080/",
     "height": 112
    },
    "id": "6kgUQjkYF6SD",
    "outputId": "d2368c43-d046-478b-d74b-99436fa374ee"
   },
   "outputs": [
    {
     "data": {
      "text/html": [
       "<div>\n",
       "<style scoped>\n",
       "    .dataframe tbody tr th:only-of-type {\n",
       "        vertical-align: middle;\n",
       "    }\n",
       "\n",
       "    .dataframe tbody tr th {\n",
       "        vertical-align: top;\n",
       "    }\n",
       "\n",
       "    .dataframe thead th {\n",
       "        text-align: right;\n",
       "    }\n",
       "</style>\n",
       "<table border=\"1\" class=\"dataframe\">\n",
       "  <thead>\n",
       "    <tr style=\"text-align: right;\">\n",
       "      <th></th>\n",
       "      <th>prodi</th>\n",
       "      <th>minat</th>\n",
       "      <th>bakat</th>\n",
       "      <th>mapel</th>\n",
       "      <th>nilai</th>\n",
       "      <th>ibu</th>\n",
       "      <th>ayah</th>\n",
       "      <th>penghasilan</th>\n",
       "    </tr>\n",
       "  </thead>\n",
       "  <tbody>\n",
       "    <tr>\n",
       "      <th>0</th>\n",
       "      <td>2</td>\n",
       "      <td>0.20106</td>\n",
       "      <td>0.0</td>\n",
       "      <td>0.0</td>\n",
       "      <td>0.927083</td>\n",
       "      <td>0.625</td>\n",
       "      <td>0.333333</td>\n",
       "      <td>0.142857</td>\n",
       "    </tr>\n",
       "    <tr>\n",
       "      <th>1</th>\n",
       "      <td>38</td>\n",
       "      <td>0.22605</td>\n",
       "      <td>0.0</td>\n",
       "      <td>0.0</td>\n",
       "      <td>1.000000</td>\n",
       "      <td>1.000</td>\n",
       "      <td>0.333333</td>\n",
       "      <td>0.142857</td>\n",
       "    </tr>\n",
       "  </tbody>\n",
       "</table>\n",
       "</div>"
      ],
      "text/plain": [
       "   prodi    minat  bakat  mapel     nilai    ibu      ayah  penghasilan\n",
       "0      2  0.20106    0.0    0.0  0.927083  0.625  0.333333     0.142857\n",
       "1     38  0.22605    0.0    0.0  1.000000  1.000  0.333333     0.142857"
      ]
     },
     "execution_count": 34,
     "metadata": {},
     "output_type": "execute_result"
    }
   ],
   "source": [
    "df.head(2)"
   ]
  },
  {
   "cell_type": "markdown",
   "metadata": {
    "id": "ehv25CY4HaTQ"
   },
   "source": [
    "### Feature and Target"
   ]
  },
  {
   "cell_type": "code",
   "execution_count": 35,
   "metadata": {
    "id": "82nIbalyFOmC"
   },
   "outputs": [],
   "source": [
    "X = df.drop([\"prodi\"], axis=1)\n",
    "y = df[\"prodi\"]"
   ]
  },
  {
   "cell_type": "markdown",
   "metadata": {
    "id": "G4Nt-bm4F2JF"
   },
   "source": [
    "* let's check the proportion of the target first"
   ]
  },
  {
   "cell_type": "code",
   "execution_count": 36,
   "metadata": {
    "colab": {
     "base_uri": "https://localhost:8080/"
    },
    "id": "LkxaK5PxGC-8",
    "outputId": "70f2fcf4-d792-4168-c99f-856f86cf18fe"
   },
   "outputs": [
    {
     "data": {
      "text/plain": [
       "38    24\n",
       "2     12\n",
       "42     9\n",
       "9      8\n",
       "36     7\n",
       "34     7\n",
       "19     6\n",
       "17     6\n",
       "12     4\n",
       "7      3\n",
       "23     3\n",
       "4      3\n",
       "37     3\n",
       "32     3\n",
       "22     2\n",
       "44     2\n",
       "30     2\n",
       "41     2\n",
       "39     2\n",
       "25     2\n",
       "31     2\n",
       "27     2\n",
       "16     2\n",
       "33     1\n",
       "1      1\n",
       "3      1\n",
       "28     1\n",
       "21     1\n",
       "5      1\n",
       "29     1\n",
       "14     1\n",
       "35     1\n",
       "8      1\n",
       "43     1\n",
       "10     1\n",
       "6      1\n",
       "11     1\n",
       "18     1\n",
       "13     1\n",
       "26     1\n",
       "40     1\n",
       "0      1\n",
       "15     1\n",
       "20     1\n",
       "24     1\n",
       "Name: prodi, dtype: int64"
      ]
     },
     "execution_count": 36,
     "metadata": {},
     "output_type": "execute_result"
    }
   ],
   "source": [
    "y.value_counts()"
   ]
  },
  {
   "cell_type": "markdown",
   "metadata": {
    "id": "C5_IruMKGGaq"
   },
   "source": [
    "* The target was extreamly imbalanced and might effect the performance of our model"
   ]
  },
  {
   "cell_type": "markdown",
   "metadata": {
    "id": "AWT3ZvL8GPL8"
   },
   "source": [
    "* Let's use oversampling technique to settle this."
   ]
  },
  {
   "cell_type": "markdown",
   "metadata": {
    "id": "QXEGQwZBGufa"
   },
   "source": [
    "### Oversampling with imblearn"
   ]
  },
  {
   "cell_type": "code",
   "execution_count": 37,
   "metadata": {
    "id": "Gzt_cl6TGsBo"
   },
   "outputs": [],
   "source": [
    "from imblearn.over_sampling import RandomOverSampler\n",
    "\n",
    "sampler = RandomOverSampler()\n",
    "\n",
    "X, y = sampler.fit_resample(X,y)"
   ]
  },
  {
   "cell_type": "code",
   "execution_count": 38,
   "metadata": {
    "colab": {
     "base_uri": "https://localhost:8080/"
    },
    "id": "TTN4iUlrI1JW",
    "outputId": "fd211d5c-a5d3-4d65-c802-ff55bdfba091"
   },
   "outputs": [
    {
     "data": {
      "text/plain": [
       "2     24\n",
       "39    24\n",
       "11    24\n",
       "23    24\n",
       "10    24\n",
       "43    24\n",
       "12    24\n",
       "8     24\n",
       "3     24\n",
       "16    24\n",
       "14    24\n",
       "30    24\n",
       "41    24\n",
       "5     24\n",
       "21    24\n",
       "25    24\n",
       "1     24\n",
       "33    24\n",
       "7     24\n",
       "28    24\n",
       "29    24\n",
       "18    24\n",
       "37    24\n",
       "38    24\n",
       "26    24\n",
       "36    24\n",
       "42    24\n",
       "9     24\n",
       "22    24\n",
       "34    24\n",
       "32    24\n",
       "6     24\n",
       "13    24\n",
       "40    24\n",
       "35    24\n",
       "19    24\n",
       "17    24\n",
       "44    24\n",
       "27    24\n",
       "20    24\n",
       "31    24\n",
       "15    24\n",
       "0     24\n",
       "4     24\n",
       "24    24\n",
       "Name: prodi, dtype: int64"
      ]
     },
     "execution_count": 38,
     "metadata": {},
     "output_type": "execute_result"
    }
   ],
   "source": [
    "y.value_counts()"
   ]
  },
  {
   "cell_type": "markdown",
   "metadata": {
    "id": "OC9vlU2BHliO"
   },
   "source": [
    "### Train and Accuracy"
   ]
  },
  {
   "cell_type": "markdown",
   "metadata": {
    "id": "bS5v9_cTHqZj"
   },
   "source": [
    "* before we train our model, let's split the feature and target into train and test set"
   ]
  },
  {
   "cell_type": "code",
   "execution_count": 39,
   "metadata": {
    "id": "t-xZGd_9I9OI"
   },
   "outputs": [],
   "source": [
    "# split into train set and test set with 30% test size\n",
    "X_train, X_test, y_train, y_test = train_test_split(X,y, test_size=0.3,\n",
    "                                                    random_state=42)"
   ]
  },
  {
   "cell_type": "code",
   "execution_count": 40,
   "metadata": {
    "colab": {
     "base_uri": "https://localhost:8080/"
    },
    "id": "L81f7Qp0JBIO",
    "outputId": "859ea6af-da3b-456d-c2a4-dd8f8baa2e13"
   },
   "outputs": [
    {
     "data": {
      "text/plain": [
       "RandomForestClassifier(random_state=42)"
      ]
     },
     "execution_count": 40,
     "metadata": {},
     "output_type": "execute_result"
    }
   ],
   "source": [
    "# fit the model\n",
    "model = RandomForestClassifier(random_state=42)\n",
    "model.fit(X_train, y_train)"
   ]
  },
  {
   "cell_type": "markdown",
   "metadata": {
    "id": "kBe3FewYIIN0"
   },
   "source": [
    "* Now let's see how accurate our model is"
   ]
  },
  {
   "cell_type": "code",
   "execution_count": 41,
   "metadata": {
    "colab": {
     "base_uri": "https://localhost:8080/"
    },
    "id": "bEcrgvh3JN-u",
    "outputId": "aacf44bb-cb53-45f4-8665-a33f994a5bde"
   },
   "outputs": [
    {
     "name": "stdout",
     "output_type": "stream",
     "text": [
      "RandomForest Accuracy Score: 0.97\n"
     ]
    }
   ],
   "source": [
    "y_pred = model.predict(X_test)\n",
    "\n",
    "print(\"RandomForest Accuracy Score: {:.2f}\".format(accuracy_score(y_test, y_pred)))"
   ]
  },
  {
   "cell_type": "markdown",
   "metadata": {
    "id": "ktYymFkwJRkd"
   },
   "source": [
    "* The model achieve great accuracy with 98% accuracy score"
   ]
  },
  {
   "cell_type": "markdown",
   "metadata": {
    "id": "5JMkGbN_IlDk"
   },
   "source": [
    "* Let's save our model for next development process"
   ]
  },
  {
   "cell_type": "markdown",
   "metadata": {
    "id": "LTzmGms6JVPj"
   },
   "source": [
    "### Saving Model"
   ]
  },
  {
   "cell_type": "code",
   "execution_count": 42,
   "metadata": {
    "id": "cQryR8hnJduO"
   },
   "outputs": [],
   "source": [
    "# saving model with pickle\n",
    "import pickle\n",
    "\n",
    "pickle.dump(model, open('model.pkl', 'wb'))"
   ]
  },
  {
   "cell_type": "markdown",
   "metadata": {
    "id": "sEyij4lqJIRg"
   },
   "source": [
    "### Load and Test Model"
   ]
  },
  {
   "cell_type": "code",
   "execution_count": 43,
   "metadata": {
    "id": "mlfaM0exLxDS"
   },
   "outputs": [],
   "source": [
    "loaded_model = pickle.load(open('model.pkl', 'rb'))"
   ]
  },
  {
   "cell_type": "code",
   "execution_count": 44,
   "metadata": {
    "id": "LeG8F6M0M5_r"
   },
   "outputs": [],
   "source": [
    "y_load_pred = loaded_model.predict(X_test)"
   ]
  },
  {
   "cell_type": "code",
   "execution_count": 45,
   "metadata": {
    "colab": {
     "base_uri": "https://localhost:8080/"
    },
    "id": "7Eo3QiCgM-d1",
    "outputId": "d215a8c9-9554-40c6-de27-4da62c83841e"
   },
   "outputs": [
    {
     "name": "stdout",
     "output_type": "stream",
     "text": [
      "Loaded Model Accuracy: 0.97\n"
     ]
    }
   ],
   "source": [
    "print(\"Loaded Model Accuracy: {:.2f}\".format(accuracy_score(y_test, y_load_pred)))"
   ]
  },
  {
   "cell_type": "markdown",
   "metadata": {
    "id": "1L2TEn-dNHWm"
   },
   "source": [
    "* Yup its working perfectly"
   ]
  },
  {
   "cell_type": "markdown",
   "metadata": {
    "id": "pnZdGyEFNNTS"
   },
   "source": [
    "# Random Forest Manual"
   ]
  },
  {
   "cell_type": "code",
   "execution_count": 46,
   "metadata": {
    "id": "BU7K91bKxa77"
   },
   "outputs": [],
   "source": [
    "import numpy as np\n",
    "from collections import Counter\n",
    "def entropy(y):\n",
    "    hist = np.bincount(y)\n",
    "    ps = hist / len(y)\n",
    "    return -np.sum([p * np.log2(p) for p in ps if p > 0])\n",
    "class Node:\n",
    "\n",
    "    def __init__(self, feature=None, threshold=None, left=None, right=None, *, value=None):\n",
    "        self.feature = feature\n",
    "        self.threshold = threshold\n",
    "        self.left = left\n",
    "        self.right = right\n",
    "        self.value = value\n",
    "\n",
    "    def is_leaf_node(self):\n",
    "        return self.value is not None"
   ]
  },
  {
   "cell_type": "code",
   "execution_count": 47,
   "metadata": {
    "id": "6ivX3hnwxDOS"
   },
   "outputs": [],
   "source": [
    "class DecisionTree:\n",
    "\n",
    "    def __init__(self, min_samples_split=2, max_depth=100, n_feats=None):\n",
    "        self.min_samples_split = min_samples_split\n",
    "        self.max_depth = max_depth\n",
    "        self.n_feats = n_feats\n",
    "        self.root = None\n",
    "\n",
    "    def fit(self, X, y):\n",
    "        self.n_feats = X.shape[1] if not self.n_feats else min(self.n_feats, X.shape[1])\n",
    "        self.root = self._grow_tree(X, y)\n",
    "\n",
    "    def predict(self, X):\n",
    "        return np.array([self._traverse_tree(x, self.root) for x in X])\n",
    "\n",
    "    def _grow_tree(self, X, y, depth=0):\n",
    "        n_samples, n_features = X.shape\n",
    "        n_labels = len(np.unique(y))\n",
    "\n",
    "        # stopping criteria\n",
    "        if (depth >= self.max_depth\n",
    "                or n_labels == 1\n",
    "                or n_samples < self.min_samples_split):\n",
    "            leaf_value = self._most_common_label(y)\n",
    "            return Node(value=leaf_value)\n",
    "\n",
    "        feat_idxs = np.random.choice(n_features, self.n_feats, replace=False)\n",
    "\n",
    "        # greedily select the best split according to information gain\n",
    "        best_feat, best_thresh = self._best_criteria(X, y, feat_idxs)\n",
    "        \n",
    "        # grow the children that result from the split\n",
    "        left_idxs, right_idxs = self._split(X[:, best_feat], best_thresh)\n",
    "        left = self._grow_tree(X[left_idxs, :], y[left_idxs], depth+1)\n",
    "        right = self._grow_tree(X[right_idxs, :], y[right_idxs], depth+1)\n",
    "        return Node(best_feat, best_thresh, left, right)\n",
    "\n",
    "    def _best_criteria(self, X, y, feat_idxs):\n",
    "        best_gain = -1\n",
    "        split_idx, split_thresh = None, None\n",
    "        for feat_idx in feat_idxs:\n",
    "            X_column = X[:, feat_idx]\n",
    "            thresholds = np.unique(X_column)\n",
    "            for threshold in thresholds:\n",
    "                gain = self._information_gain(y, X_column, threshold)\n",
    "\n",
    "                if gain > best_gain:\n",
    "                    best_gain = gain\n",
    "                    split_idx = feat_idx\n",
    "                    split_thresh = threshold\n",
    "\n",
    "        return split_idx, split_thresh\n",
    "\n",
    "    def _information_gain(self, y, X_column, split_thresh):\n",
    "        # parent loss\n",
    "        parent_entropy = entropy(y)\n",
    "\n",
    "        # generate split\n",
    "        left_idxs, right_idxs = self._split(X_column, split_thresh)\n",
    "\n",
    "        if len(left_idxs) == 0 or len(right_idxs) == 0:\n",
    "            return 0\n",
    "\n",
    "        # compute the weighted avg. of the loss for the children\n",
    "        n = len(y)\n",
    "        n_l, n_r = len(left_idxs), len(right_idxs)\n",
    "        e_l, e_r = entropy(y[left_idxs]), entropy(y[right_idxs])\n",
    "        child_entropy = (n_l / n) * e_l + (n_r / n) * e_r\n",
    "\n",
    "        # information gain is difference in loss before vs. after split\n",
    "        ig = parent_entropy - child_entropy\n",
    "        return ig\n",
    "\n",
    "    def _split(self, X_column, split_thresh):\n",
    "        left_idxs = np.argwhere(X_column <= split_thresh).flatten()\n",
    "        right_idxs = np.argwhere(X_column > split_thresh).flatten()\n",
    "        return left_idxs, right_idxs\n",
    "\n",
    "    def _traverse_tree(self, x, node):\n",
    "        if node.is_leaf_node():\n",
    "            return node.value\n",
    "\n",
    "        if x[node.feature] <= node.threshold:\n",
    "            return self._traverse_tree(x, node.left)\n",
    "        return self._traverse_tree(x, node.right)\n",
    "\n",
    "    def _most_common_label(self, y):\n",
    "        counter = Counter(y)\n",
    "        most_common = counter.most_common(1)[0][0]\n",
    "        return most_common"
   ]
  },
  {
   "cell_type": "code",
   "execution_count": 48,
   "metadata": {
    "id": "gS_xSbZrw4H_"
   },
   "outputs": [],
   "source": [
    "import numpy as np \n",
    "from collections import Counter\n",
    "def bootstrap_sample(X, y):\n",
    "    n_samples = X.shape[0]\n",
    "    idxs = np.random.choice(n_samples, n_samples, replace=True)\n",
    "    return X[idxs], y[idxs]\n",
    "def most_common_label(y):\n",
    "    counter = Counter(y)\n",
    "    most_common = counter.most_common(1)[0][0]\n",
    "    return most_common\n",
    "class RandomForest:\n",
    "    \n",
    "    def __init__(self, n_trees=10, min_samples_split=2,\n",
    "                 max_depth=100, n_feats=None):\n",
    "        self.n_trees = n_trees\n",
    "        self.min_samples_split = min_samples_split\n",
    "        self.max_depth = max_depth\n",
    "        self.n_feats = n_feats\n",
    "        self.trees = []\n",
    "\n",
    "    def fit(self, X, y):\n",
    "        self.trees = []\n",
    "        for _ in range(self.n_trees):\n",
    "            tree = DecisionTree(min_samples_split=self.min_samples_split,\n",
    "                max_depth=self.max_depth, n_feats=self.n_feats)\n",
    "            X_samp, y_samp = bootstrap_sample(X, y)\n",
    "            tree.fit(X_samp, y_samp)\n",
    "            self.trees.append(tree)\n",
    "\n",
    "    def predict(self, X):\n",
    "        tree_preds = np.array([tree.predict(X) for tree in self.trees])\n",
    "        tree_preds = np.swapaxes(tree_preds, 0, 1)\n",
    "        y_pred = [most_common_label(tree_pred) for tree_pred in tree_preds]\n",
    "        return np.array(y_pred)\n"
   ]
  },
  {
   "cell_type": "code",
   "execution_count": 49,
   "metadata": {
    "id": "vXsf3_7Vz79m"
   },
   "outputs": [],
   "source": [
    "def accuracy(y_true, y_pred):   \n",
    "    accuracy = np.sum(y_true == y_pred)/len(y_true)   \n",
    "    return accuracy"
   ]
  },
  {
   "cell_type": "code",
   "execution_count": 50,
   "metadata": {
    "id": "rXxJIqfry8Ad"
   },
   "outputs": [
    {
     "ename": "KeyError",
     "evalue": "\"None of [Int64Index([ 80, 745, 752, 253, 644, 360,  69, 680, 194, 730,\\n            ...\\n            642, 588, 564, 363,  10,  11, 225, 411, 479, 375],\\n           dtype='int64', length=756)] are in the [columns]\"",
     "output_type": "error",
     "traceback": [
      "\u001b[1;31m---------------------------------------------------------------------------\u001b[0m",
      "\u001b[1;31mKeyError\u001b[0m                                  Traceback (most recent call last)",
      "Input \u001b[1;32mIn [50]\u001b[0m, in \u001b[0;36m<cell line: 2>\u001b[1;34m()\u001b[0m\n\u001b[0;32m      1\u001b[0m clf \u001b[38;5;241m=\u001b[39m RandomForest(n_trees\u001b[38;5;241m=\u001b[39m\u001b[38;5;241m100\u001b[39m)\n\u001b[1;32m----> 2\u001b[0m \u001b[43mclf\u001b[49m\u001b[38;5;241;43m.\u001b[39;49m\u001b[43mfit\u001b[49m\u001b[43m(\u001b[49m\u001b[43mX_train\u001b[49m\u001b[43m,\u001b[49m\u001b[43m \u001b[49m\u001b[43my_train\u001b[49m\u001b[43m)\u001b[49m\n",
      "Input \u001b[1;32mIn [48]\u001b[0m, in \u001b[0;36mRandomForest.fit\u001b[1;34m(self, X, y)\u001b[0m\n\u001b[0;32m     23\u001b[0m \u001b[38;5;28;01mfor\u001b[39;00m _ \u001b[38;5;129;01min\u001b[39;00m \u001b[38;5;28mrange\u001b[39m(\u001b[38;5;28mself\u001b[39m\u001b[38;5;241m.\u001b[39mn_trees):\n\u001b[0;32m     24\u001b[0m     tree \u001b[38;5;241m=\u001b[39m DecisionTree(min_samples_split\u001b[38;5;241m=\u001b[39m\u001b[38;5;28mself\u001b[39m\u001b[38;5;241m.\u001b[39mmin_samples_split,\n\u001b[0;32m     25\u001b[0m         max_depth\u001b[38;5;241m=\u001b[39m\u001b[38;5;28mself\u001b[39m\u001b[38;5;241m.\u001b[39mmax_depth, n_feats\u001b[38;5;241m=\u001b[39m\u001b[38;5;28mself\u001b[39m\u001b[38;5;241m.\u001b[39mn_feats)\n\u001b[1;32m---> 26\u001b[0m     X_samp, y_samp \u001b[38;5;241m=\u001b[39m \u001b[43mbootstrap_sample\u001b[49m\u001b[43m(\u001b[49m\u001b[43mX\u001b[49m\u001b[43m,\u001b[49m\u001b[43m \u001b[49m\u001b[43my\u001b[49m\u001b[43m)\u001b[49m\n\u001b[0;32m     27\u001b[0m     tree\u001b[38;5;241m.\u001b[39mfit(X_samp, y_samp)\n\u001b[0;32m     28\u001b[0m     \u001b[38;5;28mself\u001b[39m\u001b[38;5;241m.\u001b[39mtrees\u001b[38;5;241m.\u001b[39mappend(tree)\n",
      "Input \u001b[1;32mIn [48]\u001b[0m, in \u001b[0;36mbootstrap_sample\u001b[1;34m(X, y)\u001b[0m\n\u001b[0;32m      4\u001b[0m n_samples \u001b[38;5;241m=\u001b[39m X\u001b[38;5;241m.\u001b[39mshape[\u001b[38;5;241m0\u001b[39m]\n\u001b[0;32m      5\u001b[0m idxs \u001b[38;5;241m=\u001b[39m np\u001b[38;5;241m.\u001b[39mrandom\u001b[38;5;241m.\u001b[39mchoice(n_samples, n_samples, replace\u001b[38;5;241m=\u001b[39m\u001b[38;5;28;01mTrue\u001b[39;00m)\n\u001b[1;32m----> 6\u001b[0m \u001b[38;5;28;01mreturn\u001b[39;00m \u001b[43mX\u001b[49m\u001b[43m[\u001b[49m\u001b[43midxs\u001b[49m\u001b[43m]\u001b[49m, y[idxs]\n",
      "File \u001b[1;32mD:\\Dwike\\Skripsi\\venv\\lib\\site-packages\\pandas\\core\\frame.py:3511\u001b[0m, in \u001b[0;36mDataFrame.__getitem__\u001b[1;34m(self, key)\u001b[0m\n\u001b[0;32m   3509\u001b[0m     \u001b[38;5;28;01mif\u001b[39;00m is_iterator(key):\n\u001b[0;32m   3510\u001b[0m         key \u001b[38;5;241m=\u001b[39m \u001b[38;5;28mlist\u001b[39m(key)\n\u001b[1;32m-> 3511\u001b[0m     indexer \u001b[38;5;241m=\u001b[39m \u001b[38;5;28;43mself\u001b[39;49m\u001b[38;5;241;43m.\u001b[39;49m\u001b[43mcolumns\u001b[49m\u001b[38;5;241;43m.\u001b[39;49m\u001b[43m_get_indexer_strict\u001b[49m\u001b[43m(\u001b[49m\u001b[43mkey\u001b[49m\u001b[43m,\u001b[49m\u001b[43m \u001b[49m\u001b[38;5;124;43m\"\u001b[39;49m\u001b[38;5;124;43mcolumns\u001b[39;49m\u001b[38;5;124;43m\"\u001b[39;49m\u001b[43m)\u001b[49m[\u001b[38;5;241m1\u001b[39m]\n\u001b[0;32m   3513\u001b[0m \u001b[38;5;66;03m# take() does not accept boolean indexers\u001b[39;00m\n\u001b[0;32m   3514\u001b[0m \u001b[38;5;28;01mif\u001b[39;00m \u001b[38;5;28mgetattr\u001b[39m(indexer, \u001b[38;5;124m\"\u001b[39m\u001b[38;5;124mdtype\u001b[39m\u001b[38;5;124m\"\u001b[39m, \u001b[38;5;28;01mNone\u001b[39;00m) \u001b[38;5;241m==\u001b[39m \u001b[38;5;28mbool\u001b[39m:\n",
      "File \u001b[1;32mD:\\Dwike\\Skripsi\\venv\\lib\\site-packages\\pandas\\core\\indexes\\base.py:5782\u001b[0m, in \u001b[0;36mIndex._get_indexer_strict\u001b[1;34m(self, key, axis_name)\u001b[0m\n\u001b[0;32m   5779\u001b[0m \u001b[38;5;28;01melse\u001b[39;00m:\n\u001b[0;32m   5780\u001b[0m     keyarr, indexer, new_indexer \u001b[38;5;241m=\u001b[39m \u001b[38;5;28mself\u001b[39m\u001b[38;5;241m.\u001b[39m_reindex_non_unique(keyarr)\n\u001b[1;32m-> 5782\u001b[0m \u001b[38;5;28;43mself\u001b[39;49m\u001b[38;5;241;43m.\u001b[39;49m\u001b[43m_raise_if_missing\u001b[49m\u001b[43m(\u001b[49m\u001b[43mkeyarr\u001b[49m\u001b[43m,\u001b[49m\u001b[43m \u001b[49m\u001b[43mindexer\u001b[49m\u001b[43m,\u001b[49m\u001b[43m \u001b[49m\u001b[43maxis_name\u001b[49m\u001b[43m)\u001b[49m\n\u001b[0;32m   5784\u001b[0m keyarr \u001b[38;5;241m=\u001b[39m \u001b[38;5;28mself\u001b[39m\u001b[38;5;241m.\u001b[39mtake(indexer)\n\u001b[0;32m   5785\u001b[0m \u001b[38;5;28;01mif\u001b[39;00m \u001b[38;5;28misinstance\u001b[39m(key, Index):\n\u001b[0;32m   5786\u001b[0m     \u001b[38;5;66;03m# GH 42790 - Preserve name from an Index\u001b[39;00m\n",
      "File \u001b[1;32mD:\\Dwike\\Skripsi\\venv\\lib\\site-packages\\pandas\\core\\indexes\\base.py:5842\u001b[0m, in \u001b[0;36mIndex._raise_if_missing\u001b[1;34m(self, key, indexer, axis_name)\u001b[0m\n\u001b[0;32m   5840\u001b[0m     \u001b[38;5;28;01mif\u001b[39;00m use_interval_msg:\n\u001b[0;32m   5841\u001b[0m         key \u001b[38;5;241m=\u001b[39m \u001b[38;5;28mlist\u001b[39m(key)\n\u001b[1;32m-> 5842\u001b[0m     \u001b[38;5;28;01mraise\u001b[39;00m \u001b[38;5;167;01mKeyError\u001b[39;00m(\u001b[38;5;124mf\u001b[39m\u001b[38;5;124m\"\u001b[39m\u001b[38;5;124mNone of [\u001b[39m\u001b[38;5;132;01m{\u001b[39;00mkey\u001b[38;5;132;01m}\u001b[39;00m\u001b[38;5;124m] are in the [\u001b[39m\u001b[38;5;132;01m{\u001b[39;00maxis_name\u001b[38;5;132;01m}\u001b[39;00m\u001b[38;5;124m]\u001b[39m\u001b[38;5;124m\"\u001b[39m)\n\u001b[0;32m   5844\u001b[0m not_found \u001b[38;5;241m=\u001b[39m \u001b[38;5;28mlist\u001b[39m(ensure_index(key)[missing_mask\u001b[38;5;241m.\u001b[39mnonzero()[\u001b[38;5;241m0\u001b[39m]]\u001b[38;5;241m.\u001b[39munique())\n\u001b[0;32m   5845\u001b[0m \u001b[38;5;28;01mraise\u001b[39;00m \u001b[38;5;167;01mKeyError\u001b[39;00m(\u001b[38;5;124mf\u001b[39m\u001b[38;5;124m\"\u001b[39m\u001b[38;5;132;01m{\u001b[39;00mnot_found\u001b[38;5;132;01m}\u001b[39;00m\u001b[38;5;124m not in index\u001b[39m\u001b[38;5;124m\"\u001b[39m)\n",
      "\u001b[1;31mKeyError\u001b[0m: \"None of [Int64Index([ 80, 745, 752, 253, 644, 360,  69, 680, 194, 730,\\n            ...\\n            642, 588, 564, 363,  10,  11, 225, 411, 479, 375],\\n           dtype='int64', length=756)] are in the [columns]\""
     ]
    }
   ],
   "source": [
    "clf = RandomForest(n_trees=100)\n",
    "clf.fit(X_train, y_train)"
   ]
  },
  {
   "cell_type": "code",
   "execution_count": null,
   "metadata": {
    "colab": {
     "base_uri": "https://localhost:8080/"
    },
    "id": "TAeYHJ1XzAXD",
    "outputId": "d0a9d9d7-7b83-4c03-c4c4-a50f5c6096ba"
   },
   "outputs": [],
   "source": [
    "y_pred = clf.predict(X_test)\n",
    "print(\"Accuracy: {:.2f}\".format(accuracy(y_test, y_pred)))"
   ]
  },
  {
   "cell_type": "code",
   "execution_count": 51,
   "metadata": {},
   "outputs": [
    {
     "name": "stdout",
     "output_type": "stream",
     "text": [
      "argon2-cffi==21.3.0Note: you may need to restart the kernel to use updated packages.\n",
      "\n",
      "argon2-cffi-bindings==21.2.0\n",
      "asttokens==2.0.5\n",
      "attrs==21.4.0\n",
      "backcall==0.2.0\n",
      "bcrypt==3.2.0\n",
      "beautifulsoup4==4.11.1\n",
      "bleach==5.0.0\n",
      "cffi==1.15.0\n",
      "click==8.1.2\n",
      "colorama==0.4.4\n",
      "cycler==0.11.0\n",
      "Cython==0.29.23\n",
      "debugpy==1.6.0\n",
      "decorator==5.1.1\n",
      "defusedxml==0.7.1\n",
      "entrypoints==0.4\n",
      "et-xmlfile==1.1.0\n",
      "executing==0.8.3\n",
      "fastjsonschema==2.15.3\n",
      "Flask==2.1.1\n",
      "Flask-MySQLdb==1.0.1\n",
      "fonttools==4.33.3\n",
      "gensim==4.1.2\n",
      "greenlet==1.1.2\n",
      "imbalanced-learn==0.9.1\n",
      "imblearn==0.0\n",
      "importlib-metadata==4.11.3\n",
      "ipykernel==6.13.1\n",
      "ipython==8.4.0\n",
      "ipython-genutils==0.2.0\n",
      "ipywidgets==7.7.0\n",
      "itsdangerous==2.1.2\n",
      "jedi==0.18.1\n",
      "Jinja2==3.1.1\n",
      "joblib==1.1.0\n",
      "jsonschema==4.6.0\n",
      "jupyter==1.0.0\n",
      "jupyter-client==7.3.4\n",
      "jupyter-console==6.4.3\n",
      "jupyter-core==4.10.0\n",
      "jupyterlab-pygments==0.2.2\n",
      "jupyterlab-widgets==1.1.0\n",
      "kiwisolver==1.4.3\n",
      "MarkupSafe==2.1.1\n",
      "matplotlib==3.5.2\n",
      "matplotlib-inline==0.1.3\n",
      "mistune==0.8.4\n",
      "mysql==0.0.3\n",
      "mysqlclient==2.1.0\n",
      "nbclient==0.6.4\n",
      "nbconvert==6.5.0\n",
      "nbformat==5.4.0\n",
      "nest-asyncio==1.5.5\n",
      "nltk==3.7\n",
      "notebook==6.4.12\n",
      "numpy==1.22.3\n",
      "openpyxl==3.0.9\n",
      "packaging==21.3\n",
      "pandas==1.4.2\n",
      "pandocfilters==1.5.0\n",
      "parso==0.8.3\n",
      "pickleshare==0.7.5\n",
      "Pillow==9.2.0\n",
      "prometheus-client==0.14.1\n",
      "prompt-toolkit==3.0.29\n",
      "psutil==5.9.1\n",
      "pure-eval==0.2.2\n",
      "pycparser==2.21\n",
      "Pygments==2.12.0\n",
      "PyMySQL==1.0.2\n",
      "pyparsing==3.0.9\n",
      "pyrsistent==0.18.1\n",
      "python-dateutil==2.8.2\n",
      "pytz==2022.1\n",
      "pywin32==304\n",
      "pywinpty==2.0.5\n",
      "pyzmq==23.1.0\n",
      "qtconsole==5.3.1\n",
      "QtPy==2.1.0\n",
      "regex==2022.3.15\n",
      "Sastrawi==1.0.1\n",
      "scikit-learn==1.0.2\n",
      "scipy==1.8.0\n",
      "Send2Trash==1.8.0\n",
      "six==1.16.0\n",
      "smart-open==5.2.1\n",
      "soupsieve==2.3.2.post1\n",
      "SQLAlchemy==1.4.37\n",
      "stack-data==0.2.0\n",
      "terminado==0.15.0\n",
      "threadpoolctl==3.1.0\n",
      "tinycss2==1.1.1\n",
      "tornado==6.1\n",
      "tqdm==4.64.0\n",
      "traitlets==5.2.2.post1\n",
      "wcwidth==0.2.5\n",
      "webencodings==0.5.1\n",
      "Werkzeug==2.1.1\n",
      "widgetsnbextension==3.6.0\n",
      "workbook==1.1\n",
      "xlrd==2.0.1\n",
      "xlutils==2.0.0\n",
      "xlwt==1.3.0\n",
      "zipp==3.8.0\n"
     ]
    }
   ],
   "source": [
    "pip freeze"
   ]
  },
  {
   "cell_type": "code",
   "execution_count": null,
   "metadata": {},
   "outputs": [],
   "source": []
  }
 ],
 "metadata": {
  "colab": {
   "collapsed_sections": [],
   "name": "Recommendation System using Random Forest revision.ipynb",
   "provenance": [],
   "toc_visible": true
  },
  "kernelspec": {
   "display_name": "Python 3 (ipykernel)",
   "language": "python",
   "name": "python3"
  },
  "language_info": {
   "codemirror_mode": {
    "name": "ipython",
    "version": 3
   },
   "file_extension": ".py",
   "mimetype": "text/x-python",
   "name": "python",
   "nbconvert_exporter": "python",
   "pygments_lexer": "ipython3",
   "version": "3.9.10"
  }
 },
 "nbformat": 4,
 "nbformat_minor": 1
}
