{
 "cells": [
  {
   "cell_type": "markdown",
   "metadata": {
    "id": "MRDSV4bFc0Ms"
   },
   "source": [
    "# Recommendation System (Random Forest)"
   ]
  },
  {
   "cell_type": "markdown",
   "metadata": {
    "id": "b6gtAnkAc-7J"
   },
   "source": [
    "* The main task of this notebook is to make a recommendation system using Random Forest"
   ]
  },
  {
   "cell_type": "code",
   "execution_count": 179,
   "metadata": {
    "colab": {
     "base_uri": "https://localhost:8080/"
    },
    "id": "K_g7bj333m7_",
    "outputId": "870333d8-31b4-432b-c308-a9c320b80d4c"
   },
   "outputs": [
    {
     "name": "stdout",
     "output_type": "stream",
     "text": [
      "Requirement already satisfied: Sastrawi in d:\\dwike\\skripsi\\venv\\lib\\site-packages (1.0.1)"
     ]
    },
    {
     "name": "stderr",
     "output_type": "stream",
     "text": [
      "WARNING: You are using pip version 21.3.1; however, version 22.1.2 is available.\n",
      "You should consider upgrading via the 'D:\\Dwike\\Skripsi\\venv\\Scripts\\python.exe -m pip install --upgrade pip' command.\n"
     ]
    },
    {
     "name": "stdout",
     "output_type": "stream",
     "text": [
      "\n"
     ]
    }
   ],
   "source": [
    "!pip install Sastrawi"
   ]
  },
  {
   "cell_type": "code",
   "execution_count": 180,
   "metadata": {
    "colab": {
     "base_uri": "https://localhost:8080/"
    },
    "id": "yVQmJCC2Y-HV",
    "outputId": "ad788141-ebc8-4c4f-8fc5-d26ac5ff3976"
   },
   "outputs": [
    {
     "name": "stderr",
     "output_type": "stream",
     "text": [
      "[nltk_data] Downloading package punkt to\n",
      "[nltk_data]     C:\\Users\\User\\AppData\\Roaming\\nltk_data...\n",
      "[nltk_data]   Package punkt is already up-to-date!\n"
     ]
    },
    {
     "data": {
      "text/plain": [
       "True"
      ]
     },
     "execution_count": 180,
     "metadata": {},
     "output_type": "execute_result"
    }
   ],
   "source": [
    "# import all the libraries\n",
    "import pandas as pd\n",
    "import numpy as np\n",
    "import os\n",
    "import matplotlib.pyplot as plt\n",
    "import re\n",
    "import string\n",
    "\n",
    "from sklearn.model_selection import train_test_split\n",
    "from sklearn.ensemble import RandomForestClassifier\n",
    "from sklearn.feature_extraction.text import TfidfVectorizer, CountVectorizer\n",
    "from sklearn.preprocessing import LabelEncoder, MinMaxScaler\n",
    "from sklearn.pipeline import Pipeline\n",
    "from sklearn.metrics import accuracy_score, classification_report\n",
    "from sklearn.base import BaseEstimator, TransformerMixin\n",
    "\n",
    "# NLTK\n",
    "import nltk\n",
    "from nltk.tokenize import word_tokenize\n",
    "\n",
    "# Sastrawi\n",
    "from Sastrawi.StopWordRemover.StopWordRemoverFactory import StopWordRemoverFactory, StopWordRemover, ArrayDictionary\n",
    "from Sastrawi.Stemmer.StemmerFactory import StemmerFactory\n",
    "\n",
    "\n",
    "import warnings\n",
    "warnings.filterwarnings(\"ignore\")\n",
    "nltk.download(\"punkt\")"
   ]
  },
  {
   "cell_type": "code",
   "execution_count": 181,
   "metadata": {
    "id": "4bMoUR9paQpQ"
   },
   "outputs": [],
   "source": [
    "df = pd.read_excel(\"train.xlsx\")"
   ]
  },
  {
   "cell_type": "code",
   "execution_count": 182,
   "metadata": {
    "colab": {
     "base_uri": "https://localhost:8080/",
     "height": 191
    },
    "id": "C4eRfbt0aXYo",
    "outputId": "fdcb424c-b501-44dc-d2a5-b5acd5b09b66"
   },
   "outputs": [
    {
     "data": {
      "text/html": [
       "<div>\n",
       "<style scoped>\n",
       "    .dataframe tbody tr th:only-of-type {\n",
       "        vertical-align: middle;\n",
       "    }\n",
       "\n",
       "    .dataframe tbody tr th {\n",
       "        vertical-align: top;\n",
       "    }\n",
       "\n",
       "    .dataframe thead th {\n",
       "        text-align: right;\n",
       "    }\n",
       "</style>\n",
       "<table border=\"1\" class=\"dataframe\">\n",
       "  <thead>\n",
       "    <tr style=\"text-align: right;\">\n",
       "      <th></th>\n",
       "      <th>no</th>\n",
       "      <th>nama</th>\n",
       "      <th>prodi</th>\n",
       "      <th>minat</th>\n",
       "      <th>bakat</th>\n",
       "      <th>mapel</th>\n",
       "      <th>nilai</th>\n",
       "      <th>ibu</th>\n",
       "      <th>ayah</th>\n",
       "      <th>penghasilan</th>\n",
       "    </tr>\n",
       "  </thead>\n",
       "  <tbody>\n",
       "    <tr>\n",
       "      <th>0</th>\n",
       "      <td>1</td>\n",
       "      <td>DYAH AYU</td>\n",
       "      <td>AKN</td>\n",
       "      <td>Minat terhadap aktivitas yang berhubungan deng...</td>\n",
       "      <td>Bakat terhadap aktivitas yang berhubungan deng...</td>\n",
       "      <td>SEJARAH. GEOGRAFI</td>\n",
       "      <td>89</td>\n",
       "      <td>PETANI</td>\n",
       "      <td>Meninggal</td>\n",
       "      <td>golongan 2</td>\n",
       "    </tr>\n",
       "    <tr>\n",
       "      <th>1</th>\n",
       "      <td>2</td>\n",
       "      <td>Muhammad isyak rizqi</td>\n",
       "      <td>TI</td>\n",
       "      <td>Minat terhadap aktivitas yang berhubungan deng...</td>\n",
       "      <td>Bakat terhadap aktivitas yang berhubungan deng...</td>\n",
       "      <td>komputer</td>\n",
       "      <td>96</td>\n",
       "      <td>WIRAUSAHA</td>\n",
       "      <td>Meninggal</td>\n",
       "      <td>golongan 2</td>\n",
       "    </tr>\n",
       "  </tbody>\n",
       "</table>\n",
       "</div>"
      ],
      "text/plain": [
       "   no                  nama prodi  \\\n",
       "0   1              DYAH AYU   AKN   \n",
       "1   2  Muhammad isyak rizqi    TI   \n",
       "\n",
       "                                               minat  \\\n",
       "0  Minat terhadap aktivitas yang berhubungan deng...   \n",
       "1  Minat terhadap aktivitas yang berhubungan deng...   \n",
       "\n",
       "                                               bakat              mapel  \\\n",
       "0  Bakat terhadap aktivitas yang berhubungan deng...  SEJARAH. GEOGRAFI   \n",
       "1  Bakat terhadap aktivitas yang berhubungan deng...           komputer   \n",
       "\n",
       "   nilai        ibu       ayah penghasilan  \n",
       "0     89     PETANI  Meninggal  golongan 2  \n",
       "1     96  WIRAUSAHA  Meninggal  golongan 2  "
      ]
     },
     "execution_count": 182,
     "metadata": {},
     "output_type": "execute_result"
    }
   ],
   "source": [
    "df.head(2)"
   ]
  },
  {
   "cell_type": "markdown",
   "metadata": {
    "id": "5Io5hTHSdMdg"
   },
   "source": [
    "* Notice that all the value of categorical columns isn't in standard value for text.\n",
    "\n",
    "* We also going to delete `no` and `nama` columns since its was useless for our model"
   ]
  },
  {
   "cell_type": "code",
   "execution_count": 183,
   "metadata": {
    "id": "UhwLx_CAtSB2"
   },
   "outputs": [],
   "source": [
    "# Drop no and nama\n",
    "df.drop([\"no\", \"nama\"], axis=1, inplace=True)"
   ]
  },
  {
   "cell_type": "markdown",
   "metadata": {
    "id": "1-Mx-D2wAKFk"
   },
   "source": [
    "* next, we are going to do Text Preprocessing"
   ]
  },
  {
   "cell_type": "markdown",
   "metadata": {
    "id": "QwTMx3kxDvPl"
   },
   "source": [
    "## Text cleaning/Preprocessing"
   ]
  },
  {
   "cell_type": "markdown",
   "metadata": {
    "id": "IPdgHJtC5x7O"
   },
   "source": [
    "* There are 3 process on this section including: **case folding**, **tokenizing**, **stopword**"
   ]
  },
  {
   "cell_type": "code",
   "execution_count": 184,
   "metadata": {
    "colab": {
     "base_uri": "https://localhost:8080/"
    },
    "id": "c-Un4JjRtcuJ",
    "outputId": "be5de3e9-5898-4019-af0d-f1450b7b516b"
   },
   "outputs": [
    {
     "name": "stdout",
     "output_type": "stream",
     "text": [
      "Index(['prodi', 'minat', 'bakat', 'mapel', 'ibu', 'ayah', 'penghasilan'], dtype='object')\n"
     ]
    }
   ],
   "source": [
    "# select category columns\n",
    "text_cols = df.select_dtypes(exclude=\"int64\").columns\n",
    "print(text_cols)"
   ]
  },
  {
   "cell_type": "markdown",
   "metadata": {
    "id": "w393CpjU6fWY"
   },
   "source": [
    "### Case Folding"
   ]
  },
  {
   "cell_type": "markdown",
   "metadata": {
    "id": "usFjaE-k-WUy"
   },
   "source": [
    "* There are several steps for Case Folding including:\n",
    "  1. Make all text into **lowercase**\n",
    "  2. Removing numbers\n",
    "  3. Removing punctation\n",
    "  4. Remove whitespaces "
   ]
  },
  {
   "cell_type": "code",
   "execution_count": 185,
   "metadata": {
    "colab": {
     "base_uri": "https://localhost:8080/",
     "height": 240
    },
    "id": "FpG2JFrZ6k29",
    "outputId": "5a6441f6-2a64-41e9-e9a8-9ac57568fb4e"
   },
   "outputs": [
    {
     "data": {
      "text/html": [
       "<div>\n",
       "<style scoped>\n",
       "    .dataframe tbody tr th:only-of-type {\n",
       "        vertical-align: middle;\n",
       "    }\n",
       "\n",
       "    .dataframe tbody tr th {\n",
       "        vertical-align: top;\n",
       "    }\n",
       "\n",
       "    .dataframe thead th {\n",
       "        text-align: right;\n",
       "    }\n",
       "</style>\n",
       "<table border=\"1\" class=\"dataframe\">\n",
       "  <thead>\n",
       "    <tr style=\"text-align: right;\">\n",
       "      <th></th>\n",
       "      <th>prodi</th>\n",
       "      <th>minat</th>\n",
       "      <th>bakat</th>\n",
       "      <th>mapel</th>\n",
       "      <th>ibu</th>\n",
       "      <th>ayah</th>\n",
       "      <th>penghasilan</th>\n",
       "    </tr>\n",
       "  </thead>\n",
       "  <tbody>\n",
       "    <tr>\n",
       "      <th>0</th>\n",
       "      <td>akn</td>\n",
       "      <td>minat terhadap aktivitas yang berhubungan deng...</td>\n",
       "      <td>bakat terhadap aktivitas yang berhubungan deng...</td>\n",
       "      <td>sejarah. geografi</td>\n",
       "      <td>petani</td>\n",
       "      <td>meninggal</td>\n",
       "      <td>golongan 2</td>\n",
       "    </tr>\n",
       "    <tr>\n",
       "      <th>1</th>\n",
       "      <td>ti</td>\n",
       "      <td>minat terhadap aktivitas yang berhubungan deng...</td>\n",
       "      <td>bakat terhadap aktivitas yang berhubungan deng...</td>\n",
       "      <td>komputer</td>\n",
       "      <td>wirausaha</td>\n",
       "      <td>meninggal</td>\n",
       "      <td>golongan 2</td>\n",
       "    </tr>\n",
       "    <tr>\n",
       "      <th>2</th>\n",
       "      <td>ti</td>\n",
       "      <td>minat terhadap aktivitas yang berhubungan deng...</td>\n",
       "      <td>bakat terhadap aktivitas yang berhubungan deng...</td>\n",
       "      <td>biologi. bahasa inggris. bahasa indonesia</td>\n",
       "      <td>ibu rumah tangga</td>\n",
       "      <td>petani</td>\n",
       "      <td>golongan 2</td>\n",
       "    </tr>\n",
       "  </tbody>\n",
       "</table>\n",
       "</div>"
      ],
      "text/plain": [
       "  prodi                                              minat  \\\n",
       "0   akn  minat terhadap aktivitas yang berhubungan deng...   \n",
       "1    ti  minat terhadap aktivitas yang berhubungan deng...   \n",
       "2    ti  minat terhadap aktivitas yang berhubungan deng...   \n",
       "\n",
       "                                               bakat  \\\n",
       "0  bakat terhadap aktivitas yang berhubungan deng...   \n",
       "1  bakat terhadap aktivitas yang berhubungan deng...   \n",
       "2  bakat terhadap aktivitas yang berhubungan deng...   \n",
       "\n",
       "                                       mapel               ibu       ayah  \\\n",
       "0                          sejarah. geografi            petani  meninggal   \n",
       "1                                   komputer         wirausaha  meninggal   \n",
       "2  biologi. bahasa inggris. bahasa indonesia  ibu rumah tangga     petani   \n",
       "\n",
       "  penghasilan  \n",
       "0  golongan 2  \n",
       "1  golongan 2  \n",
       "2  golongan 2  "
      ]
     },
     "metadata": {},
     "output_type": "display_data"
    }
   ],
   "source": [
    "# 1. Make all text into lowercase\n",
    "def lowercase(text):\n",
    "  return text.lower()\n",
    "\n",
    "for col in text_cols:\n",
    "  df[col] = df[col].apply(lowercase)\n",
    "\n",
    "display(df[text_cols].head(3))"
   ]
  },
  {
   "cell_type": "code",
   "execution_count": 186,
   "metadata": {
    "id": "aRNcdbH-0VXo"
   },
   "outputs": [],
   "source": [
    "# 2. Removing numbers (excluding: penghasilan)\n",
    "def remove_numbers(text):\n",
    "  text = re.sub(r\"\\d+\", \"\", text)\n",
    "  return text\n",
    "\n",
    "for col in text_cols[:-1]: # excluding penghasilan\n",
    "  df[col] = df[col].apply(remove_numbers)"
   ]
  },
  {
   "cell_type": "code",
   "execution_count": 187,
   "metadata": {
    "id": "sGre6xvIBLMk"
   },
   "outputs": [],
   "source": [
    "# 3. Removing punctation\n",
    "def remove_punctation(text):\n",
    "  text = text.translate(str.maketrans(\"\",\"\",string.punctuation))\n",
    "  return text\n",
    "\n",
    "for col in text_cols:\n",
    "  df[col] = df[col].apply(remove_punctation)"
   ]
  },
  {
   "cell_type": "code",
   "execution_count": 188,
   "metadata": {
    "id": "Yfl4a6UsB-zE"
   },
   "outputs": [],
   "source": [
    "# 4. Removing all whitespace\n",
    "for col in text_cols:\n",
    "  df[col] = df[col].str.strip()"
   ]
  },
  {
   "cell_type": "code",
   "execution_count": 189,
   "metadata": {
    "colab": {
     "base_uri": "https://localhost:8080/",
     "height": 337
    },
    "id": "ggEi_yRHCIp8",
    "outputId": "43b33169-b410-4c0d-c411-2f9c69898815"
   },
   "outputs": [
    {
     "data": {
      "text/html": [
       "<div>\n",
       "<style scoped>\n",
       "    .dataframe tbody tr th:only-of-type {\n",
       "        vertical-align: middle;\n",
       "    }\n",
       "\n",
       "    .dataframe tbody tr th {\n",
       "        vertical-align: top;\n",
       "    }\n",
       "\n",
       "    .dataframe thead th {\n",
       "        text-align: right;\n",
       "    }\n",
       "</style>\n",
       "<table border=\"1\" class=\"dataframe\">\n",
       "  <thead>\n",
       "    <tr style=\"text-align: right;\">\n",
       "      <th></th>\n",
       "      <th>prodi</th>\n",
       "      <th>minat</th>\n",
       "      <th>bakat</th>\n",
       "      <th>mapel</th>\n",
       "      <th>nilai</th>\n",
       "      <th>ibu</th>\n",
       "      <th>ayah</th>\n",
       "      <th>penghasilan</th>\n",
       "    </tr>\n",
       "  </thead>\n",
       "  <tbody>\n",
       "    <tr>\n",
       "      <th>0</th>\n",
       "      <td>akn</td>\n",
       "      <td>minat terhadap aktivitas yang berhubungan deng...</td>\n",
       "      <td>bakat terhadap aktivitas yang berhubungan deng...</td>\n",
       "      <td>sejarah geografi</td>\n",
       "      <td>89</td>\n",
       "      <td>petani</td>\n",
       "      <td>meninggal</td>\n",
       "      <td>golongan 2</td>\n",
       "    </tr>\n",
       "    <tr>\n",
       "      <th>1</th>\n",
       "      <td>ti</td>\n",
       "      <td>minat terhadap aktivitas yang berhubungan deng...</td>\n",
       "      <td>bakat terhadap aktivitas yang berhubungan deng...</td>\n",
       "      <td>komputer</td>\n",
       "      <td>96</td>\n",
       "      <td>wirausaha</td>\n",
       "      <td>meninggal</td>\n",
       "      <td>golongan 2</td>\n",
       "    </tr>\n",
       "    <tr>\n",
       "      <th>2</th>\n",
       "      <td>ti</td>\n",
       "      <td>minat terhadap aktivitas yang berhubungan deng...</td>\n",
       "      <td>bakat terhadap aktivitas yang berhubungan deng...</td>\n",
       "      <td>biologi bahasa inggris bahasa indonesia</td>\n",
       "      <td>96</td>\n",
       "      <td>ibu rumah tangga</td>\n",
       "      <td>petani</td>\n",
       "      <td>golongan 2</td>\n",
       "    </tr>\n",
       "    <tr>\n",
       "      <th>3</th>\n",
       "      <td>te</td>\n",
       "      <td>minat terhadap aktivitas yang berkaitan dengan...</td>\n",
       "      <td>bakat terhadap aktivitas yang berkaitan dengan...</td>\n",
       "      <td>mtk</td>\n",
       "      <td>91</td>\n",
       "      <td>karyawan swasta</td>\n",
       "      <td>karyawan swasta</td>\n",
       "      <td>golongan 5</td>\n",
       "    </tr>\n",
       "    <tr>\n",
       "      <th>4</th>\n",
       "      <td>ti</td>\n",
       "      <td>minat terhadap aktivitas yang berhubungan deng...</td>\n",
       "      <td>bakat terhadap aktivitas yang berhubungan deng...</td>\n",
       "      <td>bahasa inggris bahasa indonesia sejarah</td>\n",
       "      <td>96</td>\n",
       "      <td>ibu rumah tangga</td>\n",
       "      <td>pns</td>\n",
       "      <td>golongan 5</td>\n",
       "    </tr>\n",
       "  </tbody>\n",
       "</table>\n",
       "</div>"
      ],
      "text/plain": [
       "  prodi                                              minat  \\\n",
       "0   akn  minat terhadap aktivitas yang berhubungan deng...   \n",
       "1    ti  minat terhadap aktivitas yang berhubungan deng...   \n",
       "2    ti  minat terhadap aktivitas yang berhubungan deng...   \n",
       "3    te  minat terhadap aktivitas yang berkaitan dengan...   \n",
       "4    ti  minat terhadap aktivitas yang berhubungan deng...   \n",
       "\n",
       "                                               bakat  \\\n",
       "0  bakat terhadap aktivitas yang berhubungan deng...   \n",
       "1  bakat terhadap aktivitas yang berhubungan deng...   \n",
       "2  bakat terhadap aktivitas yang berhubungan deng...   \n",
       "3  bakat terhadap aktivitas yang berkaitan dengan...   \n",
       "4  bakat terhadap aktivitas yang berhubungan deng...   \n",
       "\n",
       "                                     mapel  nilai               ibu  \\\n",
       "0                         sejarah geografi     89            petani   \n",
       "1                                 komputer     96         wirausaha   \n",
       "2  biologi bahasa inggris bahasa indonesia     96  ibu rumah tangga   \n",
       "3                                      mtk     91   karyawan swasta   \n",
       "4  bahasa inggris bahasa indonesia sejarah     96  ibu rumah tangga   \n",
       "\n",
       "              ayah penghasilan  \n",
       "0        meninggal  golongan 2  \n",
       "1        meninggal  golongan 2  \n",
       "2           petani  golongan 2  \n",
       "3  karyawan swasta  golongan 5  \n",
       "4              pns  golongan 5  "
      ]
     },
     "metadata": {},
     "output_type": "display_data"
    }
   ],
   "source": [
    "display(df.head())"
   ]
  },
  {
   "cell_type": "markdown",
   "metadata": {
    "id": "VgXzk_EyGVH-"
   },
   "source": [
    "### Tokenizing"
   ]
  },
  {
   "cell_type": "markdown",
   "metadata": {
    "id": "3AFMj2OxGazT"
   },
   "source": [
    "* Next steps is to do tokenizing"
   ]
  },
  {
   "cell_type": "code",
   "execution_count": 190,
   "metadata": {
    "colab": {
     "base_uri": "https://localhost:8080/"
    },
    "id": "QfV16ZCQGXjk",
    "outputId": "943ec541-f10d-4e5d-f758-bfd88ae3b198"
   },
   "outputs": [
    {
     "name": "stdout",
     "output_type": "stream",
     "text": [
      "['minat', 'terhadap', 'aktivitas', 'yang', 'berhubungan', 'dengan', 'tugas', 'rutin', 'yang', 'memerlukan', 'ketelitian', 'dan', 'ketepatan', 'dalam', 'perhitungan']\n"
     ]
    }
   ],
   "source": [
    "from nltk.tokenize import word_tokenize\n",
    "import nltk\n",
    "\n",
    "minat_1 = df[\"minat\"][0]\n",
    "\n",
    "minat_tokenizer = nltk.tokenize.word_tokenize(minat_1)\n",
    "print(minat_tokenizer)"
   ]
  },
  {
   "cell_type": "code",
   "execution_count": 191,
   "metadata": {
    "id": "xB4u_ROBYJFJ"
   },
   "outputs": [],
   "source": [
    "# implement tokenizer\n",
    "def tokenizer(text):\n",
    "  text = nltk.tokenize.word_tokenize(text)\n",
    "  text = str.join(\" \", text)\n",
    "  return text\n",
    "\n",
    "for col in text_cols:\n",
    "  df[col] = df[col].apply(tokenizer)"
   ]
  },
  {
   "cell_type": "code",
   "execution_count": 192,
   "metadata": {
    "colab": {
     "base_uri": "https://localhost:8080/",
     "height": 156
    },
    "id": "lmplmKeYgR8t",
    "outputId": "582fd775-52e4-4ea2-fc66-b21bed942ea5"
   },
   "outputs": [
    {
     "data": {
      "text/html": [
       "<div>\n",
       "<style scoped>\n",
       "    .dataframe tbody tr th:only-of-type {\n",
       "        vertical-align: middle;\n",
       "    }\n",
       "\n",
       "    .dataframe tbody tr th {\n",
       "        vertical-align: top;\n",
       "    }\n",
       "\n",
       "    .dataframe thead th {\n",
       "        text-align: right;\n",
       "    }\n",
       "</style>\n",
       "<table border=\"1\" class=\"dataframe\">\n",
       "  <thead>\n",
       "    <tr style=\"text-align: right;\">\n",
       "      <th></th>\n",
       "      <th>prodi</th>\n",
       "      <th>minat</th>\n",
       "      <th>bakat</th>\n",
       "      <th>mapel</th>\n",
       "      <th>nilai</th>\n",
       "      <th>ibu</th>\n",
       "      <th>ayah</th>\n",
       "      <th>penghasilan</th>\n",
       "    </tr>\n",
       "  </thead>\n",
       "  <tbody>\n",
       "    <tr>\n",
       "      <th>0</th>\n",
       "      <td>akn</td>\n",
       "      <td>minat terhadap aktivitas yang berhubungan deng...</td>\n",
       "      <td>bakat terhadap aktivitas yang berhubungan deng...</td>\n",
       "      <td>sejarah geografi</td>\n",
       "      <td>89</td>\n",
       "      <td>petani</td>\n",
       "      <td>meninggal</td>\n",
       "      <td>golongan 2</td>\n",
       "    </tr>\n",
       "    <tr>\n",
       "      <th>1</th>\n",
       "      <td>ti</td>\n",
       "      <td>minat terhadap aktivitas yang berhubungan deng...</td>\n",
       "      <td>bakat terhadap aktivitas yang berhubungan deng...</td>\n",
       "      <td>komputer</td>\n",
       "      <td>96</td>\n",
       "      <td>wirausaha</td>\n",
       "      <td>meninggal</td>\n",
       "      <td>golongan 2</td>\n",
       "    </tr>\n",
       "  </tbody>\n",
       "</table>\n",
       "</div>"
      ],
      "text/plain": [
       "  prodi                                              minat  \\\n",
       "0   akn  minat terhadap aktivitas yang berhubungan deng...   \n",
       "1    ti  minat terhadap aktivitas yang berhubungan deng...   \n",
       "\n",
       "                                               bakat             mapel  nilai  \\\n",
       "0  bakat terhadap aktivitas yang berhubungan deng...  sejarah geografi     89   \n",
       "1  bakat terhadap aktivitas yang berhubungan deng...          komputer     96   \n",
       "\n",
       "         ibu       ayah penghasilan  \n",
       "0     petani  meninggal  golongan 2  \n",
       "1  wirausaha  meninggal  golongan 2  "
      ]
     },
     "execution_count": 192,
     "metadata": {},
     "output_type": "execute_result"
    }
   ],
   "source": [
    "df.head(2)"
   ]
  },
  {
   "cell_type": "markdown",
   "metadata": {
    "id": "9PyDxZrHEZ5S"
   },
   "source": [
    "### Filtering(Stop words remover)"
   ]
  },
  {
   "cell_type": "markdown",
   "metadata": {
    "id": "i_KMRly6FOwJ"
   },
   "source": [
    "* We are going to use stopwords from Sastrawi library"
   ]
  },
  {
   "cell_type": "markdown",
   "metadata": {
    "id": "kU_6aggjFS0L"
   },
   "source": [
    "* First let's see all the stopwords in it"
   ]
  },
  {
   "cell_type": "code",
   "execution_count": 193,
   "metadata": {
    "colab": {
     "base_uri": "https://localhost:8080/"
    },
    "id": "MJEIqUQeEZic",
    "outputId": "620a7547-bcb6-4fec-fa6b-a859aa950fee"
   },
   "outputs": [
    {
     "name": "stdout",
     "output_type": "stream",
     "text": [
      "['yang', 'untuk', 'pada', 'ke', 'para', 'namun', 'menurut', 'antara', 'dia', 'dua', 'ia', 'seperti', 'jika', 'jika', 'sehingga', 'kembali', 'dan', 'tidak', 'ini', 'karena', 'kepada', 'oleh', 'saat', 'harus', 'sementara', 'setelah', 'belum', 'kami', 'sekitar', 'bagi', 'serta', 'di', 'dari', 'telah', 'sebagai', 'masih', 'hal', 'ketika', 'adalah', 'itu', 'dalam', 'bisa', 'bahwa', 'atau', 'hanya', 'kita', 'dengan', 'akan', 'juga', 'ada', 'mereka', 'sudah', 'saya', 'terhadap', 'secara', 'agar', 'lain', 'anda', 'begitu', 'mengapa', 'kenapa', 'yaitu', 'yakni', 'daripada', 'itulah', 'lagi', 'maka', 'tentang', 'demi', 'dimana', 'kemana', 'pula', 'sambil', 'sebelum', 'sesudah', 'supaya', 'guna', 'kah', 'pun', 'sampai', 'sedangkan', 'selagi', 'sementara', 'tetapi', 'apakah', 'kecuali', 'sebab', 'selain', 'seolah', 'seraya', 'seterusnya', 'tanpa', 'agak', 'boleh', 'dapat', 'dsb', 'dst', 'dll', 'dahulu', 'dulunya', 'anu', 'demikian', 'tapi', 'ingin', 'juga', 'nggak', 'mari', 'nanti', 'melainkan', 'oh', 'ok', 'seharusnya', 'sebetulnya', 'setiap', 'setidaknya', 'sesuatu', 'pasti', 'saja', 'toh', 'ya', 'walau', 'tolong', 'tentu', 'amat', 'apalagi', 'bagaimanapun']\n"
     ]
    }
   ],
   "source": [
    "from Sastrawi.StopWordRemover.StopWordRemoverFactory import StopWordRemoverFactory\n",
    "\n",
    "factory = StopWordRemoverFactory()\n",
    "stopwords = factory.get_stop_words()\n",
    "print(stopwords)"
   ]
  },
  {
   "cell_type": "markdown",
   "metadata": {
    "id": "tVZiX_ApFfFb"
   },
   "source": [
    "* Next let's remove all the stopword on our datasets"
   ]
  },
  {
   "cell_type": "code",
   "execution_count": 194,
   "metadata": {
    "id": "SXtdyZXkFXKv"
   },
   "outputs": [],
   "source": [
    "# Removing all the stopwords\n",
    "stopwords = factory.create_stop_word_remover()\n",
    "\n",
    "def filtering(text):\n",
    "  text = stopwords.remove(text)\n",
    "  return text\n",
    "\n",
    "for col in text_cols:\n",
    "  df[col] = df[col].apply(filtering)"
   ]
  },
  {
   "cell_type": "code",
   "execution_count": 195,
   "metadata": {
    "id": "X2J_T6MPgWWs"
   },
   "outputs": [],
   "source": [
    "#df = df.sort_values([\"prodi\"])"
   ]
  },
  {
   "cell_type": "code",
   "execution_count": 196,
   "metadata": {
    "colab": {
     "base_uri": "https://localhost:8080/",
     "height": 156
    },
    "id": "6gO0jExAgtgA",
    "outputId": "3aca694a-aa96-4af8-cc2d-672e4443cbed"
   },
   "outputs": [
    {
     "data": {
      "text/html": [
       "<div>\n",
       "<style scoped>\n",
       "    .dataframe tbody tr th:only-of-type {\n",
       "        vertical-align: middle;\n",
       "    }\n",
       "\n",
       "    .dataframe tbody tr th {\n",
       "        vertical-align: top;\n",
       "    }\n",
       "\n",
       "    .dataframe thead th {\n",
       "        text-align: right;\n",
       "    }\n",
       "</style>\n",
       "<table border=\"1\" class=\"dataframe\">\n",
       "  <thead>\n",
       "    <tr style=\"text-align: right;\">\n",
       "      <th></th>\n",
       "      <th>prodi</th>\n",
       "      <th>minat</th>\n",
       "      <th>bakat</th>\n",
       "      <th>mapel</th>\n",
       "      <th>nilai</th>\n",
       "      <th>ibu</th>\n",
       "      <th>ayah</th>\n",
       "      <th>penghasilan</th>\n",
       "    </tr>\n",
       "  </thead>\n",
       "  <tbody>\n",
       "    <tr>\n",
       "      <th>0</th>\n",
       "      <td>akn</td>\n",
       "      <td>minat aktivitas berhubungan tugas rutin memerl...</td>\n",
       "      <td>bakat aktivitas berhubungan tugas rutin memerl...</td>\n",
       "      <td>sejarah geografi</td>\n",
       "      <td>89</td>\n",
       "      <td>petani</td>\n",
       "      <td>meninggal</td>\n",
       "      <td>golongan 2</td>\n",
       "    </tr>\n",
       "    <tr>\n",
       "      <th>1</th>\n",
       "      <td>ti</td>\n",
       "      <td>minat aktivitas berhubungan tugas rutin memerl...</td>\n",
       "      <td>bakat aktivitas berhubungan tugas rutin memerl...</td>\n",
       "      <td>komputer</td>\n",
       "      <td>96</td>\n",
       "      <td>wirausaha</td>\n",
       "      <td>meninggal</td>\n",
       "      <td>golongan 2</td>\n",
       "    </tr>\n",
       "  </tbody>\n",
       "</table>\n",
       "</div>"
      ],
      "text/plain": [
       "  prodi                                              minat  \\\n",
       "0   akn  minat aktivitas berhubungan tugas rutin memerl...   \n",
       "1    ti  minat aktivitas berhubungan tugas rutin memerl...   \n",
       "\n",
       "                                               bakat             mapel  nilai  \\\n",
       "0  bakat aktivitas berhubungan tugas rutin memerl...  sejarah geografi     89   \n",
       "1  bakat aktivitas berhubungan tugas rutin memerl...          komputer     96   \n",
       "\n",
       "         ibu       ayah penghasilan  \n",
       "0     petani  meninggal  golongan 2  \n",
       "1  wirausaha  meninggal  golongan 2  "
      ]
     },
     "execution_count": 196,
     "metadata": {},
     "output_type": "execute_result"
    }
   ],
   "source": [
    "df.head(2)"
   ]
  },
  {
   "cell_type": "markdown",
   "metadata": {
    "id": "iBaJww-NDnrj"
   },
   "source": [
    "### LabelEncoder(Prodi,Ibu,Ayah,Penghasilan)"
   ]
  },
  {
   "cell_type": "code",
   "execution_count": 197,
   "metadata": {
    "id": "pFgqUrOQEKHS"
   },
   "outputs": [],
   "source": [
    "cols = [\"prodi\", \"ibu\", \"ayah\", \"penghasilan\"]\n",
    "le = LabelEncoder()\n",
    "\n",
    "for col in cols:\n",
    "  le.fit(df[col])\n",
    "  df[col] = le.transform(df[col])"
   ]
  },
  {
   "cell_type": "code",
   "execution_count": 198,
   "metadata": {
    "colab": {
     "base_uri": "https://localhost:8080/",
     "height": 112
    },
    "id": "gieza8UyDTyP",
    "outputId": "b27d7b9d-d93a-4ac5-ee77-c9e4144d4df7"
   },
   "outputs": [
    {
     "data": {
      "text/html": [
       "<div>\n",
       "<style scoped>\n",
       "    .dataframe tbody tr th:only-of-type {\n",
       "        vertical-align: middle;\n",
       "    }\n",
       "\n",
       "    .dataframe tbody tr th {\n",
       "        vertical-align: top;\n",
       "    }\n",
       "\n",
       "    .dataframe thead th {\n",
       "        text-align: right;\n",
       "    }\n",
       "</style>\n",
       "<table border=\"1\" class=\"dataframe\">\n",
       "  <thead>\n",
       "    <tr style=\"text-align: right;\">\n",
       "      <th></th>\n",
       "      <th>prodi</th>\n",
       "      <th>minat</th>\n",
       "      <th>bakat</th>\n",
       "      <th>mapel</th>\n",
       "      <th>nilai</th>\n",
       "      <th>ibu</th>\n",
       "      <th>ayah</th>\n",
       "      <th>penghasilan</th>\n",
       "    </tr>\n",
       "  </thead>\n",
       "  <tbody>\n",
       "    <tr>\n",
       "      <th>0</th>\n",
       "      <td>2</td>\n",
       "      <td>minat aktivitas berhubungan tugas rutin memerl...</td>\n",
       "      <td>bakat aktivitas berhubungan tugas rutin memerl...</td>\n",
       "      <td>sejarah geografi</td>\n",
       "      <td>89</td>\n",
       "      <td>5</td>\n",
       "      <td>3</td>\n",
       "      <td>1</td>\n",
       "    </tr>\n",
       "    <tr>\n",
       "      <th>1</th>\n",
       "      <td>37</td>\n",
       "      <td>minat aktivitas berhubungan tugas rutin memerl...</td>\n",
       "      <td>bakat aktivitas berhubungan tugas rutin memerl...</td>\n",
       "      <td>komputer</td>\n",
       "      <td>96</td>\n",
       "      <td>8</td>\n",
       "      <td>3</td>\n",
       "      <td>1</td>\n",
       "    </tr>\n",
       "  </tbody>\n",
       "</table>\n",
       "</div>"
      ],
      "text/plain": [
       "   prodi                                              minat  \\\n",
       "0      2  minat aktivitas berhubungan tugas rutin memerl...   \n",
       "1     37  minat aktivitas berhubungan tugas rutin memerl...   \n",
       "\n",
       "                                               bakat             mapel  nilai  \\\n",
       "0  bakat aktivitas berhubungan tugas rutin memerl...  sejarah geografi     89   \n",
       "1  bakat aktivitas berhubungan tugas rutin memerl...          komputer     96   \n",
       "\n",
       "   ibu  ayah  penghasilan  \n",
       "0    5     3            1  \n",
       "1    8     3            1  "
      ]
     },
     "execution_count": 198,
     "metadata": {},
     "output_type": "execute_result"
    }
   ],
   "source": [
    "df.head(2)\n",
    "# df.to_excel('data.xlsx')"
   ]
  },
  {
   "cell_type": "markdown",
   "metadata": {
    "id": "cbTHHyK_DVSA"
   },
   "source": [
    "* Good now let's vectorize the others"
   ]
  },
  {
   "cell_type": "markdown",
   "metadata": {
    "id": "NngqrVV7EQJx"
   },
   "source": [
    "### TfIdf Vectorizer(Minat,Bakat,Mapel)"
   ]
  },
  {
   "cell_type": "code",
   "execution_count": 199,
   "metadata": {
    "id": "kr6pnwADEZOA"
   },
   "outputs": [],
   "source": [
    "cols = [\"minat\", \"bakat\", \"mapel\"]\n",
    "vectorizer = TfidfVectorizer()\n",
    "for col in cols:\n",
    "  vectorizer.fit(df[col])\n",
    "  df[col] = vectorizer.transform(df[col]).toarray()"
   ]
  },
  {
   "cell_type": "code",
   "execution_count": 200,
   "metadata": {
    "colab": {
     "base_uri": "https://localhost:8080/",
     "height": 112
    },
    "id": "4wMm8D9NDYof",
    "outputId": "450d60a6-4f71-493c-ab58-8bfb8b264c49"
   },
   "outputs": [
    {
     "data": {
      "text/html": [
       "<div>\n",
       "<style scoped>\n",
       "    .dataframe tbody tr th:only-of-type {\n",
       "        vertical-align: middle;\n",
       "    }\n",
       "\n",
       "    .dataframe tbody tr th {\n",
       "        vertical-align: top;\n",
       "    }\n",
       "\n",
       "    .dataframe thead th {\n",
       "        text-align: right;\n",
       "    }\n",
       "</style>\n",
       "<table border=\"1\" class=\"dataframe\">\n",
       "  <thead>\n",
       "    <tr style=\"text-align: right;\">\n",
       "      <th></th>\n",
       "      <th>prodi</th>\n",
       "      <th>minat</th>\n",
       "      <th>bakat</th>\n",
       "      <th>mapel</th>\n",
       "      <th>nilai</th>\n",
       "      <th>ibu</th>\n",
       "      <th>ayah</th>\n",
       "      <th>penghasilan</th>\n",
       "    </tr>\n",
       "  </thead>\n",
       "  <tbody>\n",
       "    <tr>\n",
       "      <th>0</th>\n",
       "      <td>2</td>\n",
       "      <td>0.20106</td>\n",
       "      <td>0.199390</td>\n",
       "      <td>0.0</td>\n",
       "      <td>89</td>\n",
       "      <td>5</td>\n",
       "      <td>3</td>\n",
       "      <td>1</td>\n",
       "    </tr>\n",
       "    <tr>\n",
       "      <th>1</th>\n",
       "      <td>37</td>\n",
       "      <td>0.22605</td>\n",
       "      <td>0.181181</td>\n",
       "      <td>0.0</td>\n",
       "      <td>96</td>\n",
       "      <td>8</td>\n",
       "      <td>3</td>\n",
       "      <td>1</td>\n",
       "    </tr>\n",
       "  </tbody>\n",
       "</table>\n",
       "</div>"
      ],
      "text/plain": [
       "   prodi    minat     bakat  mapel  nilai  ibu  ayah  penghasilan\n",
       "0      2  0.20106  0.199390    0.0     89    5     3            1\n",
       "1     37  0.22605  0.181181    0.0     96    8     3            1"
      ]
     },
     "execution_count": 200,
     "metadata": {},
     "output_type": "execute_result"
    }
   ],
   "source": [
    "df.head(2)\n",
    "# df.to_excel('data_tfidf.xlsx')"
   ]
  },
  {
   "cell_type": "markdown",
   "metadata": {
    "id": "vtLwdekIEz-l"
   },
   "source": [
    "* Ok now all the value on our dataset are on integer format which mean now we can train our model\n",
    "* N.B: All ML model only accept integer as their input"
   ]
  },
  {
   "cell_type": "markdown",
   "metadata": {
    "id": "ISziKXeng-dX"
   },
   "source": [
    "### Scalling with MinMaxScaler"
   ]
  },
  {
   "cell_type": "code",
   "execution_count": 201,
   "metadata": {
    "colab": {
     "base_uri": "https://localhost:8080/"
    },
    "id": "rCStnHEChHu1",
    "outputId": "1ba7d0dd-c2a3-4697-87bb-9c4334461a6e"
   },
   "outputs": [
    {
     "data": {
      "text/plain": [
       "MinMaxScaler()"
      ]
     },
     "execution_count": 201,
     "metadata": {},
     "output_type": "execute_result"
    }
   ],
   "source": [
    "from sklearn.preprocessing import MinMaxScaler\n",
    "cols = [\"nilai\",\"ibu\",\"ayah\",\"penghasilan\"]\n",
    "scaler = MinMaxScaler()\n",
    "scaler.fit(df[cols])"
   ]
  },
  {
   "cell_type": "code",
   "execution_count": 202,
   "metadata": {
    "id": "nmyt-HLhhTOr"
   },
   "outputs": [],
   "source": [
    "df[cols] = scaler.transform(df[cols])"
   ]
  },
  {
   "cell_type": "code",
   "execution_count": 203,
   "metadata": {
    "colab": {
     "base_uri": "https://localhost:8080/",
     "height": 112
    },
    "id": "3pArJvPYhXTV",
    "outputId": "58252964-4bb0-45b6-f782-7afab7f613df"
   },
   "outputs": [
    {
     "data": {
      "text/html": [
       "<div>\n",
       "<style scoped>\n",
       "    .dataframe tbody tr th:only-of-type {\n",
       "        vertical-align: middle;\n",
       "    }\n",
       "\n",
       "    .dataframe tbody tr th {\n",
       "        vertical-align: top;\n",
       "    }\n",
       "\n",
       "    .dataframe thead th {\n",
       "        text-align: right;\n",
       "    }\n",
       "</style>\n",
       "<table border=\"1\" class=\"dataframe\">\n",
       "  <thead>\n",
       "    <tr style=\"text-align: right;\">\n",
       "      <th></th>\n",
       "      <th>prodi</th>\n",
       "      <th>minat</th>\n",
       "      <th>bakat</th>\n",
       "      <th>mapel</th>\n",
       "      <th>nilai</th>\n",
       "      <th>ibu</th>\n",
       "      <th>ayah</th>\n",
       "      <th>penghasilan</th>\n",
       "    </tr>\n",
       "  </thead>\n",
       "  <tbody>\n",
       "    <tr>\n",
       "      <th>0</th>\n",
       "      <td>2</td>\n",
       "      <td>0.20106</td>\n",
       "      <td>0.0</td>\n",
       "      <td>0.0</td>\n",
       "      <td>0.927083</td>\n",
       "      <td>0.625</td>\n",
       "      <td>0.333333</td>\n",
       "      <td>0.142857</td>\n",
       "    </tr>\n",
       "    <tr>\n",
       "      <th>1</th>\n",
       "      <td>37</td>\n",
       "      <td>0.22605</td>\n",
       "      <td>0.0</td>\n",
       "      <td>0.0</td>\n",
       "      <td>1.000000</td>\n",
       "      <td>1.000</td>\n",
       "      <td>0.333333</td>\n",
       "      <td>0.142857</td>\n",
       "    </tr>\n",
       "  </tbody>\n",
       "</table>\n",
       "</div>"
      ],
      "text/plain": [
       "   prodi    minat  bakat  mapel     nilai    ibu      ayah  penghasilan\n",
       "0      2  0.20106    0.0    0.0  0.927083  0.625  0.333333     0.142857\n",
       "1     37  0.22605    0.0    0.0  1.000000  1.000  0.333333     0.142857"
      ]
     },
     "execution_count": 203,
     "metadata": {},
     "output_type": "execute_result"
    }
   ],
   "source": [
    "df.head(2)\n",
    "# df.to_excel('data_minmax.xlsx')"
   ]
  },
  {
   "cell_type": "markdown",
   "metadata": {
    "id": "zJSA3G3lFBBN"
   },
   "source": [
    "## Modelling(RandomForest)"
   ]
  },
  {
   "cell_type": "markdown",
   "metadata": {
    "id": "hywRKotKFbA6"
   },
   "source": [
    "* Now let's train our RandomForest model"
   ]
  },
  {
   "cell_type": "code",
   "execution_count": 204,
   "metadata": {
    "colab": {
     "base_uri": "https://localhost:8080/",
     "height": 112
    },
    "id": "6kgUQjkYF6SD",
    "outputId": "29f6e789-28cf-49a5-b173-8c0ecfec9cb7"
   },
   "outputs": [
    {
     "data": {
      "text/html": [
       "<div>\n",
       "<style scoped>\n",
       "    .dataframe tbody tr th:only-of-type {\n",
       "        vertical-align: middle;\n",
       "    }\n",
       "\n",
       "    .dataframe tbody tr th {\n",
       "        vertical-align: top;\n",
       "    }\n",
       "\n",
       "    .dataframe thead th {\n",
       "        text-align: right;\n",
       "    }\n",
       "</style>\n",
       "<table border=\"1\" class=\"dataframe\">\n",
       "  <thead>\n",
       "    <tr style=\"text-align: right;\">\n",
       "      <th></th>\n",
       "      <th>prodi</th>\n",
       "      <th>minat</th>\n",
       "      <th>bakat</th>\n",
       "      <th>mapel</th>\n",
       "      <th>nilai</th>\n",
       "      <th>ibu</th>\n",
       "      <th>ayah</th>\n",
       "      <th>penghasilan</th>\n",
       "    </tr>\n",
       "  </thead>\n",
       "  <tbody>\n",
       "    <tr>\n",
       "      <th>0</th>\n",
       "      <td>2</td>\n",
       "      <td>0.20106</td>\n",
       "      <td>0.0</td>\n",
       "      <td>0.0</td>\n",
       "      <td>0.927083</td>\n",
       "      <td>0.625</td>\n",
       "      <td>0.333333</td>\n",
       "      <td>0.142857</td>\n",
       "    </tr>\n",
       "    <tr>\n",
       "      <th>1</th>\n",
       "      <td>37</td>\n",
       "      <td>0.22605</td>\n",
       "      <td>0.0</td>\n",
       "      <td>0.0</td>\n",
       "      <td>1.000000</td>\n",
       "      <td>1.000</td>\n",
       "      <td>0.333333</td>\n",
       "      <td>0.142857</td>\n",
       "    </tr>\n",
       "  </tbody>\n",
       "</table>\n",
       "</div>"
      ],
      "text/plain": [
       "   prodi    minat  bakat  mapel     nilai    ibu      ayah  penghasilan\n",
       "0      2  0.20106    0.0    0.0  0.927083  0.625  0.333333     0.142857\n",
       "1     37  0.22605    0.0    0.0  1.000000  1.000  0.333333     0.142857"
      ]
     },
     "execution_count": 204,
     "metadata": {},
     "output_type": "execute_result"
    }
   ],
   "source": [
    "df.head(2)"
   ]
  },
  {
   "cell_type": "markdown",
   "metadata": {
    "id": "oNmbkSCzFQYg"
   },
   "source": [
    "* Let's split our dataset into feature and target"
   ]
  },
  {
   "cell_type": "markdown",
   "metadata": {
    "id": "ehv25CY4HaTQ"
   },
   "source": [
    "### Feature and Target"
   ]
  },
  {
   "cell_type": "code",
   "execution_count": 205,
   "metadata": {
    "id": "82nIbalyFOmC"
   },
   "outputs": [],
   "source": [
    "X = df.drop([\"prodi\"], axis=1)\n",
    "y = df[\"prodi\"]"
   ]
  },
  {
   "cell_type": "markdown",
   "metadata": {
    "id": "G4Nt-bm4F2JF"
   },
   "source": [
    "* let's check the proportion of the target first"
   ]
  },
  {
   "cell_type": "code",
   "execution_count": 206,
   "metadata": {
    "colab": {
     "base_uri": "https://localhost:8080/"
    },
    "id": "LkxaK5PxGC-8",
    "outputId": "cf52299d-ff5f-46e7-e3e2-971e60ad44a8"
   },
   "outputs": [
    {
     "data": {
      "text/plain": [
       "37    24\n",
       "2     12\n",
       "41     9\n",
       "10     8\n",
       "36     7\n",
       "34     7\n",
       "18     6\n",
       "17     6\n",
       "11     4\n",
       "29     3\n",
       "5      3\n",
       "8      3\n",
       "0      3\n",
       "38     3\n",
       "4      3\n",
       "26     2\n",
       "12     2\n",
       "39     2\n",
       "23     2\n",
       "27     2\n",
       "25     2\n",
       "24     2\n",
       "42     2\n",
       "21     2\n",
       "6      1\n",
       "20     1\n",
       "33     1\n",
       "28     1\n",
       "32     1\n",
       "14     1\n",
       "31     1\n",
       "1      1\n",
       "9      1\n",
       "30     1\n",
       "16     1\n",
       "3      1\n",
       "15     1\n",
       "19     1\n",
       "35     1\n",
       "40     1\n",
       "13     1\n",
       "7      1\n",
       "22     1\n",
       "Name: prodi, dtype: int64"
      ]
     },
     "execution_count": 206,
     "metadata": {},
     "output_type": "execute_result"
    }
   ],
   "source": [
    "y.value_counts()"
   ]
  },
  {
   "cell_type": "markdown",
   "metadata": {
    "id": "C5_IruMKGGaq"
   },
   "source": [
    "* The target was extreamly imbalanced and might effect the performance of our model"
   ]
  },
  {
   "cell_type": "markdown",
   "metadata": {
    "id": "AWT3ZvL8GPL8"
   },
   "source": [
    "* Let's use oversampling technique to settle this."
   ]
  },
  {
   "cell_type": "markdown",
   "metadata": {
    "id": "QXEGQwZBGufa"
   },
   "source": [
    "### Oversampling with imblearn"
   ]
  },
  {
   "cell_type": "code",
   "execution_count": 207,
   "metadata": {
    "id": "Gzt_cl6TGsBo"
   },
   "outputs": [],
   "source": [
    "from imblearn.over_sampling import RandomOverSampler\n",
    "\n",
    "sampler = RandomOverSampler()\n",
    "\n",
    "X, y = sampler.fit_resample(X,y)"
   ]
  },
  {
   "cell_type": "code",
   "execution_count": 208,
   "metadata": {
    "colab": {
     "base_uri": "https://localhost:8080/"
    },
    "id": "TTN4iUlrI1JW",
    "outputId": "169ca4ec-ab61-4983-89ea-2ca9c24c600b"
   },
   "outputs": [
    {
     "data": {
      "text/plain": [
       "2     24\n",
       "14    24\n",
       "16    24\n",
       "12    24\n",
       "4     24\n",
       "30    24\n",
       "11    24\n",
       "9     24\n",
       "1     24\n",
       "24    24\n",
       "26    24\n",
       "38    24\n",
       "0     24\n",
       "6     24\n",
       "20    24\n",
       "25    24\n",
       "33    24\n",
       "8     24\n",
       "28    24\n",
       "32    24\n",
       "39    24\n",
       "31    24\n",
       "37    24\n",
       "40    24\n",
       "36    24\n",
       "41    24\n",
       "10    24\n",
       "21    24\n",
       "34    24\n",
       "29    24\n",
       "7     24\n",
       "13    24\n",
       "35    24\n",
       "5     24\n",
       "18    24\n",
       "17    24\n",
       "42    24\n",
       "23    24\n",
       "19    24\n",
       "27    24\n",
       "15    24\n",
       "3     24\n",
       "22    24\n",
       "Name: prodi, dtype: int64"
      ]
     },
     "execution_count": 208,
     "metadata": {},
     "output_type": "execute_result"
    }
   ],
   "source": [
    "y.value_counts()"
   ]
  },
  {
   "cell_type": "markdown",
   "metadata": {
    "id": "cdqlQ9_xHRLb"
   },
   "source": [
    "* Now all the target all perfectly balanced"
   ]
  },
  {
   "cell_type": "markdown",
   "metadata": {
    "id": "OC9vlU2BHliO"
   },
   "source": [
    "### Train and Accuracy"
   ]
  },
  {
   "cell_type": "markdown",
   "metadata": {
    "id": "bS5v9_cTHqZj"
   },
   "source": [
    "* before we train our model, let's split the feature and target into train and test set"
   ]
  },
  {
   "cell_type": "code",
   "execution_count": 209,
   "metadata": {
    "id": "t-xZGd_9I9OI"
   },
   "outputs": [],
   "source": [
    "# split into train set and test set with 30% test size\n",
    "X_train, X_test, y_train, y_test = train_test_split(X,y, test_size=0.3,\n",
    "                                                    random_state=42)"
   ]
  },
  {
   "cell_type": "code",
   "execution_count": 210,
   "metadata": {
    "colab": {
     "base_uri": "https://localhost:8080/"
    },
    "id": "L81f7Qp0JBIO",
    "outputId": "018594ab-ca74-431a-cbe1-b1eb5a684927"
   },
   "outputs": [
    {
     "data": {
      "text/plain": [
       "RandomForestClassifier(random_state=42)"
      ]
     },
     "execution_count": 210,
     "metadata": {},
     "output_type": "execute_result"
    }
   ],
   "source": [
    "# fit the model\n",
    "model = RandomForestClassifier(random_state=42)\n",
    "model.fit(X_train, y_train)"
   ]
  },
  {
   "cell_type": "markdown",
   "metadata": {
    "id": "kBe3FewYIIN0"
   },
   "source": [
    "* Now let's see how accurate our model is"
   ]
  },
  {
   "cell_type": "code",
   "execution_count": 211,
   "metadata": {
    "colab": {
     "base_uri": "https://localhost:8080/"
    },
    "id": "bEcrgvh3JN-u",
    "outputId": "63167980-de72-464b-f317-96421386f993"
   },
   "outputs": [
    {
     "name": "stdout",
     "output_type": "stream",
     "text": [
      "RandomForest Accuracy Score: 0.98\n"
     ]
    }
   ],
   "source": [
    "y_pred = model.predict(X_test)\n",
    "\n",
    "print(\"RandomForest Accuracy Score: {:.2f}\".format(accuracy_score(y_test, y_pred)))"
   ]
  },
  {
   "cell_type": "markdown",
   "metadata": {
    "id": "ktYymFkwJRkd"
   },
   "source": [
    "* The model achieve great accuracy with 98% accuracy score"
   ]
  },
  {
   "cell_type": "markdown",
   "metadata": {
    "id": "5JMkGbN_IlDk"
   },
   "source": [
    "* Let's save our model for next development process"
   ]
  },
  {
   "cell_type": "markdown",
   "metadata": {
    "id": "LTzmGms6JVPj"
   },
   "source": [
    "### Saving Model"
   ]
  },
  {
   "cell_type": "code",
   "execution_count": 212,
   "metadata": {
    "id": "cQryR8hnJduO"
   },
   "outputs": [],
   "source": [
    "# saving model with pickle\n",
    "import pickle\n",
    "\n",
    "pickle.dump(model, open('model.pkl', 'wb'))"
   ]
  },
  {
   "cell_type": "markdown",
   "metadata": {
    "id": "sEyij4lqJIRg"
   },
   "source": [
    "### Load and Test Model"
   ]
  },
  {
   "cell_type": "code",
   "execution_count": 213,
   "metadata": {
    "id": "mlfaM0exLxDS"
   },
   "outputs": [],
   "source": [
    "loaded_model = pickle.load(open('model.pkl', 'rb'))"
   ]
  },
  {
   "cell_type": "code",
   "execution_count": 214,
   "metadata": {
    "id": "LeG8F6M0M5_r"
   },
   "outputs": [],
   "source": [
    "y_load_pred = loaded_model.predict(X_test)"
   ]
  },
  {
   "cell_type": "code",
   "execution_count": 215,
   "metadata": {
    "colab": {
     "base_uri": "https://localhost:8080/"
    },
    "id": "7Eo3QiCgM-d1",
    "outputId": "a3af3667-bd00-4181-8982-20e27bf952ac"
   },
   "outputs": [
    {
     "name": "stdout",
     "output_type": "stream",
     "text": [
      "Loaded Model Accuracy: 0.98\n"
     ]
    }
   ],
   "source": [
    "print(\"Loaded Model Accuracy: {:.2f}\".format(accuracy_score(y_test, y_load_pred)))"
   ]
  },
  {
   "cell_type": "markdown",
   "metadata": {
    "id": "1L2TEn-dNHWm"
   },
   "source": [
    "* Yup its working perfectly"
   ]
  },
  {
   "cell_type": "markdown",
   "metadata": {},
   "source": [
    "# Saving Model Plot"
   ]
  },
  {
   "cell_type": "code",
   "execution_count": 216,
   "metadata": {},
   "outputs": [],
   "source": [
    "# from sklearn.tree import export_graphviz\n",
    "\n",
    "# estimator = model.estimators_[99]\n",
    "\n",
    "# export_graphviz(estimator, out_file=\"tree.dot\",\n",
    "#                 feature_names = model.feature_names_in_,\n",
    "#                 class_names = le.classes_,\n",
    "#                 rounded=True, filled=True)"
   ]
  },
  {
   "cell_type": "code",
   "execution_count": 217,
   "metadata": {},
   "outputs": [],
   "source": [
    "# import os\n",
    "# os.listdir()"
   ]
  },
  {
   "cell_type": "code",
   "execution_count": 218,
   "metadata": {},
   "outputs": [],
   "source": [
    "# from subprocess import call\n",
    "# call(['dot', '-Tpng', 'tree.dot', '-o', 'tree.png', '-Gdpi=600'])"
   ]
  },
  {
   "cell_type": "code",
   "execution_count": 219,
   "metadata": {},
   "outputs": [],
   "source": [
    "# from IPython.display import Image\n",
    "# Image(filename = 'tree.png')"
   ]
  },
  {
   "cell_type": "markdown",
   "metadata": {
    "id": "pnZdGyEFNNTS"
   },
   "source": [
    "# Random Forest Manual"
   ]
  },
  {
   "cell_type": "markdown",
   "metadata": {
    "id": "P3EoBGbQfVK_"
   },
   "source": [
    "## Entropy"
   ]
  },
  {
   "cell_type": "markdown",
   "metadata": {
    "id": "lxfPXe-RfmWx"
   },
   "source": [
    "* Jadi untuk pertama-tama kita akan mendefinisikan `entropy`\n",
    "\n",
    "* Entropi adalah nilai informasi yang menyatakan\n",
    "ukuran ketidakpastian(impurity) dari attribut dari\n",
    "suatu kumpulan obyek data dalam satuan bit.\n",
    "\n",
    "* Entropi juga di pakai untuk menghitung **information gains**(efektivitas suatu attribute dalam pengklasifikasian) \n"
   ]
  },
  {
   "cell_type": "code",
   "execution_count": 220,
   "metadata": {
    "id": "BU7K91bKxa77"
   },
   "outputs": [],
   "source": [
    "import numpy as np\n",
    "from collections import Counter\n",
    "\n",
    "def entropy(y):\n",
    "    hist = np.bincount(y) # np.bincount mengembalikan jumlah kemunculan tiap nilai\n",
    "    ps = hist / len(y)\n",
    "    # di bawah adalah formula menghitung entropy decision tree\n",
    "    return -np.sum([p * np.log2(p) for p in ps if p > 0])\n",
    "    \n",
    "    # Node adalah cabang dari decision tree\n",
    "class Node:\n",
    "    def __init__(self, feature=None, threshold=None, left=None, right=None, *, value=None):\n",
    "        self.feature = feature # input/feature\n",
    "        self.threshold = threshold # nilai yang digunakan untuk tunning recall dan precision\n",
    "        self.left = left # left node\n",
    "        self.right = right # right node\n",
    "        self.value = value # hasil akhir klasifikasi\n",
    "\n",
    "    def is_leaf_node(self):\n",
    "        return self.value is not None"
   ]
  },
  {
   "cell_type": "markdown",
   "metadata": {
    "id": "FscVpMB0pbhY"
   },
   "source": [
    "## Decision Tree"
   ]
  },
  {
   "cell_type": "markdown",
   "metadata": {
    "id": "w7cX14wMpe1V"
   },
   "source": [
    "* Decision Tree adalah struktur yang\n",
    "dapat digunakan untuk membagi data yang`\n",
    "besar menjadi himpunan-himpunan record\n",
    "yang lebih kecil dengan menerapkan\n",
    "serangkaian aturan keputusan. (Berry & Linoff)"
   ]
  },
  {
   "cell_type": "code",
   "execution_count": 221,
   "metadata": {
    "id": "6ivX3hnwxDOS"
   },
   "outputs": [],
   "source": [
    "class DecisionTree:\n",
    "\n",
    "    def __init__(self, min_samples_split=2, max_depth=100, n_feats=None):\n",
    "        # jika jumlah min_samples_split jumlah samples yang diperbolehkan\n",
    "        # untuk di melakukan splits \n",
    "        self.min_samples_split = min_samples_split \n",
    "        self.max_depth = max_depth # jumlah maximum kedalaman suatu tree\n",
    "        self.n_feats = n_feats # jumlah features\n",
    "        self.root = None # root node tree\n",
    "\n",
    "    def fit(self, X, y):\n",
    "        # jumlah feature\n",
    "        self.n_feats = X.shape[1] if not self.n_feats else min(self.n_feats, X.shape[1])\n",
    "        # grow_tree melakukan proses pembuatan decision tree\n",
    "        self.root = self._grow_tree(X, y)\n",
    "\n",
    "    def predict(self, X): # prediksi (traverse_tree ada dibawah)\n",
    "        return np.array([self._traverse_tree(x, self.root) for x in X])\n",
    "\n",
    "    def _grow_tree(self, X, y, depth=0):\n",
    "        # perbedaan antara samples dan features terlihat disini\n",
    "        # samples adalah rows(baris) dan feature adalah columns(pandas)\n",
    "        n_samples, n_features = X.shape\n",
    "        # n_labels adalah jumlah label(unique)\n",
    "        n_labels = len(np.unique(y))\n",
    "\n",
    "        # stopping criteria\n",
    "        # disini max_depth digunakan untuk mencegah tree tumbuh lebih ke bawah/dalam\n",
    "        if (depth >= self.max_depth\n",
    "                or n_labels == 1\n",
    "                or n_samples < self.min_samples_split):\n",
    "            leaf_value = self._most_common_label(y)\n",
    "            return Node(value=leaf_value)\n",
    "\n",
    "        # indeks dari tiap features\n",
    "        # random.choice mengembalikan samples secara random \n",
    "        # random.choice(a(array), size=None, replace=True, p=None)\n",
    "        feat_idxs = np.random.choice(n_features, self.n_feats, replace=False)\n",
    "\n",
    "        # greedily select the best split according to information gain\n",
    "        # di sini kita akan mencari feature and threshold terbaik untuk model\n",
    "        # self._best_criteria ada dibawah \n",
    "        best_feat, best_thresh = self._best_criteria(X, y, feat_idxs)\n",
    "        \n",
    "        # grow the children that result from the split\n",
    "        # left indeks dan right indeks\n",
    "        left_idxs, right_idxs = self._split(X[:, best_feat], best_thresh)\n",
    "        # membuat tree untuk left nodes\n",
    "        left = self._grow_tree(X[left_idxs, :], y[left_idxs], depth+1)\n",
    "        # membuat tree untuk right nodes\n",
    "        right = self._grow_tree(X[right_idxs, :], y[right_idxs], depth+1)\n",
    "        return Node(best_feat, best_thresh, left, right)\n",
    "\n",
    "    # mencari kriteria terbaik untuk feature dan threshold\n",
    "    def _best_criteria(self, X, y, feat_idxs):\n",
    "        best_gain = -1 # nilai awal(akan berubah seiring pelatihan model)\n",
    "        split_idx, split_thresh = None, None # nilai awal\n",
    "        # di sinilah proses iterasi untuk mencari best feats dan thresh \n",
    "        for feat_idx in feat_idxs:\n",
    "            X_column = X[:, feat_idx] # X[:, feats] == X[baris(: == all), kolom]\n",
    "            thresholds = np.unique(X_column) # mengembalikan nilai unik dari X_col\n",
    "            # iterasi untuk dalam information gains mengunakan threshold\n",
    "            # remember threshold adalah nilai unik dari X_column\n",
    "            for threshold in thresholds:\n",
    "                # _information_gain ada dibawah\n",
    "                gain = self._information_gain(y, X_column, threshold)\n",
    "                \n",
    "                # ingat di atas kita mendefinisikan best_gain sebagai -1\n",
    "                # dan akan terus di ganti jika gain > best_gain\n",
    "                # best_gain inilah yang jadi acuan mana indeks dan threshold terbaik\n",
    "                if gain > best_gain:\n",
    "                    best_gain = gain\n",
    "                    split_idx = feat_idx\n",
    "                    split_thresh = threshold\n",
    "\n",
    "        return split_idx, split_thresh\n",
    "\n",
    "    def _information_gain(self, y, X_column, split_thresh):\n",
    "        # ingat lagi kalau entropy digunakan untuk information gain\n",
    "        # disinilah entropy melakukan tugas nya\n",
    "        # parent loss\n",
    "        parent_entropy = entropy(y) # y adalah target\n",
    "\n",
    "        # generate split\n",
    "        # melakukan proses splitting untuk left nodes indeks dan right node indeks\n",
    "        left_idxs, right_idxs = self._split(X_column, split_thresh) \n",
    "\n",
    "        # jika left atau right indeks tidak ada maka proses di hentikan\n",
    "        # dan akan mengembalikan nilai gain menjadi 0\n",
    "        if len(left_idxs) == 0 or len(right_idxs) == 0:\n",
    "            return 0\n",
    "\n",
    "        # compute the weighted avg. of the loss for the children\n",
    "        # menghitung rata-rata dari child entropy\n",
    "        n = len(y) \n",
    "        n_l, n_r = len(left_idxs), len(right_idxs) # n_left dan n_right\n",
    "        e_l, e_r = entropy(y[left_idxs]), entropy(y[right_idxs]) # entropy left dan right\n",
    "        child_entropy = (n_l / n) * e_l + (n_r / n) * e_r\n",
    "\n",
    "        # information gain is difference in loss before vs. after split\n",
    "        # information gain adalah parent entropy di kurang child entropy\n",
    "        ig = parent_entropy - child_entropy\n",
    "        return ig\n",
    "\n",
    "    # fungsi untuk split \n",
    "    def _split(self, X_column, split_thresh):\n",
    "        left_idxs = np.argwhere(X_column <= split_thresh).flatten()\n",
    "        right_idxs = np.argwhere(X_column > split_thresh).flatten()\n",
    "        return left_idxs, right_idxs\n",
    "\n",
    "    def _traverse_tree(self, x, node):\n",
    "        # fungsi is_leaf_node mengembalikan nilai node jika tidak kosong/None\n",
    "        if node.is_leaf_node():\n",
    "            return node.value\n",
    "        # jika jumlah feature lebih kecil dari threshold\n",
    "        # maka akan mengembalikan nilai node left dan jika tidak\n",
    "        # maka akan mengembalikan nilai node right\n",
    "        if x[node.feature] <= node.threshold:\n",
    "            return self._traverse_tree(x, node.left)\n",
    "        return self._traverse_tree(x, node.right)\n",
    "    # fungsi untuk mengembalikan nilai yang paling banyak muncul\n",
    "    def _most_common_label(self, y):\n",
    "        counter = Counter(y)\n",
    "        most_common = counter.most_common(1)[0][0]\n",
    "        return most_common"
   ]
  },
  {
   "cell_type": "markdown",
   "metadata": {
    "id": "Iwnr1-YvyQL9"
   },
   "source": [
    "* decision tree manual [di sini](https://towardsdatascience.com/decision-tree-part-2-34b31b1dc328)"
   ]
  },
  {
   "cell_type": "markdown",
   "metadata": {
    "id": "TTmpa60kyicF"
   },
   "source": [
    "## Random Forest"
   ]
  },
  {
   "cell_type": "markdown",
   "metadata": {
    "id": "gefpL2auykAj"
   },
   "source": [
    "* Ingat Random Forest adalah bagian dari keluarga algoritma ensemble.\n",
    "* Yang dimana, setiap keputusan di dasari dari 2 atau lebih model\n",
    "* Random Forest hanyalah Model yang menggunakan 2 atau lebih model Decision Tree untuk menyelesaikan suatu permasalahan"
   ]
  },
  {
   "cell_type": "code",
   "execution_count": 225,
   "metadata": {
    "id": "gS_xSbZrw4H_"
   },
   "outputs": [],
   "source": [
    "import numpy as np \n",
    "from collections import Counter\n",
    "def bootstrap_sample(X, y):\n",
    "    n_samples = X.shape[0] # ingat sample adalah jumlah baris(rows)\n",
    "    idxs = np.random.choice(n_samples, n_samples, replace=True) # indeks\n",
    "#     print(\"idx\",idsx)\n",
    "    return X[idxs], y[idxs]\n",
    "def most_common_label(y):\n",
    "    counter = Counter(y)\n",
    "    most_common = counter.most_common(1)[0][0]\n",
    "    return most_common\n",
    "class RandomForest:\n",
    "    \n",
    "    def __init__(self, n_trees=10, min_samples_split=2,\n",
    "                 max_depth=100, n_feats=None):\n",
    "        self.n_trees = n_trees # jumlah decision tree\n",
    "        self.min_samples_split = min_samples_split # min_sample\n",
    "        self.max_depth = max_depth # max_depth\n",
    "        self.n_feats = n_feats # jumlah feature\n",
    "        self.trees = [] # nilai awal array tree\n",
    "\n",
    "    def fit(self, X, y):\n",
    "        self.trees = []\n",
    "        for _ in range(self.n_trees): # iterasi berdasarkan banyak nya n_trees\n",
    "            tree = DecisionTree(min_samples_split=self.min_samples_split,\n",
    "                max_depth=self.max_depth, n_feats=self.n_feats)\n",
    "            X_samp, y_samp = bootstrap_sample(X, y) # sampling dari fungsi di atas\n",
    "            tree.fit(X_samp, y_samp)\n",
    "            self.trees.append(tree) # setiap kali model berhasil dilatih(fit)\n",
    "                                    # maka akan langsung di masukan ke array trees\n",
    "\n",
    "    def predict(self, X):\n",
    "        # tree_preds adalah array yang berisi hasil prediksi tiap trees\n",
    "        tree_preds = np.array([tree.predict(X) for tree in self.trees])\n",
    "        tree_preds = np.swapaxes(tree_preds, 0, 1)\n",
    "        # y_pred nilai setiap prediski \n",
    "        y_pred = [most_common_label(tree_pred) for tree_pred in tree_preds]\n",
    "        return np.array(y_pred)\n"
   ]
  },
  {
   "cell_type": "code",
   "execution_count": 226,
   "metadata": {
    "id": "vXsf3_7Vz79m"
   },
   "outputs": [],
   "source": [
    "# fungsi untuk menghitung akurasi\n",
    "# jumlah benar dibagi jumlah total\n",
    "def accuracy(y_true, y_pred):   \n",
    "    accuracy = np.sum(y_true == y_pred)/len(y_true)   \n",
    "    return accuracy"
   ]
  },
  {
   "cell_type": "code",
   "execution_count": 227,
   "metadata": {
    "id": "rXxJIqfry8Ad"
   },
   "outputs": [],
   "source": [
    "clf = RandomForest(n_trees=100)\n",
    "clf.fit(X_train.values, y_train.values)"
   ]
  },
  {
   "cell_type": "code",
   "execution_count": 228,
   "metadata": {
    "colab": {
     "base_uri": "https://localhost:8080/"
    },
    "id": "TAeYHJ1XzAXD",
    "outputId": "0bce593a-f516-440e-a4c7-fb5fc945584f"
   },
   "outputs": [
    {
     "name": "stdout",
     "output_type": "stream",
     "text": [
      "Accuracy: 0.98\n"
     ]
    }
   ],
   "source": [
    "y_pred = clf.predict(X_test.values)\n",
    "print(\"Accuracy: {:.2f}\".format(accuracy(y_test.values, y_pred)))"
   ]
  },
  {
   "cell_type": "code",
   "execution_count": null,
   "metadata": {
    "id": "omPRvbR9emvx"
   },
   "outputs": [],
   "source": []
  }
 ],
 "metadata": {
  "colab": {
   "collapsed_sections": [],
   "name": "Recommendation System using Random Forest revision explained.ipynb",
   "provenance": []
  },
  "kernelspec": {
   "display_name": "Python 3 (ipykernel)",
   "language": "python",
   "name": "python3"
  },
  "language_info": {
   "codemirror_mode": {
    "name": "ipython",
    "version": 3
   },
   "file_extension": ".py",
   "mimetype": "text/x-python",
   "name": "python",
   "nbconvert_exporter": "python",
   "pygments_lexer": "ipython3",
   "version": "3.9.10"
  }
 },
 "nbformat": 4,
 "nbformat_minor": 1
}
