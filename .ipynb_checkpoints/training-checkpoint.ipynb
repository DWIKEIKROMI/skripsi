{
 "cells": [
  {
   "cell_type": "markdown",
   "metadata": {},
   "source": [
    "## SETTING UP DATASET"
   ]
  },
  {
   "cell_type": "code",
   "execution_count": 1,
   "metadata": {},
   "outputs": [
    {
     "ename": "ParserError",
     "evalue": "Error tokenizing data. C error: Expected 12 fields in line 5, saw 35\n",
     "output_type": "error",
     "traceback": [
      "\u001b[1;31m---------------------------------------------------------------------------\u001b[0m",
      "\u001b[1;31mParserError\u001b[0m                               Traceback (most recent call last)",
      "Input \u001b[1;32mIn [1]\u001b[0m, in \u001b[0;36m<cell line: 5>\u001b[1;34m()\u001b[0m\n\u001b[0;32m      2\u001b[0m \u001b[38;5;28;01mfrom\u001b[39;00m \u001b[38;5;21;01mutils\u001b[39;00m\u001b[38;5;21;01m.\u001b[39;00m\u001b[38;5;21;01mtfidf\u001b[39;00m \u001b[38;5;28;01mimport\u001b[39;00m \u001b[38;5;241m*\u001b[39m\n\u001b[0;32m      3\u001b[0m \u001b[38;5;28;01mimport\u001b[39;00m \u001b[38;5;21;01mnumpy\u001b[39;00m \u001b[38;5;28;01mas\u001b[39;00m \u001b[38;5;21;01mnp\u001b[39;00m\n\u001b[1;32m----> 5\u001b[0m df \u001b[38;5;241m=\u001b[39m \u001b[43mpd\u001b[49m\u001b[38;5;241;43m.\u001b[39;49m\u001b[43mread_csv\u001b[49m\u001b[43m(\u001b[49m\u001b[38;5;124;43m\"\u001b[39;49m\u001b[38;5;124;43m./data/data_train2.csv\u001b[39;49m\u001b[38;5;124;43m\"\u001b[39;49m\u001b[43m,\u001b[49m\u001b[43m \u001b[49m\u001b[43mdelimiter\u001b[49m\u001b[38;5;241;43m=\u001b[39;49m\u001b[38;5;124;43m\"\u001b[39;49m\u001b[38;5;124;43m,\u001b[39;49m\u001b[38;5;124;43m\"\u001b[39;49m\u001b[43m)\u001b[49m\n\u001b[0;32m      6\u001b[0m df\u001b[38;5;241m.\u001b[39mhead()\n",
      "File \u001b[1;32mD:\\Dwike\\Skripsi\\venv\\lib\\site-packages\\pandas\\util\\_decorators.py:311\u001b[0m, in \u001b[0;36mdeprecate_nonkeyword_arguments.<locals>.decorate.<locals>.wrapper\u001b[1;34m(*args, **kwargs)\u001b[0m\n\u001b[0;32m    305\u001b[0m \u001b[38;5;28;01mif\u001b[39;00m \u001b[38;5;28mlen\u001b[39m(args) \u001b[38;5;241m>\u001b[39m num_allow_args:\n\u001b[0;32m    306\u001b[0m     warnings\u001b[38;5;241m.\u001b[39mwarn(\n\u001b[0;32m    307\u001b[0m         msg\u001b[38;5;241m.\u001b[39mformat(arguments\u001b[38;5;241m=\u001b[39marguments),\n\u001b[0;32m    308\u001b[0m         \u001b[38;5;167;01mFutureWarning\u001b[39;00m,\n\u001b[0;32m    309\u001b[0m         stacklevel\u001b[38;5;241m=\u001b[39mstacklevel,\n\u001b[0;32m    310\u001b[0m     )\n\u001b[1;32m--> 311\u001b[0m \u001b[38;5;28;01mreturn\u001b[39;00m func(\u001b[38;5;241m*\u001b[39margs, \u001b[38;5;241m*\u001b[39m\u001b[38;5;241m*\u001b[39mkwargs)\n",
      "File \u001b[1;32mD:\\Dwike\\Skripsi\\venv\\lib\\site-packages\\pandas\\io\\parsers\\readers.py:680\u001b[0m, in \u001b[0;36mread_csv\u001b[1;34m(filepath_or_buffer, sep, delimiter, header, names, index_col, usecols, squeeze, prefix, mangle_dupe_cols, dtype, engine, converters, true_values, false_values, skipinitialspace, skiprows, skipfooter, nrows, na_values, keep_default_na, na_filter, verbose, skip_blank_lines, parse_dates, infer_datetime_format, keep_date_col, date_parser, dayfirst, cache_dates, iterator, chunksize, compression, thousands, decimal, lineterminator, quotechar, quoting, doublequote, escapechar, comment, encoding, encoding_errors, dialect, error_bad_lines, warn_bad_lines, on_bad_lines, delim_whitespace, low_memory, memory_map, float_precision, storage_options)\u001b[0m\n\u001b[0;32m    665\u001b[0m kwds_defaults \u001b[38;5;241m=\u001b[39m _refine_defaults_read(\n\u001b[0;32m    666\u001b[0m     dialect,\n\u001b[0;32m    667\u001b[0m     delimiter,\n\u001b[1;32m   (...)\u001b[0m\n\u001b[0;32m    676\u001b[0m     defaults\u001b[38;5;241m=\u001b[39m{\u001b[38;5;124m\"\u001b[39m\u001b[38;5;124mdelimiter\u001b[39m\u001b[38;5;124m\"\u001b[39m: \u001b[38;5;124m\"\u001b[39m\u001b[38;5;124m,\u001b[39m\u001b[38;5;124m\"\u001b[39m},\n\u001b[0;32m    677\u001b[0m )\n\u001b[0;32m    678\u001b[0m kwds\u001b[38;5;241m.\u001b[39mupdate(kwds_defaults)\n\u001b[1;32m--> 680\u001b[0m \u001b[38;5;28;01mreturn\u001b[39;00m \u001b[43m_read\u001b[49m\u001b[43m(\u001b[49m\u001b[43mfilepath_or_buffer\u001b[49m\u001b[43m,\u001b[49m\u001b[43m \u001b[49m\u001b[43mkwds\u001b[49m\u001b[43m)\u001b[49m\n",
      "File \u001b[1;32mD:\\Dwike\\Skripsi\\venv\\lib\\site-packages\\pandas\\io\\parsers\\readers.py:581\u001b[0m, in \u001b[0;36m_read\u001b[1;34m(filepath_or_buffer, kwds)\u001b[0m\n\u001b[0;32m    578\u001b[0m     \u001b[38;5;28;01mreturn\u001b[39;00m parser\n\u001b[0;32m    580\u001b[0m \u001b[38;5;28;01mwith\u001b[39;00m parser:\n\u001b[1;32m--> 581\u001b[0m     \u001b[38;5;28;01mreturn\u001b[39;00m \u001b[43mparser\u001b[49m\u001b[38;5;241;43m.\u001b[39;49m\u001b[43mread\u001b[49m\u001b[43m(\u001b[49m\u001b[43mnrows\u001b[49m\u001b[43m)\u001b[49m\n",
      "File \u001b[1;32mD:\\Dwike\\Skripsi\\venv\\lib\\site-packages\\pandas\\io\\parsers\\readers.py:1254\u001b[0m, in \u001b[0;36mTextFileReader.read\u001b[1;34m(self, nrows)\u001b[0m\n\u001b[0;32m   1252\u001b[0m nrows \u001b[38;5;241m=\u001b[39m validate_integer(\u001b[38;5;124m\"\u001b[39m\u001b[38;5;124mnrows\u001b[39m\u001b[38;5;124m\"\u001b[39m, nrows)\n\u001b[0;32m   1253\u001b[0m \u001b[38;5;28;01mtry\u001b[39;00m:\n\u001b[1;32m-> 1254\u001b[0m     index, columns, col_dict \u001b[38;5;241m=\u001b[39m \u001b[38;5;28;43mself\u001b[39;49m\u001b[38;5;241;43m.\u001b[39;49m\u001b[43m_engine\u001b[49m\u001b[38;5;241;43m.\u001b[39;49m\u001b[43mread\u001b[49m\u001b[43m(\u001b[49m\u001b[43mnrows\u001b[49m\u001b[43m)\u001b[49m\n\u001b[0;32m   1255\u001b[0m \u001b[38;5;28;01mexcept\u001b[39;00m \u001b[38;5;167;01mException\u001b[39;00m:\n\u001b[0;32m   1256\u001b[0m     \u001b[38;5;28mself\u001b[39m\u001b[38;5;241m.\u001b[39mclose()\n",
      "File \u001b[1;32mD:\\Dwike\\Skripsi\\venv\\lib\\site-packages\\pandas\\io\\parsers\\c_parser_wrapper.py:225\u001b[0m, in \u001b[0;36mCParserWrapper.read\u001b[1;34m(self, nrows)\u001b[0m\n\u001b[0;32m    223\u001b[0m \u001b[38;5;28;01mtry\u001b[39;00m:\n\u001b[0;32m    224\u001b[0m     \u001b[38;5;28;01mif\u001b[39;00m \u001b[38;5;28mself\u001b[39m\u001b[38;5;241m.\u001b[39mlow_memory:\n\u001b[1;32m--> 225\u001b[0m         chunks \u001b[38;5;241m=\u001b[39m \u001b[38;5;28;43mself\u001b[39;49m\u001b[38;5;241;43m.\u001b[39;49m\u001b[43m_reader\u001b[49m\u001b[38;5;241;43m.\u001b[39;49m\u001b[43mread_low_memory\u001b[49m\u001b[43m(\u001b[49m\u001b[43mnrows\u001b[49m\u001b[43m)\u001b[49m\n\u001b[0;32m    226\u001b[0m         \u001b[38;5;66;03m# destructive to chunks\u001b[39;00m\n\u001b[0;32m    227\u001b[0m         data \u001b[38;5;241m=\u001b[39m _concatenate_chunks(chunks)\n",
      "File \u001b[1;32mD:\\Dwike\\Skripsi\\venv\\lib\\site-packages\\pandas\\_libs\\parsers.pyx:805\u001b[0m, in \u001b[0;36mpandas._libs.parsers.TextReader.read_low_memory\u001b[1;34m()\u001b[0m\n",
      "File \u001b[1;32mD:\\Dwike\\Skripsi\\venv\\lib\\site-packages\\pandas\\_libs\\parsers.pyx:861\u001b[0m, in \u001b[0;36mpandas._libs.parsers.TextReader._read_rows\u001b[1;34m()\u001b[0m\n",
      "File \u001b[1;32mD:\\Dwike\\Skripsi\\venv\\lib\\site-packages\\pandas\\_libs\\parsers.pyx:847\u001b[0m, in \u001b[0;36mpandas._libs.parsers.TextReader._tokenize_rows\u001b[1;34m()\u001b[0m\n",
      "File \u001b[1;32mD:\\Dwike\\Skripsi\\venv\\lib\\site-packages\\pandas\\_libs\\parsers.pyx:1960\u001b[0m, in \u001b[0;36mpandas._libs.parsers.raise_parser_error\u001b[1;34m()\u001b[0m\n",
      "\u001b[1;31mParserError\u001b[0m: Error tokenizing data. C error: Expected 12 fields in line 5, saw 35\n"
     ]
    }
   ],
   "source": [
    "import pandas as pd\n",
    "from utils.tfidf import *\n",
    "import numpy as np\n",
    "\n",
    "df = pd.read_csv(\"./data/data_train2.csv\", delimiter=\",\")\n",
    "df.head()"
   ]
  },
  {
   "cell_type": "code",
   "execution_count": 60,
   "metadata": {},
   "outputs": [],
   "source": [
    "df_minat = pd.read_csv('./data/tfidf_minat.csv')\n",
    "df_bakat = pd.read_csv('./data/tfidf_bakat.csv')\n",
    "df_mapel = pd.read_csv('./data/tfidf_mapel.csv')"
   ]
  },
  {
   "cell_type": "code",
   "execution_count": 61,
   "metadata": {},
   "outputs": [],
   "source": [
    "prodi = df['prodi'].tolist()\n",
    "df['prodi'] = [p.strip() for p in prodi]"
   ]
  },
  {
   "cell_type": "code",
   "execution_count": 62,
   "metadata": {},
   "outputs": [],
   "source": [
    "def tfidf_mean(string, df):\n",
    "  tfidf_value = evaluate_tfidf(string, df)\n",
    "  return np.mean(list(tfidf_value.values()))"
   ]
  },
  {
   "cell_type": "code",
   "execution_count": 63,
   "metadata": {},
   "outputs": [],
   "source": [
    "df['minat_score'] = [tfidf_mean(minat, df_minat) for minat in df['minat']]\n",
    "df['bakat_score'] = [tfidf_mean(bakat, df_bakat) for bakat in df['bakat']]\n",
    "df['mapel_score'] = [tfidf_mean(mapel, df_mapel) for mapel in df['mapel']]"
   ]
  },
  {
   "cell_type": "code",
   "execution_count": 64,
   "metadata": {},
   "outputs": [
    {
     "data": {
      "text/html": [
       "<div>\n",
       "<style scoped>\n",
       "    .dataframe tbody tr th:only-of-type {\n",
       "        vertical-align: middle;\n",
       "    }\n",
       "\n",
       "    .dataframe tbody tr th {\n",
       "        vertical-align: top;\n",
       "    }\n",
       "\n",
       "    .dataframe thead th {\n",
       "        text-align: right;\n",
       "    }\n",
       "</style>\n",
       "<table border=\"1\" class=\"dataframe\">\n",
       "  <thead>\n",
       "    <tr style=\"text-align: right;\">\n",
       "      <th></th>\n",
       "      <th>no</th>\n",
       "      <th>prodi</th>\n",
       "      <th>minat</th>\n",
       "      <th>bakat</th>\n",
       "      <th>mapel</th>\n",
       "      <th>mtk</th>\n",
       "      <th>biologi</th>\n",
       "      <th>fisika</th>\n",
       "      <th>kimia</th>\n",
       "      <th>minat_score</th>\n",
       "      <th>bakat_score</th>\n",
       "      <th>mapel_score</th>\n",
       "    </tr>\n",
       "  </thead>\n",
       "  <tbody>\n",
       "    <tr>\n",
       "      <th>0</th>\n",
       "      <td>0</td>\n",
       "      <td>akuntansi</td>\n",
       "      <td>['minat', 'aktivias', 'hubung', 'tugas', 'ruti...</td>\n",
       "      <td>['bakat', 'aktivias', 'hubung', 'tugas', 'ruti...</td>\n",
       "      <td>['sejarah', 'geografi']</td>\n",
       "      <td>0</td>\n",
       "      <td>0</td>\n",
       "      <td>0</td>\n",
       "      <td>0</td>\n",
       "      <td>0.285900</td>\n",
       "      <td>0.309112</td>\n",
       "      <td>6.550802</td>\n",
       "    </tr>\n",
       "    <tr>\n",
       "      <th>1</th>\n",
       "      <td>1</td>\n",
       "      <td>teknik informatika</td>\n",
       "      <td>['minat', 'aktivitas', 'laku', 'luar', 'ruang'...</td>\n",
       "      <td>['bakat', 'aktivitas', 'kait', 'musik', 'baik'...</td>\n",
       "      <td>['sejarah']</td>\n",
       "      <td>0</td>\n",
       "      <td>0</td>\n",
       "      <td>0</td>\n",
       "      <td>0</td>\n",
       "      <td>0.217867</td>\n",
       "      <td>0.325761</td>\n",
       "      <td>10.294118</td>\n",
       "    </tr>\n",
       "    <tr>\n",
       "      <th>2</th>\n",
       "      <td>2</td>\n",
       "      <td>teknik informatika</td>\n",
       "      <td>['minat', 'aktivias', 'hubung', 'tugas', 'ruti...</td>\n",
       "      <td>['bakat', 'aktivias', 'hubung', 'tugas', 'ruti...</td>\n",
       "      <td>['olah', 'video']</td>\n",
       "      <td>0</td>\n",
       "      <td>0</td>\n",
       "      <td>0</td>\n",
       "      <td>0</td>\n",
       "      <td>0.198672</td>\n",
       "      <td>0.239341</td>\n",
       "      <td>87.500000</td>\n",
       "    </tr>\n",
       "    <tr>\n",
       "      <th>3</th>\n",
       "      <td>3</td>\n",
       "      <td>akuntansi</td>\n",
       "      <td>['minat', 'aktivias', 'hubung', 'tugas', 'ruti...</td>\n",
       "      <td>['bakat', 'aktivias', 'hubung', 'tugas', 'ruti...</td>\n",
       "      <td>['mtk', 'kimia', 'bahasa', 'indonesia']</td>\n",
       "      <td>0</td>\n",
       "      <td>0</td>\n",
       "      <td>0</td>\n",
       "      <td>0</td>\n",
       "      <td>0.285900</td>\n",
       "      <td>0.207605</td>\n",
       "      <td>0.881995</td>\n",
       "    </tr>\n",
       "    <tr>\n",
       "      <th>4</th>\n",
       "      <td>4</td>\n",
       "      <td>teknik informatika</td>\n",
       "      <td>['minat', 'aktivitas', 'hubung', 'mesin', 'ala...</td>\n",
       "      <td>['bakat', 'aktivitas', 'hubung', 'mesin', 'ala...</td>\n",
       "      <td>['biologi', 'bahasa', 'inggris', 'bahasa', 'in...</td>\n",
       "      <td>0</td>\n",
       "      <td>0</td>\n",
       "      <td>0</td>\n",
       "      <td>0</td>\n",
       "      <td>0.092461</td>\n",
       "      <td>0.102315</td>\n",
       "      <td>0.743029</td>\n",
       "    </tr>\n",
       "  </tbody>\n",
       "</table>\n",
       "</div>"
      ],
      "text/plain": [
       "   no               prodi                                              minat  \\\n",
       "0   0           akuntansi  ['minat', 'aktivias', 'hubung', 'tugas', 'ruti...   \n",
       "1   1  teknik informatika  ['minat', 'aktivitas', 'laku', 'luar', 'ruang'...   \n",
       "2   2  teknik informatika  ['minat', 'aktivias', 'hubung', 'tugas', 'ruti...   \n",
       "3   3           akuntansi  ['minat', 'aktivias', 'hubung', 'tugas', 'ruti...   \n",
       "4   4  teknik informatika  ['minat', 'aktivitas', 'hubung', 'mesin', 'ala...   \n",
       "\n",
       "                                               bakat  \\\n",
       "0  ['bakat', 'aktivias', 'hubung', 'tugas', 'ruti...   \n",
       "1  ['bakat', 'aktivitas', 'kait', 'musik', 'baik'...   \n",
       "2  ['bakat', 'aktivias', 'hubung', 'tugas', 'ruti...   \n",
       "3  ['bakat', 'aktivias', 'hubung', 'tugas', 'ruti...   \n",
       "4  ['bakat', 'aktivitas', 'hubung', 'mesin', 'ala...   \n",
       "\n",
       "                                               mapel mtk biologi fisika kimia  \\\n",
       "0                            ['sejarah', 'geografi']   0       0      0     0   \n",
       "1                                        ['sejarah']   0       0      0     0   \n",
       "2                                  ['olah', 'video']   0       0      0     0   \n",
       "3            ['mtk', 'kimia', 'bahasa', 'indonesia']   0       0      0     0   \n",
       "4  ['biologi', 'bahasa', 'inggris', 'bahasa', 'in...   0       0      0     0   \n",
       "\n",
       "   minat_score  bakat_score  mapel_score  \n",
       "0     0.285900     0.309112     6.550802  \n",
       "1     0.217867     0.325761    10.294118  \n",
       "2     0.198672     0.239341    87.500000  \n",
       "3     0.285900     0.207605     0.881995  \n",
       "4     0.092461     0.102315     0.743029  "
      ]
     },
     "execution_count": 64,
     "metadata": {},
     "output_type": "execute_result"
    }
   ],
   "source": [
    "df.head()"
   ]
  },
  {
   "cell_type": "code",
   "execution_count": 65,
   "metadata": {},
   "outputs": [
    {
     "data": {
      "text/html": [
       "<div>\n",
       "<style scoped>\n",
       "    .dataframe tbody tr th:only-of-type {\n",
       "        vertical-align: middle;\n",
       "    }\n",
       "\n",
       "    .dataframe tbody tr th {\n",
       "        vertical-align: top;\n",
       "    }\n",
       "\n",
       "    .dataframe thead th {\n",
       "        text-align: right;\n",
       "    }\n",
       "</style>\n",
       "<table border=\"1\" class=\"dataframe\">\n",
       "  <thead>\n",
       "    <tr style=\"text-align: right;\">\n",
       "      <th></th>\n",
       "      <th>no</th>\n",
       "      <th>prodi</th>\n",
       "      <th>mtk</th>\n",
       "      <th>biologi</th>\n",
       "      <th>fisika</th>\n",
       "      <th>kimia</th>\n",
       "      <th>minat_score</th>\n",
       "      <th>bakat_score</th>\n",
       "      <th>mapel_score</th>\n",
       "    </tr>\n",
       "  </thead>\n",
       "  <tbody>\n",
       "    <tr>\n",
       "      <th>0</th>\n",
       "      <td>0</td>\n",
       "      <td>akuntansi</td>\n",
       "      <td>0</td>\n",
       "      <td>0</td>\n",
       "      <td>0</td>\n",
       "      <td>0</td>\n",
       "      <td>0.285900</td>\n",
       "      <td>0.309112</td>\n",
       "      <td>6.550802</td>\n",
       "    </tr>\n",
       "    <tr>\n",
       "      <th>1</th>\n",
       "      <td>1</td>\n",
       "      <td>teknik informatika</td>\n",
       "      <td>0</td>\n",
       "      <td>0</td>\n",
       "      <td>0</td>\n",
       "      <td>0</td>\n",
       "      <td>0.217867</td>\n",
       "      <td>0.325761</td>\n",
       "      <td>10.294118</td>\n",
       "    </tr>\n",
       "    <tr>\n",
       "      <th>2</th>\n",
       "      <td>2</td>\n",
       "      <td>teknik informatika</td>\n",
       "      <td>0</td>\n",
       "      <td>0</td>\n",
       "      <td>0</td>\n",
       "      <td>0</td>\n",
       "      <td>0.198672</td>\n",
       "      <td>0.239341</td>\n",
       "      <td>87.500000</td>\n",
       "    </tr>\n",
       "    <tr>\n",
       "      <th>3</th>\n",
       "      <td>3</td>\n",
       "      <td>akuntansi</td>\n",
       "      <td>0</td>\n",
       "      <td>0</td>\n",
       "      <td>0</td>\n",
       "      <td>0</td>\n",
       "      <td>0.285900</td>\n",
       "      <td>0.207605</td>\n",
       "      <td>0.881995</td>\n",
       "    </tr>\n",
       "    <tr>\n",
       "      <th>4</th>\n",
       "      <td>4</td>\n",
       "      <td>teknik informatika</td>\n",
       "      <td>0</td>\n",
       "      <td>0</td>\n",
       "      <td>0</td>\n",
       "      <td>0</td>\n",
       "      <td>0.092461</td>\n",
       "      <td>0.102315</td>\n",
       "      <td>0.743029</td>\n",
       "    </tr>\n",
       "  </tbody>\n",
       "</table>\n",
       "</div>"
      ],
      "text/plain": [
       "   no               prodi mtk biologi fisika kimia  minat_score  bakat_score  \\\n",
       "0   0           akuntansi   0       0      0     0     0.285900     0.309112   \n",
       "1   1  teknik informatika   0       0      0     0     0.217867     0.325761   \n",
       "2   2  teknik informatika   0       0      0     0     0.198672     0.239341   \n",
       "3   3           akuntansi   0       0      0     0     0.285900     0.207605   \n",
       "4   4  teknik informatika   0       0      0     0     0.092461     0.102315   \n",
       "\n",
       "   mapel_score  \n",
       "0     6.550802  \n",
       "1    10.294118  \n",
       "2    87.500000  \n",
       "3     0.881995  \n",
       "4     0.743029  "
      ]
     },
     "execution_count": 65,
     "metadata": {},
     "output_type": "execute_result"
    }
   ],
   "source": [
    "df = df.drop(['minat', 'bakat', 'mapel'], axis=1)\n",
    "df.head()"
   ]
  },
  {
   "cell_type": "code",
   "execution_count": 66,
   "metadata": {},
   "outputs": [],
   "source": [
    "df['mtk'] = [float(score.replace(\",\", \".\")) for score in df['mtk']]\n",
    "df['biologi'] = [float(score.replace(\",\", \".\")) for score in df['biologi']]\n",
    "df['kimia'] = [float(score.replace(\",\", \".\")) for score in df['kimia']]\n",
    "df['fisika'] = [float(score.replace(\",\", \".\")) for score in df['fisika']]"
   ]
  },
  {
   "cell_type": "code",
   "execution_count": 75,
   "metadata": {},
   "outputs": [],
   "source": [
    "# Generate clean dataset for training\n",
    "\n",
    "df.to_csv(\"./data/data_train_clean.csv\")"
   ]
  },
  {
   "cell_type": "markdown",
   "metadata": {},
   "source": [
    "## TRAINING"
   ]
  },
  {
   "cell_type": "code",
   "execution_count": 67,
   "metadata": {},
   "outputs": [
    {
     "name": "stdout",
     "output_type": "stream",
     "text": [
      "['administrasi publik' 'agribisnis' 'akuntansi' 'akuntansi manajemen'\n",
      " 'analis kesehatan' 'bahasa inggris' 'biomedical engineering'\n",
      " 'divteknik informatika' 'ekonomi islam' 'ekonomi pembangunan' 'farmasi'\n",
      " 'fisika' 'fkip ekonomi' 'gizi' 'gizi dan dietetika' 'hub international'\n",
      " 'hukum' 'hukum keluarga islam' 'ilmu dan teknologi pangan' 'ilmu hukum'\n",
      " 'ilmu informasi dan perpustakaan' 'ilmu kelautan' 'ilmu komunikasi'\n",
      " 'ilmu politik' 'jtd' 'kebidanan' 'kedokteran' 'kedokteran hewan'\n",
      " 'keperawatan' 'keprawatan' 'kesmas' 'management business' 'manajemen'\n",
      " 'manajemen bisnis' 'manajemen pemasaran' 'manajemen rekayasa konstruksi'\n",
      " 'manajemen transportasi udara' 'matematika' 'nautika' 'pend dokter hewan'\n",
      " 'pendidikan agama islam' 'pendidikan bahasa inggris' 'pendidikan biologi'\n",
      " 'pendidikan dokter umum pdu' 'pendidikan guru sekolah dasar'\n",
      " 'pendidikan kimia' 'pendidikan seni tari dan musik'\n",
      " 'pendidikan teknik mesin' 'perbankan dan keuangan' 'perbankan syariah'\n",
      " 'perpajakan' 'peternakan' 'pg paud' 'pgpaud' 'pgsd' 'proteksi tanaman'\n",
      " 'psikologi' 'rmik' 'sistem informasi' 'syariah dan hukum'\n",
      " 'teknik elektro' 'teknik elektronika' 'teknik industri'\n",
      " 'teknik industri pertanian' 'teknik informatika' 'teknik kimia'\n",
      " 'teknik komputer' 'teknik lingkungan' 'teknik multimedia dan jaringan'\n",
      " 'teknik sipil' 'teknik sipil dan bangunan' 'teknik sipol'\n",
      " 'teknik sistem perkapalan' 'teknologi rekayasa elektro'\n",
      " 'teknologi rekayasa konstruksi jalan dan jembatan' 'tenik sipil']\n"
     ]
    }
   ],
   "source": [
    "# Preprocessing data\n",
    "from sklearn.model_selection import train_test_split\n",
    "from sklearn import preprocessing\n",
    "\n",
    "X = df[['mtk', 'biologi', 'fisika', 'kimia', 'minat_score', 'bakat_score', 'mapel_score']]\n",
    "y = df['prodi']\n",
    "\n",
    "le = preprocessing.LabelEncoder()\n",
    "y = le.fit_transform(y)\n",
    "\n",
    "print(le.classes_)"
   ]
  },
  {
   "cell_type": "code",
   "execution_count": 68,
   "metadata": {},
   "outputs": [],
   "source": [
    "from sklearn.preprocessing import StandardScaler\n",
    "\n",
    "X_train, X_test, y_train, y_test = train_test_split(X, y, test_size = 0.3, random_state = 21)\n",
    "\n",
    "scaler = StandardScaler()\n",
    "X_train = scaler.fit_transform(X_train)\n",
    "X_test = scaler.transform(X_test)"
   ]
  },
  {
   "cell_type": "code",
   "execution_count": 69,
   "metadata": {},
   "outputs": [
    {
     "data": {
      "text/plain": [
       "1.0"
      ]
     },
     "execution_count": 69,
     "metadata": {},
     "output_type": "execute_result"
    }
   ],
   "source": [
    "from sklearn.ensemble import RandomForestClassifier\n",
    "\n",
    "classifier = RandomForestClassifier(max_depth=10, criterion='entropy', random_state=0)\n",
    "classifier.fit(X_train, y_train)\n",
    "classifier.score(X_train, y_train)"
   ]
  },
  {
   "cell_type": "code",
   "execution_count": 70,
   "metadata": {},
   "outputs": [
    {
     "data": {
      "text/plain": [
       "7"
      ]
     },
     "execution_count": 70,
     "metadata": {},
     "output_type": "execute_result"
    }
   ],
   "source": [
    "classifier.n_features_in_"
   ]
  },
  {
   "cell_type": "code",
   "execution_count": 71,
   "metadata": {},
   "outputs": [
    {
     "data": {
      "text/plain": [
       "array([64, 64, 64, 64, 13, 22, 60, 64, 64, 64,  9, 58, 64,  2, 64, 64,  2,\n",
       "       64, 64, 64, 60,  3, 14, 61,  2, 64,  1,  2, 64, 69, 28, 58, 60, 69,\n",
       "       60,  1, 22,  2, 28, 61, 65, 14,  3,  2,  2, 64, 22,  2, 64, 56, 64,\n",
       "       69, 58])"
      ]
     },
     "execution_count": 71,
     "metadata": {},
     "output_type": "execute_result"
    }
   ],
   "source": [
    "classifier.predict(X_test)"
   ]
  },
  {
   "cell_type": "code",
   "execution_count": 73,
   "metadata": {},
   "outputs": [
    {
     "data": {
      "text/plain": [
       "0.1509433962264151"
      ]
     },
     "execution_count": 73,
     "metadata": {},
     "output_type": "execute_result"
    }
   ],
   "source": [
    "sum(classifier.predict(X_test) == y_test) / len(y_test)"
   ]
  }
 ],
 "metadata": {
  "interpreter": {
   "hash": "47727860e9ee911cb8d6f5385e114a585de69c0f2cfbc7560f9a9c5e8f00ed1c"
  },
  "kernelspec": {
   "display_name": "Python 3 (ipykernel)",
   "language": "python",
   "name": "python3"
  },
  "language_info": {
   "codemirror_mode": {
    "name": "ipython",
    "version": 3
   },
   "file_extension": ".py",
   "mimetype": "text/x-python",
   "name": "python",
   "nbconvert_exporter": "python",
   "pygments_lexer": "ipython3",
   "version": "3.9.10"
  }
 },
 "nbformat": 4,
 "nbformat_minor": 2
}
