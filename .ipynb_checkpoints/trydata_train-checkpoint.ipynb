{
 "cells": [
  {
   "cell_type": "code",
   "execution_count": 9,
   "id": "527d27cb",
   "metadata": {},
   "outputs": [
    {
     "name": "stdout",
     "output_type": "stream",
     "text": [
      " minat terhadap aktivitas yang berhubungan dengan tugas rutin yang memerlukan ketelitian dan ketepatan dalam perhitungan.  minat terhadap aktivitas yang berhubungan dengan tugas rutin yang memerlukan ketelitian dan ketepatan dalam perhitungan.  minat yang berhubungan dengan angka.  minat terhadap aktivitas yang berhubungan dengan tugas rutin yang memerlukan ketelitian dan ketepatan dalam perhitungan.,  minat terhadap aktivitas yang berkaitan dengan buku, kegiatan membaca, mengarang.,  minat yang berhubungan dengan manusia, diskusi, membujuk, bergaul dengan orang lain atau sesuatu yang membutuhkan kontak dengan masyarakat,  minat yang berhubungan dengan angka.  minat terhadap aktivitas yang berhubungan dengan tugas rutin yang memerlukan ketelitian dan ketepatan dalam perhitungan.,  minat terhadap aktivitas yang berkaitan dengan buku, kegiatan membaca, mengarang.  minat terhadap aktivitas yang berhubungan dengan tugas rutin yang memerlukan ketelitian dan ketepatan dalam perhitungan.  minat terhadap aktivitas yang berhubungan dengan tugas rutin yang memerlukan ketelitian dan ketepatan dalam perhitungan.,  minat yang berhubungan dengan angka.  minat terhadap aktivitas yang berhubungan dengan tugas rutin yang memerlukan ketelitian dan ketepatan dalam perhitungan.  minat terhadap aktivitas yang berhubungan dengan tugas rutin yang memerlukan ketelitian dan ketepatan dalam perhitungan.  minat yang berhubungan dengan angka. minat terhadap aktivitas yang berkaitan dengan pekerjaan praktis, yang bisa dilakukan dengan keterampilan.,  minat terhadap aktivitas yang berhubungan dengan tugas rutin yang memerlukan ketelitian dan ketepatan dalam perhitungan.  minat terhadap aktivitas yang berhubungan dengan tugas rutin yang memerlukan ketelitian dan ketepatan dalam perhitungan.,  minat yang berhubungan dengan manusia, diskusi, membujuk, bergaul dengan orang lain atau sesuatu yang membutuhkan kontak dengan masyarakat,  minat yang berhubungan dengan angka.  minat yang berhubungan dengan angka.  minat terhadap aktivitas yang berkaitan dengan pekerjaan praktis, yang bisa dilakukan dengan keterampilan.,  minat terhadap aktivitas yang berhubungan dengan tugas rutin yang memerlukan ketelitian dan ketepatan dalam perhitungan.,  minat terhadap aktivitas yang berkaitan dengan musik, baik memainkan, mendengarkan, bernyanyi atau membaca sesuatu yang berhubungan dengan musik,  minat terhadap aktivitas yang berkaitan dengan buku, kegiatan membaca, mengarang.,  minat terhadap aktivitas yang berkaitan dengan keindahan, bersifat seni dan menciptakan sesuatu yang bernilai seni.  minat terhadap aktivitas yang berhubungan dengan tugas rutin yang memerlukan ketelitian dan ketepatan dalam perhitungan.  minat terhadap aktivitas yang berhubungan dengan tugas rutin yang memerlukan ketelitian dan ketepatan dalam perhitungan.,  minat yang berhubungan dengan angka.  minat yang berhubungan dengan angka.  minat yang berhubungan dengan kreativitas dan analisis, penyelidikan dan eksperimen, kimia maupun pengetahuan umum.,  minat yang berhubungan dengan angka.  minat terhadap aktivitas yang berhubungan dengan tugas rutin yang memerlukan ketelitian dan ketepatan dalam perhitungan.  minat terhadap aktivitas yang berhubungan dengan tugas rutin yang memerlukan ketelitian dan ketepatan dalam perhitungan.,  minat yang berhubungan dengan angka.  minat terhadap aktivitas yang berhubungan dengan tugas rutin yang memerlukan ketelitian dan ketepatan dalam perhitungan.,  minat yang berhubungan dengan angka, menghitung, penalaran atau logika  minat terhadap aktivitas yang berhubungan dengan tugas rutin yang memerlukan ketelitian dan ketepatan dalam perhitungan.,  minat terhadap aktivitas yang berkaitan dengan kesejahteraan masyarakat, keinginan menolong, membimbing dan menasehati, keinginan mengerti orang lain dan mempunyai ide.,  minat terhadap aktivitas yang berkaitan dengan buku, kegiatan membaca, mengarang.,  minat terhadap aktivitas yang berkaitan dengan keindahan, bersifat seni dan menciptakan sesuatu yang bernilai seni.,  minat yang berhubungan dengan manusia, diskusi, membujuk, bergaul dengan orang lain atau sesuatu yang membutuhkan kontak dengan masyarakat,  minat yang berhubungan dengan kreativitas dan analisis, penyelidikan dan eksperimen, kimia maupun pengetahuan umum.,  minat yang berhubungan dengan angka, menghitung, penalaran atau logika\n"
     ]
    }
   ],
   "source": [
    "kalimat = \" minat terhadap aktivitas yang berhubungan dengan tugas rutin yang memerlukan ketelitian dan ketepatan dalam perhitungan.  minat terhadap aktivitas yang berhubungan dengan tugas rutin yang memerlukan ketelitian dan ketepatan dalam perhitungan.  minat yang berhubungan dengan angka.  minat terhadap aktivitas yang berhubungan dengan tugas rutin yang memerlukan ketelitian dan ketepatan dalam perhitungan.,  minat terhadap aktivitas yang berkaitan dengan buku, kegiatan membaca, mengarang.,  minat yang berhubungan dengan manusia, diskusi, membujuk, bergaul dengan orang lain atau sesuatu yang membutuhkan kontak dengan masyarakat,  minat yang berhubungan dengan angka.  minat terhadap aktivitas yang berhubungan dengan tugas rutin yang memerlukan ketelitian dan ketepatan dalam perhitungan.,  minat terhadap aktivitas yang berkaitan dengan buku, kegiatan membaca, mengarang.  minat terhadap aktivitas yang berhubungan dengan tugas rutin yang memerlukan ketelitian dan ketepatan dalam perhitungan.  minat terhadap aktivitas yang berhubungan dengan tugas rutin yang memerlukan ketelitian dan ketepatan dalam perhitungan.,  minat yang berhubungan dengan angka.  minat terhadap aktivitas yang berhubungan dengan tugas rutin yang memerlukan ketelitian dan ketepatan dalam perhitungan.  minat terhadap aktivitas yang berhubungan dengan tugas rutin yang memerlukan ketelitian dan ketepatan dalam perhitungan.  minat yang berhubungan dengan angka. minat terhadap aktivitas yang berkaitan dengan pekerjaan praktis, yang bisa dilakukan dengan keterampilan.,  minat terhadap aktivitas yang berhubungan dengan tugas rutin yang memerlukan ketelitian dan ketepatan dalam perhitungan.  minat terhadap aktivitas yang berhubungan dengan tugas rutin yang memerlukan ketelitian dan ketepatan dalam perhitungan.,  minat yang berhubungan dengan manusia, diskusi, membujuk, bergaul dengan orang lain atau sesuatu yang membutuhkan kontak dengan masyarakat,  minat yang berhubungan dengan angka.  minat yang berhubungan dengan angka.  minat terhadap aktivitas yang berkaitan dengan pekerjaan praktis, yang bisa dilakukan dengan keterampilan.,  minat terhadap aktivitas yang berhubungan dengan tugas rutin yang memerlukan ketelitian dan ketepatan dalam perhitungan.,  minat terhadap aktivitas yang berkaitan dengan musik, baik memainkan, mendengarkan, bernyanyi atau membaca sesuatu yang berhubungan dengan musik,  minat terhadap aktivitas yang berkaitan dengan buku, kegiatan membaca, mengarang.,  minat terhadap aktivitas yang berkaitan dengan keindahan, bersifat seni dan menciptakan sesuatu yang bernilai seni.  minat terhadap aktivitas yang berhubungan dengan tugas rutin yang memerlukan ketelitian dan ketepatan dalam perhitungan.  minat terhadap aktivitas yang berhubungan dengan tugas rutin yang memerlukan ketelitian dan ketepatan dalam perhitungan.,  minat yang berhubungan dengan angka.  minat yang berhubungan dengan angka.  minat yang berhubungan dengan kreativitas dan analisis, penyelidikan dan eksperimen, kimia maupun pengetahuan umum.,  minat yang berhubungan dengan angka.  minat terhadap aktivitas yang berhubungan dengan tugas rutin yang memerlukan ketelitian dan ketepatan dalam perhitungan.  minat terhadap aktivitas yang berhubungan dengan tugas rutin yang memerlukan ketelitian dan ketepatan dalam perhitungan.,  minat yang berhubungan dengan angka.  minat terhadap aktivitas yang berhubungan dengan tugas rutin yang memerlukan ketelitian dan ketepatan dalam perhitungan.,  minat yang berhubungan dengan angka, menghitung, penalaran atau logika  minat terhadap aktivitas yang berhubungan dengan tugas rutin yang memerlukan ketelitian dan ketepatan dalam perhitungan.,  minat terhadap aktivitas yang berkaitan dengan kesejahteraan masyarakat, keinginan menolong, membimbing dan menasehati, keinginan mengerti orang lain dan mempunyai ide.,  minat terhadap aktivitas yang berkaitan dengan buku, kegiatan membaca, mengarang.,  minat terhadap aktivitas yang berkaitan dengan keindahan, bersifat seni dan menciptakan sesuatu yang bernilai seni.,  minat yang berhubungan dengan manusia, diskusi, membujuk, bergaul dengan orang lain atau sesuatu yang membutuhkan kontak dengan masyarakat,  minat yang berhubungan dengan kreativitas dan analisis, penyelidikan dan eksperimen, kimia maupun pengetahuan umum.,  minat yang berhubungan dengan angka, menghitung, penalaran atau logika\"\n",
    "lowercase = kalimat.lower()\n",
    "print(lowercase)"
   ]
  },
  {
   "cell_type": "code",
   "execution_count": 23,
   "id": "79291f69",
   "metadata": {},
   "outputs": [
    {
     "name": "stdout",
     "output_type": "stream",
     "text": [
      "minat aktivitas hubung tugas rutin perlu teliti tepat hitung minat aktivitas hubung tugas rutin perlu teliti tepat hitung minat hubung angka minat aktivitas hubung tugas rutin perlu teliti tepat hitung minat aktivitas kait buku giat baca arang minat hubung manusia diskusi bujuk gaul orang butuh kontak masyarakat minat hubung angka minat aktivitas hubung tugas rutin perlu teliti tepat hitung minat aktivitas kait buku giat baca arang minat aktivitas hubung tugas rutin perlu teliti tepat hitung minat aktivitas hubung tugas rutin perlu teliti tepat hitung minat hubung angka minat aktivitas hubung tugas rutin perlu teliti tepat hitung minat aktivitas hubung tugas rutin perlu teliti tepat hitung minat hubung angka minat aktivitas kait kerja praktis bisa laku terampil minat aktivitas hubung tugas rutin perlu teliti tepat hitung minat aktivitas hubung tugas rutin perlu teliti tepat hitung minat hubung manusia diskusi bujuk gaul orang butuh kontak masyarakat minat hubung angka minat hubung angka minat aktivitas kait kerja praktis bisa laku terampil minat aktivitas hubung tugas rutin perlu teliti tepat hitung minat aktivitas kait musik baik main dengar nyanyi baca hubung musik minat aktivitas kait buku giat baca arang minat aktivitas kait indah sifat seni cipta nila seni minat aktivitas hubung tugas rutin perlu teliti tepat hitung minat aktivitas hubung tugas rutin perlu teliti tepat hitung minat hubung angka minat hubung angka minat hubung kreativitas analisis lidi eksperimen kimia maupun tahu umum minat hubung angka minat aktivitas hubung tugas rutin perlu teliti tepat hitung minat aktivitas hubung tugas rutin perlu teliti tepat hitung minat hubung angka minat aktivitas hubung tugas rutin perlu teliti tepat hitung minat hubung angka hitung nalar atau logika minat aktivitas hubung tugas rutin perlu teliti tepat hitung minat aktivitas kait sejahtera masyarakat ingin tolong bimbing nasehat ingin erti orang punya ide minat aktivitas kait buku giat baca arang minat aktivitas yang kait indah sifat seni cipta yang nila seni minat yang hubung manusia diskusi bujuk gaul orang atau yang butuh kontak masyarakat minat yang hubung kreativitas analisis lidi dan eksperimen kimia maupun tahu umum minat yang hubung angka hitung nalar atau logika\n"
     ]
    }
   ],
   "source": [
    "import re\n",
    "import string\n",
    "import nltk\n",
    "from nltk.tokenize import word_tokenize\n",
    "from Sastrawi.StopWordRemover.StopWordRemoverFactory import StopWordRemoverFactory\n",
    "from Sastrawi.Stemmer.StemmerFactory import StemmerFactory\n",
    "\n",
    "hasil = re.sub(r\"\\d+\",\"\",kalimat)\n",
    "hsimbol = hasil.translate(str.maketrans(\"\",\"\",string.punctuation))\n",
    "hspasi = hsimbol.strip()\n",
    "\n",
    "#tokenize\n",
    "tokens= nltk.tokenize.word_tokenize(hstop)\n",
    "\n",
    "#stopword\n",
    "factory=StopWordRemoverFactory()\n",
    "stopword=factory.create_stop_word_remover()\n",
    "stop=stopword.remove(hspasi);\n",
    "\n",
    "\n",
    "\n",
    "#stemming\n",
    "fstemming =StemmerFactory()\n",
    "stemmer=fstemming.create_stemmer()\n",
    "hstem=stemmer.stem(stop)\n",
    "print(hstem)\n",
    "\n",
    "\n"
   ]
  },
  {
   "cell_type": "code",
   "execution_count": 25,
   "id": "67bc461e",
   "metadata": {},
   "outputs": [
    {
     "name": "stdout",
     "output_type": "stream",
     "text": [
      "[(\"'\", 660), (',', 329), (' ', 329), ('a', 265), ('t', 261), ('i', 240), ('u', 184), ('n', 169), ('g', 105), ('k', 86), ('s', 77), ('e', 73), ('m', 67), ('h', 63), ('r', 61), ('b', 53), ('l', 52), ('p', 45), ('v', 29), ('o', 11), ('d', 9), ('c', 7), ('y', 7), ('j', 6), ('f', 2), ('[', 1), (']', 1)]\n"
     ]
    }
   ],
   "source": [
    "import nltk\n",
    "from nltk.probability import FreqDist\n",
    "text=\"['minat', 'aktivitas', 'hubung', 'tugas', 'rutin', 'perlu', 'teliti', 'tepat', 'hitung', 'minat', 'aktivitas', 'hubung', 'tugas', 'rutin', 'perlu', 'teliti', 'tepat', 'hitung', 'minat', 'hubung', 'angka', 'minat', 'aktivitas', 'hubung', 'tugas', 'rutin', 'perlu', 'teliti', 'tepat', 'hitung', 'minat', 'aktivitas', 'kait', 'buku', 'giat', 'baca', 'arang', 'minat', 'hubung', 'manusia', 'diskusi', 'bujuk', 'gaul', 'orang', 'butuh', 'kontak', 'masyarakat', 'minat', 'hubung', 'angka', 'minat', 'aktivitas', 'hubung', 'tugas', 'rutin', 'perlu', 'teliti', 'tepat', 'hitung', 'minat', 'aktivitas', 'kait', 'buku', 'giat', 'baca', 'arang', 'minat', 'aktivitas', 'hubung', 'tugas', 'rutin', 'perlu', 'teliti', 'tepat', 'hitung', 'minat', 'aktivitas', 'hubung', 'tugas', 'rutin', 'perlu', 'teliti', 'tepat', 'hitung', 'minat', 'hubung', 'angka', 'minat', 'aktivitas', 'hubung', 'tugas', 'rutin', 'perlu', 'teliti', 'tepat', 'hitung', 'minat', 'aktivitas', 'hubung', 'tugas', 'rutin', 'perlu', 'teliti', 'tepat', 'hitung', 'minat', 'hubung', 'angka', 'minat', 'aktivitas', 'kait', 'kerja', 'praktis', 'laku', 'terampil', 'minat', 'aktivitas', 'hubung', 'tugas', 'rutin', 'perlu', 'teliti', 'tepat', 'hitung', 'minat', 'aktivitas', 'hubung', 'tugas', 'rutin', 'perlu', 'teliti', 'tepat', 'hitung', 'minat', 'hubung', 'manusia', 'diskusi', 'bujuk', 'gaul', 'orang', 'butuh', 'kontak', 'masyarakat', 'minat', 'hubung', 'angka', 'minat', 'hubung', 'angka', 'minat', 'aktivitas', 'kait', 'kerja', 'praktis', 'laku', 'terampil', 'minat', 'aktivitas', 'hubung', 'tugas', 'rutin', 'perlu', 'teliti', 'tepat', 'hitung', 'minat', 'aktivitas', 'kait', 'musik', 'baik', 'main', 'dengar', 'nyanyi', 'baca', 'hubung', 'musik', 'minat', 'aktivitas', 'kait', 'buku', 'giat', 'baca', 'arang', 'minat', 'aktivitas', 'kait', 'indah', 'sifat', 'seni', 'cipta', 'nila', 'seni', 'minat', 'aktivitas', 'hubung', 'tugas', 'rutin', 'perlu', 'teliti', 'tepat', 'hitung', 'minat', 'aktivitas', 'hubung', 'tugas', 'rutin', 'perlu', 'teliti', 'tepat', 'hitung', 'minat', 'hubung', 'angka', 'minat', 'hubung', 'angka', 'minat', 'hubung', 'kreativitas', 'analisis', 'lidi', 'eksperimen', 'kimia', 'maupun', 'tahu', 'umum', 'minat', 'hubung', 'angka', 'minat', 'aktivitas', 'hubung', 'tugas', 'rutin', 'perlu', 'teliti', 'tepat', 'hitung', 'minat', 'aktivitas', 'hubung', 'tugas', 'rutin', 'perlu', 'teliti', 'tepat', 'hitung', 'minat', 'hubung', 'angka', 'minat', 'aktivitas', 'hubung', 'tugas', 'rutin', 'perlu', 'teliti', 'tepat', 'hitung', 'minat', 'hubung', 'angka', 'hitung', 'nalar', 'logika', 'minat', 'aktivitas', 'hubung', 'tugas', 'rutin', 'perlu', 'teliti', 'tepat', 'hitung', 'minat', 'aktivitas', 'kait', 'sejahtera', 'masyarakat', 'ingin', 'tolong', 'bimbing', 'nasehat', 'ingin', 'erti', 'orang', 'punya', 'ide', 'minat', 'aktivitas', 'kait', 'buku', 'giat', 'baca', 'arang', 'minat', 'aktivitas', 'kait', 'indah', 'sifat', 'seni', 'cipta', 'nila', 'seni', 'minat', 'hubung', 'manusia', 'diskusi', 'bujuk', 'gaul', 'orang', 'butuh', 'kontak', 'masyarakat', 'minat', 'hubung', 'kreativitas', 'analisis', 'lidi', 'eksperimen', 'kimia', 'maupun', 'tahu', 'umum', 'minat', 'hubung', 'angka', 'hitung', 'nalar', 'logika']\"\n",
    "# print(text)\n",
    "muncul = nltk.FreqDist(text)\n",
    "print(muncul.most_common())"
   ]
  },
  {
   "cell_type": "code",
   "execution_count": null,
   "id": "49428a44",
   "metadata": {},
   "outputs": [],
   "source": []
  }
 ],
 "metadata": {
  "kernelspec": {
   "display_name": "Python 3 (ipykernel)",
   "language": "python",
   "name": "python3"
  },
  "language_info": {
   "codemirror_mode": {
    "name": "ipython",
    "version": 3
   },
   "file_extension": ".py",
   "mimetype": "text/x-python",
   "name": "python",
   "nbconvert_exporter": "python",
   "pygments_lexer": "ipython3",
   "version": "3.9.10"
  }
 },
 "nbformat": 4,
 "nbformat_minor": 5
}
