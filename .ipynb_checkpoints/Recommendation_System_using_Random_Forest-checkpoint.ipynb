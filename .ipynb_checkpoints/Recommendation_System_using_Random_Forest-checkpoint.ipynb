{
 "cells": [
  {
   "cell_type": "markdown",
   "metadata": {
    "id": "MRDSV4bFc0Ms"
   },
   "source": [
    "# Recommendation System (Random Forest)"
   ]
  },
  {
   "cell_type": "markdown",
   "metadata": {
    "id": "b6gtAnkAc-7J"
   },
   "source": [
    "* The main task of this notebook is to make a recommendation system using Random Forest"
   ]
  },
  {
   "cell_type": "markdown",
   "metadata": {
    "id": "UPViwg5sc5Pi"
   },
   "source": [
    "## Preprocessing"
   ]
  },
  {
   "cell_type": "code",
   "execution_count": 1,
   "metadata": {
    "id": "yVQmJCC2Y-HV"
   },
   "outputs": [],
   "source": [
    "# import all the libraries\n",
    "import pandas as pd\n",
    "import numpy as np\n",
    "import os\n",
    "import matplotlib.pyplot as plt\n",
    "import seaborn as sns\n",
    "\n",
    "from sklearn.model_selection import train_test_split\n",
    "from sklearn.ensemble import RandomForestClassifier\n",
    "from sklearn.feature_extraction.text import TfidfVectorizer, CountVectorizer\n",
    "from sklearn.preprocessing import LabelEncoder\n",
    "from sklearn.pipeline import Pipeline\n",
    "from sklearn.metrics import accuracy_score, classification_report\n",
    "from sklearn.base import BaseEstimator, TransformerMixin\n",
    "\n",
    "import warnings\n",
    "warnings.filterwarnings(\"ignore\")"
   ]
  },
  {
   "cell_type": "code",
   "execution_count": 2,
   "metadata": {
    "id": "4bMoUR9paQpQ"
   },
   "outputs": [],
   "source": [
    "df = pd.read_excel(\"train.xlsx\")"
   ]
  },
  {
   "cell_type": "code",
   "execution_count": 3,
   "metadata": {
    "colab": {
     "base_uri": "https://localhost:8080/",
     "height": 260
    },
    "id": "C4eRfbt0aXYo",
    "outputId": "b61c52b2-efb3-42be-92fc-4ec4a793cc89"
   },
   "outputs": [
    {
     "data": {
      "text/html": [
       "\n",
       "  <div id=\"df-91d89319-219b-4146-98bb-6c6d1e0b6c85\">\n",
       "    <div class=\"colab-df-container\">\n",
       "      <div>\n",
       "<style scoped>\n",
       "    .dataframe tbody tr th:only-of-type {\n",
       "        vertical-align: middle;\n",
       "    }\n",
       "\n",
       "    .dataframe tbody tr th {\n",
       "        vertical-align: top;\n",
       "    }\n",
       "\n",
       "    .dataframe thead th {\n",
       "        text-align: right;\n",
       "    }\n",
       "</style>\n",
       "<table border=\"1\" class=\"dataframe\">\n",
       "  <thead>\n",
       "    <tr style=\"text-align: right;\">\n",
       "      <th></th>\n",
       "      <th>no</th>\n",
       "      <th>nama</th>\n",
       "      <th>prodi</th>\n",
       "      <th>minat</th>\n",
       "      <th>bakat</th>\n",
       "      <th>mapel</th>\n",
       "      <th>nilai</th>\n",
       "      <th>ibu</th>\n",
       "      <th>ayah</th>\n",
       "      <th>penghasilan</th>\n",
       "    </tr>\n",
       "  </thead>\n",
       "  <tbody>\n",
       "    <tr>\n",
       "      <th>0</th>\n",
       "      <td>1</td>\n",
       "      <td>DYAH AYU</td>\n",
       "      <td>akuntansi</td>\n",
       "      <td>Minat terhadap aktivitas yang berhubungan deng...</td>\n",
       "      <td>Bakat terhadap aktivitas yang berhubungan deng...</td>\n",
       "      <td>SEJARAH, GEOGRAFI</td>\n",
       "      <td>89</td>\n",
       "      <td>PETANI</td>\n",
       "      <td>Meninggal</td>\n",
       "      <td>golongan 2</td>\n",
       "    </tr>\n",
       "    <tr>\n",
       "      <th>1</th>\n",
       "      <td>2</td>\n",
       "      <td>Muhammad isyak rizqi</td>\n",
       "      <td>teknik informatika</td>\n",
       "      <td>Minat terhadap aktivitas yang berhubungan deng...</td>\n",
       "      <td>Bakat terhadap aktivitas yang berhubungan deng...</td>\n",
       "      <td>komputer</td>\n",
       "      <td>96</td>\n",
       "      <td>WIRAUSAHA</td>\n",
       "      <td>Meninggal</td>\n",
       "      <td>golongan 2</td>\n",
       "    </tr>\n",
       "  </tbody>\n",
       "</table>\n",
       "</div>\n",
       "      <button class=\"colab-df-convert\" onclick=\"convertToInteractive('df-91d89319-219b-4146-98bb-6c6d1e0b6c85')\"\n",
       "              title=\"Convert this dataframe to an interactive table.\"\n",
       "              style=\"display:none;\">\n",
       "        \n",
       "  <svg xmlns=\"http://www.w3.org/2000/svg\" height=\"24px\"viewBox=\"0 0 24 24\"\n",
       "       width=\"24px\">\n",
       "    <path d=\"M0 0h24v24H0V0z\" fill=\"none\"/>\n",
       "    <path d=\"M18.56 5.44l.94 2.06.94-2.06 2.06-.94-2.06-.94-.94-2.06-.94 2.06-2.06.94zm-11 1L8.5 8.5l.94-2.06 2.06-.94-2.06-.94L8.5 2.5l-.94 2.06-2.06.94zm10 10l.94 2.06.94-2.06 2.06-.94-2.06-.94-.94-2.06-.94 2.06-2.06.94z\"/><path d=\"M17.41 7.96l-1.37-1.37c-.4-.4-.92-.59-1.43-.59-.52 0-1.04.2-1.43.59L10.3 9.45l-7.72 7.72c-.78.78-.78 2.05 0 2.83L4 21.41c.39.39.9.59 1.41.59.51 0 1.02-.2 1.41-.59l7.78-7.78 2.81-2.81c.8-.78.8-2.07 0-2.86zM5.41 20L4 18.59l7.72-7.72 1.47 1.35L5.41 20z\"/>\n",
       "  </svg>\n",
       "      </button>\n",
       "      \n",
       "  <style>\n",
       "    .colab-df-container {\n",
       "      display:flex;\n",
       "      flex-wrap:wrap;\n",
       "      gap: 12px;\n",
       "    }\n",
       "\n",
       "    .colab-df-convert {\n",
       "      background-color: #E8F0FE;\n",
       "      border: none;\n",
       "      border-radius: 50%;\n",
       "      cursor: pointer;\n",
       "      display: none;\n",
       "      fill: #1967D2;\n",
       "      height: 32px;\n",
       "      padding: 0 0 0 0;\n",
       "      width: 32px;\n",
       "    }\n",
       "\n",
       "    .colab-df-convert:hover {\n",
       "      background-color: #E2EBFA;\n",
       "      box-shadow: 0px 1px 2px rgba(60, 64, 67, 0.3), 0px 1px 3px 1px rgba(60, 64, 67, 0.15);\n",
       "      fill: #174EA6;\n",
       "    }\n",
       "\n",
       "    [theme=dark] .colab-df-convert {\n",
       "      background-color: #3B4455;\n",
       "      fill: #D2E3FC;\n",
       "    }\n",
       "\n",
       "    [theme=dark] .colab-df-convert:hover {\n",
       "      background-color: #434B5C;\n",
       "      box-shadow: 0px 1px 3px 1px rgba(0, 0, 0, 0.15);\n",
       "      filter: drop-shadow(0px 1px 2px rgba(0, 0, 0, 0.3));\n",
       "      fill: #FFFFFF;\n",
       "    }\n",
       "  </style>\n",
       "\n",
       "      <script>\n",
       "        const buttonEl =\n",
       "          document.querySelector('#df-91d89319-219b-4146-98bb-6c6d1e0b6c85 button.colab-df-convert');\n",
       "        buttonEl.style.display =\n",
       "          google.colab.kernel.accessAllowed ? 'block' : 'none';\n",
       "\n",
       "        async function convertToInteractive(key) {\n",
       "          const element = document.querySelector('#df-91d89319-219b-4146-98bb-6c6d1e0b6c85');\n",
       "          const dataTable =\n",
       "            await google.colab.kernel.invokeFunction('convertToInteractive',\n",
       "                                                     [key], {});\n",
       "          if (!dataTable) return;\n",
       "\n",
       "          const docLinkHtml = 'Like what you see? Visit the ' +\n",
       "            '<a target=\"_blank\" href=https://colab.research.google.com/notebooks/data_table.ipynb>data table notebook</a>'\n",
       "            + ' to learn more about interactive tables.';\n",
       "          element.innerHTML = '';\n",
       "          dataTable['output_type'] = 'display_data';\n",
       "          await google.colab.output.renderOutput(dataTable, element);\n",
       "          const docLink = document.createElement('div');\n",
       "          docLink.innerHTML = docLinkHtml;\n",
       "          element.appendChild(docLink);\n",
       "        }\n",
       "      </script>\n",
       "    </div>\n",
       "  </div>\n",
       "  "
      ],
      "text/plain": [
       "   no                  nama               prodi  \\\n",
       "0   1              DYAH AYU           akuntansi   \n",
       "1   2  Muhammad isyak rizqi  teknik informatika   \n",
       "\n",
       "                                               minat  \\\n",
       "0  Minat terhadap aktivitas yang berhubungan deng...   \n",
       "1  Minat terhadap aktivitas yang berhubungan deng...   \n",
       "\n",
       "                                               bakat              mapel  \\\n",
       "0  Bakat terhadap aktivitas yang berhubungan deng...  SEJARAH, GEOGRAFI   \n",
       "1  Bakat terhadap aktivitas yang berhubungan deng...           komputer   \n",
       "\n",
       "   nilai        ibu       ayah penghasilan  \n",
       "0     89     PETANI  Meninggal  golongan 2  \n",
       "1     96  WIRAUSAHA  Meninggal  golongan 2  "
      ]
     },
     "execution_count": 3,
     "metadata": {},
     "output_type": "execute_result"
    }
   ],
   "source": [
    "df.head(2)"
   ]
  },
  {
   "cell_type": "markdown",
   "metadata": {
    "id": "5Io5hTHSdMdg"
   },
   "source": [
    "* Notice that all the value of categorical columns isn't in standard value for text.\n",
    "\n",
    "* We also going to delete `no` and `nama` columns since its was useless for our model"
   ]
  },
  {
   "cell_type": "code",
   "execution_count": 4,
   "metadata": {
    "id": "UhwLx_CAtSB2"
   },
   "outputs": [],
   "source": [
    "# Drop no and nama\n",
    "df.drop([\"no\", \"nama\"], axis=1, inplace=True)"
   ]
  },
  {
   "cell_type": "markdown",
   "metadata": {
    "id": "1-Mx-D2wAKFk"
   },
   "source": [
    "* next, we are going to clean the text value"
   ]
  },
  {
   "cell_type": "markdown",
   "metadata": {
    "id": "QwTMx3kxDvPl"
   },
   "source": [
    "### Text cleaning"
   ]
  },
  {
   "cell_type": "code",
   "execution_count": 5,
   "metadata": {
    "colab": {
     "base_uri": "https://localhost:8080/"
    },
    "id": "c-Un4JjRtcuJ",
    "outputId": "2122f64b-4976-41c2-9f3a-19076433fca6"
   },
   "outputs": [
    {
     "name": "stdout",
     "output_type": "stream",
     "text": [
      "Index(['prodi', 'minat', 'bakat', 'mapel', 'ibu', 'ayah', 'penghasilan'], dtype='object')\n"
     ]
    }
   ],
   "source": [
    "# select category columns\n",
    "text_cols = df.select_dtypes(exclude=\"int64\").columns\n",
    "print(text_cols)"
   ]
  },
  {
   "cell_type": "code",
   "execution_count": 6,
   "metadata": {
    "id": "aRNcdbH-0VXo"
   },
   "outputs": [],
   "source": [
    "# 1. make all text in lowercase using lower()\n",
    "# 2. delete all dot(.) and comma(,) using replace(\",\",\"\")\n",
    "# 3. delete unusual space between text using strip()\n",
    "\n",
    "for col in text_cols:\n",
    "  df[col] = df[col].str.lower().str.replace(\",\",\"\").str.replace(\".\",\"\").str.strip()"
   ]
  },
  {
   "cell_type": "code",
   "execution_count": 7,
   "metadata": {
    "colab": {
     "base_uri": "https://localhost:8080/",
     "height": 191
    },
    "id": "bGsvPr8h5rS6",
    "outputId": "0b3abecb-24b4-44d6-9e8b-806bf5cdfd38"
   },
   "outputs": [
    {
     "data": {
      "text/html": [
       "\n",
       "  <div id=\"df-d13111f3-8eaa-4981-87da-43d779d5b473\">\n",
       "    <div class=\"colab-df-container\">\n",
       "      <div>\n",
       "<style scoped>\n",
       "    .dataframe tbody tr th:only-of-type {\n",
       "        vertical-align: middle;\n",
       "    }\n",
       "\n",
       "    .dataframe tbody tr th {\n",
       "        vertical-align: top;\n",
       "    }\n",
       "\n",
       "    .dataframe thead th {\n",
       "        text-align: right;\n",
       "    }\n",
       "</style>\n",
       "<table border=\"1\" class=\"dataframe\">\n",
       "  <thead>\n",
       "    <tr style=\"text-align: right;\">\n",
       "      <th></th>\n",
       "      <th>prodi</th>\n",
       "      <th>minat</th>\n",
       "      <th>bakat</th>\n",
       "      <th>mapel</th>\n",
       "      <th>nilai</th>\n",
       "      <th>ibu</th>\n",
       "      <th>ayah</th>\n",
       "      <th>penghasilan</th>\n",
       "    </tr>\n",
       "  </thead>\n",
       "  <tbody>\n",
       "    <tr>\n",
       "      <th>0</th>\n",
       "      <td>akuntansi</td>\n",
       "      <td>minat terhadap aktivitas yang berhubungan deng...</td>\n",
       "      <td>bakat terhadap aktivitas yang berhubungan deng...</td>\n",
       "      <td>sejarah geografi</td>\n",
       "      <td>89</td>\n",
       "      <td>petani</td>\n",
       "      <td>meninggal</td>\n",
       "      <td>golongan 2</td>\n",
       "    </tr>\n",
       "    <tr>\n",
       "      <th>1</th>\n",
       "      <td>teknik informatika</td>\n",
       "      <td>minat terhadap aktivitas yang berhubungan deng...</td>\n",
       "      <td>bakat terhadap aktivitas yang berhubungan deng...</td>\n",
       "      <td>komputer</td>\n",
       "      <td>96</td>\n",
       "      <td>wirausaha</td>\n",
       "      <td>meninggal</td>\n",
       "      <td>golongan 2</td>\n",
       "    </tr>\n",
       "  </tbody>\n",
       "</table>\n",
       "</div>\n",
       "      <button class=\"colab-df-convert\" onclick=\"convertToInteractive('df-d13111f3-8eaa-4981-87da-43d779d5b473')\"\n",
       "              title=\"Convert this dataframe to an interactive table.\"\n",
       "              style=\"display:none;\">\n",
       "        \n",
       "  <svg xmlns=\"http://www.w3.org/2000/svg\" height=\"24px\"viewBox=\"0 0 24 24\"\n",
       "       width=\"24px\">\n",
       "    <path d=\"M0 0h24v24H0V0z\" fill=\"none\"/>\n",
       "    <path d=\"M18.56 5.44l.94 2.06.94-2.06 2.06-.94-2.06-.94-.94-2.06-.94 2.06-2.06.94zm-11 1L8.5 8.5l.94-2.06 2.06-.94-2.06-.94L8.5 2.5l-.94 2.06-2.06.94zm10 10l.94 2.06.94-2.06 2.06-.94-2.06-.94-.94-2.06-.94 2.06-2.06.94z\"/><path d=\"M17.41 7.96l-1.37-1.37c-.4-.4-.92-.59-1.43-.59-.52 0-1.04.2-1.43.59L10.3 9.45l-7.72 7.72c-.78.78-.78 2.05 0 2.83L4 21.41c.39.39.9.59 1.41.59.51 0 1.02-.2 1.41-.59l7.78-7.78 2.81-2.81c.8-.78.8-2.07 0-2.86zM5.41 20L4 18.59l7.72-7.72 1.47 1.35L5.41 20z\"/>\n",
       "  </svg>\n",
       "      </button>\n",
       "      \n",
       "  <style>\n",
       "    .colab-df-container {\n",
       "      display:flex;\n",
       "      flex-wrap:wrap;\n",
       "      gap: 12px;\n",
       "    }\n",
       "\n",
       "    .colab-df-convert {\n",
       "      background-color: #E8F0FE;\n",
       "      border: none;\n",
       "      border-radius: 50%;\n",
       "      cursor: pointer;\n",
       "      display: none;\n",
       "      fill: #1967D2;\n",
       "      height: 32px;\n",
       "      padding: 0 0 0 0;\n",
       "      width: 32px;\n",
       "    }\n",
       "\n",
       "    .colab-df-convert:hover {\n",
       "      background-color: #E2EBFA;\n",
       "      box-shadow: 0px 1px 2px rgba(60, 64, 67, 0.3), 0px 1px 3px 1px rgba(60, 64, 67, 0.15);\n",
       "      fill: #174EA6;\n",
       "    }\n",
       "\n",
       "    [theme=dark] .colab-df-convert {\n",
       "      background-color: #3B4455;\n",
       "      fill: #D2E3FC;\n",
       "    }\n",
       "\n",
       "    [theme=dark] .colab-df-convert:hover {\n",
       "      background-color: #434B5C;\n",
       "      box-shadow: 0px 1px 3px 1px rgba(0, 0, 0, 0.15);\n",
       "      filter: drop-shadow(0px 1px 2px rgba(0, 0, 0, 0.3));\n",
       "      fill: #FFFFFF;\n",
       "    }\n",
       "  </style>\n",
       "\n",
       "      <script>\n",
       "        const buttonEl =\n",
       "          document.querySelector('#df-d13111f3-8eaa-4981-87da-43d779d5b473 button.colab-df-convert');\n",
       "        buttonEl.style.display =\n",
       "          google.colab.kernel.accessAllowed ? 'block' : 'none';\n",
       "\n",
       "        async function convertToInteractive(key) {\n",
       "          const element = document.querySelector('#df-d13111f3-8eaa-4981-87da-43d779d5b473');\n",
       "          const dataTable =\n",
       "            await google.colab.kernel.invokeFunction('convertToInteractive',\n",
       "                                                     [key], {});\n",
       "          if (!dataTable) return;\n",
       "\n",
       "          const docLinkHtml = 'Like what you see? Visit the ' +\n",
       "            '<a target=\"_blank\" href=https://colab.research.google.com/notebooks/data_table.ipynb>data table notebook</a>'\n",
       "            + ' to learn more about interactive tables.';\n",
       "          element.innerHTML = '';\n",
       "          dataTable['output_type'] = 'display_data';\n",
       "          await google.colab.output.renderOutput(dataTable, element);\n",
       "          const docLink = document.createElement('div');\n",
       "          docLink.innerHTML = docLinkHtml;\n",
       "          element.appendChild(docLink);\n",
       "        }\n",
       "      </script>\n",
       "    </div>\n",
       "  </div>\n",
       "  "
      ],
      "text/plain": [
       "                prodi                                              minat  \\\n",
       "0           akuntansi  minat terhadap aktivitas yang berhubungan deng...   \n",
       "1  teknik informatika  minat terhadap aktivitas yang berhubungan deng...   \n",
       "\n",
       "                                               bakat             mapel  nilai  \\\n",
       "0  bakat terhadap aktivitas yang berhubungan deng...  sejarah geografi     89   \n",
       "1  bakat terhadap aktivitas yang berhubungan deng...          komputer     96   \n",
       "\n",
       "         ibu       ayah penghasilan  \n",
       "0     petani  meninggal  golongan 2  \n",
       "1  wirausaha  meninggal  golongan 2  "
      ]
     },
     "execution_count": 7,
     "metadata": {},
     "output_type": "execute_result"
    }
   ],
   "source": [
    "df.head(2)"
   ]
  },
  {
   "cell_type": "markdown",
   "metadata": {
    "id": "TmaQzB03BDFW"
   },
   "source": [
    "* Now the dataset seems all good\n",
    "* Next let's do some label encoder for columns: `prodi`, `ibu`, `ayah`, `penghasilan`"
   ]
  },
  {
   "cell_type": "markdown",
   "metadata": {
    "id": "iBaJww-NDnrj"
   },
   "source": [
    "### LabelEncoder(Prodi,Ibu,Ayah,Penghasilan)"
   ]
  },
  {
   "cell_type": "code",
   "execution_count": 8,
   "metadata": {
    "id": "pFgqUrOQEKHS"
   },
   "outputs": [],
   "source": [
    "cols = [\"prodi\", \"ibu\", \"ayah\", \"penghasilan\"]\n",
    "le = LabelEncoder()\n",
    "\n",
    "for col in cols:\n",
    "  le.fit(df[col])\n",
    "  df[col] = le.transform(df[col])"
   ]
  },
  {
   "cell_type": "code",
   "execution_count": 9,
   "metadata": {
    "colab": {
     "base_uri": "https://localhost:8080/",
     "height": 240
    },
    "id": "gieza8UyDTyP",
    "outputId": "d8010fc1-727c-4f0c-c0ea-5850927a790d"
   },
   "outputs": [
    {
     "data": {
      "text/html": [
       "\n",
       "  <div id=\"df-d551727b-0ae2-4771-b6fc-0e5828710402\">\n",
       "    <div class=\"colab-df-container\">\n",
       "      <div>\n",
       "<style scoped>\n",
       "    .dataframe tbody tr th:only-of-type {\n",
       "        vertical-align: middle;\n",
       "    }\n",
       "\n",
       "    .dataframe tbody tr th {\n",
       "        vertical-align: top;\n",
       "    }\n",
       "\n",
       "    .dataframe thead th {\n",
       "        text-align: right;\n",
       "    }\n",
       "</style>\n",
       "<table border=\"1\" class=\"dataframe\">\n",
       "  <thead>\n",
       "    <tr style=\"text-align: right;\">\n",
       "      <th></th>\n",
       "      <th>prodi</th>\n",
       "      <th>minat</th>\n",
       "      <th>bakat</th>\n",
       "      <th>mapel</th>\n",
       "      <th>nilai</th>\n",
       "      <th>ibu</th>\n",
       "      <th>ayah</th>\n",
       "      <th>penghasilan</th>\n",
       "    </tr>\n",
       "  </thead>\n",
       "  <tbody>\n",
       "    <tr>\n",
       "      <th>0</th>\n",
       "      <td>2</td>\n",
       "      <td>minat terhadap aktivitas yang berhubungan deng...</td>\n",
       "      <td>bakat terhadap aktivitas yang berhubungan deng...</td>\n",
       "      <td>sejarah geografi</td>\n",
       "      <td>89</td>\n",
       "      <td>5</td>\n",
       "      <td>3</td>\n",
       "      <td>1</td>\n",
       "    </tr>\n",
       "    <tr>\n",
       "      <th>1</th>\n",
       "      <td>38</td>\n",
       "      <td>minat terhadap aktivitas yang berhubungan deng...</td>\n",
       "      <td>bakat terhadap aktivitas yang berhubungan deng...</td>\n",
       "      <td>komputer</td>\n",
       "      <td>96</td>\n",
       "      <td>8</td>\n",
       "      <td>3</td>\n",
       "      <td>1</td>\n",
       "    </tr>\n",
       "    <tr>\n",
       "      <th>2</th>\n",
       "      <td>38</td>\n",
       "      <td>minat terhadap aktivitas yang berhubungan deng...</td>\n",
       "      <td>bakat terhadap aktivitas yang berhubungan deng...</td>\n",
       "      <td>biologi bahasa inggris bahasa indonesia</td>\n",
       "      <td>96</td>\n",
       "      <td>2</td>\n",
       "      <td>4</td>\n",
       "      <td>1</td>\n",
       "    </tr>\n",
       "  </tbody>\n",
       "</table>\n",
       "</div>\n",
       "      <button class=\"colab-df-convert\" onclick=\"convertToInteractive('df-d551727b-0ae2-4771-b6fc-0e5828710402')\"\n",
       "              title=\"Convert this dataframe to an interactive table.\"\n",
       "              style=\"display:none;\">\n",
       "        \n",
       "  <svg xmlns=\"http://www.w3.org/2000/svg\" height=\"24px\"viewBox=\"0 0 24 24\"\n",
       "       width=\"24px\">\n",
       "    <path d=\"M0 0h24v24H0V0z\" fill=\"none\"/>\n",
       "    <path d=\"M18.56 5.44l.94 2.06.94-2.06 2.06-.94-2.06-.94-.94-2.06-.94 2.06-2.06.94zm-11 1L8.5 8.5l.94-2.06 2.06-.94-2.06-.94L8.5 2.5l-.94 2.06-2.06.94zm10 10l.94 2.06.94-2.06 2.06-.94-2.06-.94-.94-2.06-.94 2.06-2.06.94z\"/><path d=\"M17.41 7.96l-1.37-1.37c-.4-.4-.92-.59-1.43-.59-.52 0-1.04.2-1.43.59L10.3 9.45l-7.72 7.72c-.78.78-.78 2.05 0 2.83L4 21.41c.39.39.9.59 1.41.59.51 0 1.02-.2 1.41-.59l7.78-7.78 2.81-2.81c.8-.78.8-2.07 0-2.86zM5.41 20L4 18.59l7.72-7.72 1.47 1.35L5.41 20z\"/>\n",
       "  </svg>\n",
       "      </button>\n",
       "      \n",
       "  <style>\n",
       "    .colab-df-container {\n",
       "      display:flex;\n",
       "      flex-wrap:wrap;\n",
       "      gap: 12px;\n",
       "    }\n",
       "\n",
       "    .colab-df-convert {\n",
       "      background-color: #E8F0FE;\n",
       "      border: none;\n",
       "      border-radius: 50%;\n",
       "      cursor: pointer;\n",
       "      display: none;\n",
       "      fill: #1967D2;\n",
       "      height: 32px;\n",
       "      padding: 0 0 0 0;\n",
       "      width: 32px;\n",
       "    }\n",
       "\n",
       "    .colab-df-convert:hover {\n",
       "      background-color: #E2EBFA;\n",
       "      box-shadow: 0px 1px 2px rgba(60, 64, 67, 0.3), 0px 1px 3px 1px rgba(60, 64, 67, 0.15);\n",
       "      fill: #174EA6;\n",
       "    }\n",
       "\n",
       "    [theme=dark] .colab-df-convert {\n",
       "      background-color: #3B4455;\n",
       "      fill: #D2E3FC;\n",
       "    }\n",
       "\n",
       "    [theme=dark] .colab-df-convert:hover {\n",
       "      background-color: #434B5C;\n",
       "      box-shadow: 0px 1px 3px 1px rgba(0, 0, 0, 0.15);\n",
       "      filter: drop-shadow(0px 1px 2px rgba(0, 0, 0, 0.3));\n",
       "      fill: #FFFFFF;\n",
       "    }\n",
       "  </style>\n",
       "\n",
       "      <script>\n",
       "        const buttonEl =\n",
       "          document.querySelector('#df-d551727b-0ae2-4771-b6fc-0e5828710402 button.colab-df-convert');\n",
       "        buttonEl.style.display =\n",
       "          google.colab.kernel.accessAllowed ? 'block' : 'none';\n",
       "\n",
       "        async function convertToInteractive(key) {\n",
       "          const element = document.querySelector('#df-d551727b-0ae2-4771-b6fc-0e5828710402');\n",
       "          const dataTable =\n",
       "            await google.colab.kernel.invokeFunction('convertToInteractive',\n",
       "                                                     [key], {});\n",
       "          if (!dataTable) return;\n",
       "\n",
       "          const docLinkHtml = 'Like what you see? Visit the ' +\n",
       "            '<a target=\"_blank\" href=https://colab.research.google.com/notebooks/data_table.ipynb>data table notebook</a>'\n",
       "            + ' to learn more about interactive tables.';\n",
       "          element.innerHTML = '';\n",
       "          dataTable['output_type'] = 'display_data';\n",
       "          await google.colab.output.renderOutput(dataTable, element);\n",
       "          const docLink = document.createElement('div');\n",
       "          docLink.innerHTML = docLinkHtml;\n",
       "          element.appendChild(docLink);\n",
       "        }\n",
       "      </script>\n",
       "    </div>\n",
       "  </div>\n",
       "  "
      ],
      "text/plain": [
       "   prodi                                              minat  \\\n",
       "0      2  minat terhadap aktivitas yang berhubungan deng...   \n",
       "1     38  minat terhadap aktivitas yang berhubungan deng...   \n",
       "2     38  minat terhadap aktivitas yang berhubungan deng...   \n",
       "\n",
       "                                               bakat  \\\n",
       "0  bakat terhadap aktivitas yang berhubungan deng...   \n",
       "1  bakat terhadap aktivitas yang berhubungan deng...   \n",
       "2  bakat terhadap aktivitas yang berhubungan deng...   \n",
       "\n",
       "                                     mapel  nilai  ibu  ayah  penghasilan  \n",
       "0                         sejarah geografi     89    5     3            1  \n",
       "1                                 komputer     96    8     3            1  \n",
       "2  biologi bahasa inggris bahasa indonesia     96    2     4            1  "
      ]
     },
     "execution_count": 9,
     "metadata": {},
     "output_type": "execute_result"
    }
   ],
   "source": [
    "df.head(3)"
   ]
  },
  {
   "cell_type": "markdown",
   "metadata": {
    "id": "cbTHHyK_DVSA"
   },
   "source": [
    "* Good now let's vectorize the others"
   ]
  },
  {
   "cell_type": "markdown",
   "metadata": {
    "id": "NngqrVV7EQJx"
   },
   "source": [
    "### TfIdf Vectorizer(Minat,Bakat,Mapel)"
   ]
  },
  {
   "cell_type": "code",
   "execution_count": 10,
   "metadata": {
    "id": "kr6pnwADEZOA"
   },
   "outputs": [],
   "source": [
    "cols = [\"minat\", \"bakat\", \"mapel\"]\n",
    "vectorizer = TfidfVectorizer()\n",
    "for col in cols:\n",
    "  vectorizer.fit(df[col])\n",
    "  df[col] = vectorizer.transform(df[col]).toarray()"
   ]
  },
  {
   "cell_type": "code",
   "execution_count": 11,
   "metadata": {
    "colab": {
     "base_uri": "https://localhost:8080/",
     "height": 112
    },
    "id": "4wMm8D9NDYof",
    "outputId": "d20f33c5-ce32-485e-da6e-09c8b6c5428d"
   },
   "outputs": [
    {
     "data": {
      "text/html": [
       "\n",
       "  <div id=\"df-b0a44f45-edb7-40b8-ac34-b64ca80e45c5\">\n",
       "    <div class=\"colab-df-container\">\n",
       "      <div>\n",
       "<style scoped>\n",
       "    .dataframe tbody tr th:only-of-type {\n",
       "        vertical-align: middle;\n",
       "    }\n",
       "\n",
       "    .dataframe tbody tr th {\n",
       "        vertical-align: top;\n",
       "    }\n",
       "\n",
       "    .dataframe thead th {\n",
       "        text-align: right;\n",
       "    }\n",
       "</style>\n",
       "<table border=\"1\" class=\"dataframe\">\n",
       "  <thead>\n",
       "    <tr style=\"text-align: right;\">\n",
       "      <th></th>\n",
       "      <th>prodi</th>\n",
       "      <th>minat</th>\n",
       "      <th>bakat</th>\n",
       "      <th>mapel</th>\n",
       "      <th>nilai</th>\n",
       "      <th>ibu</th>\n",
       "      <th>ayah</th>\n",
       "      <th>penghasilan</th>\n",
       "    </tr>\n",
       "  </thead>\n",
       "  <tbody>\n",
       "    <tr>\n",
       "      <th>0</th>\n",
       "      <td>2</td>\n",
       "      <td>0.148217</td>\n",
       "      <td>0.147235</td>\n",
       "      <td>0.0</td>\n",
       "      <td>89</td>\n",
       "      <td>5</td>\n",
       "      <td>3</td>\n",
       "      <td>1</td>\n",
       "    </tr>\n",
       "    <tr>\n",
       "      <th>1</th>\n",
       "      <td>38</td>\n",
       "      <td>0.177834</td>\n",
       "      <td>0.147950</td>\n",
       "      <td>0.0</td>\n",
       "      <td>96</td>\n",
       "      <td>8</td>\n",
       "      <td>3</td>\n",
       "      <td>1</td>\n",
       "    </tr>\n",
       "  </tbody>\n",
       "</table>\n",
       "</div>\n",
       "      <button class=\"colab-df-convert\" onclick=\"convertToInteractive('df-b0a44f45-edb7-40b8-ac34-b64ca80e45c5')\"\n",
       "              title=\"Convert this dataframe to an interactive table.\"\n",
       "              style=\"display:none;\">\n",
       "        \n",
       "  <svg xmlns=\"http://www.w3.org/2000/svg\" height=\"24px\"viewBox=\"0 0 24 24\"\n",
       "       width=\"24px\">\n",
       "    <path d=\"M0 0h24v24H0V0z\" fill=\"none\"/>\n",
       "    <path d=\"M18.56 5.44l.94 2.06.94-2.06 2.06-.94-2.06-.94-.94-2.06-.94 2.06-2.06.94zm-11 1L8.5 8.5l.94-2.06 2.06-.94-2.06-.94L8.5 2.5l-.94 2.06-2.06.94zm10 10l.94 2.06.94-2.06 2.06-.94-2.06-.94-.94-2.06-.94 2.06-2.06.94z\"/><path d=\"M17.41 7.96l-1.37-1.37c-.4-.4-.92-.59-1.43-.59-.52 0-1.04.2-1.43.59L10.3 9.45l-7.72 7.72c-.78.78-.78 2.05 0 2.83L4 21.41c.39.39.9.59 1.41.59.51 0 1.02-.2 1.41-.59l7.78-7.78 2.81-2.81c.8-.78.8-2.07 0-2.86zM5.41 20L4 18.59l7.72-7.72 1.47 1.35L5.41 20z\"/>\n",
       "  </svg>\n",
       "      </button>\n",
       "      \n",
       "  <style>\n",
       "    .colab-df-container {\n",
       "      display:flex;\n",
       "      flex-wrap:wrap;\n",
       "      gap: 12px;\n",
       "    }\n",
       "\n",
       "    .colab-df-convert {\n",
       "      background-color: #E8F0FE;\n",
       "      border: none;\n",
       "      border-radius: 50%;\n",
       "      cursor: pointer;\n",
       "      display: none;\n",
       "      fill: #1967D2;\n",
       "      height: 32px;\n",
       "      padding: 0 0 0 0;\n",
       "      width: 32px;\n",
       "    }\n",
       "\n",
       "    .colab-df-convert:hover {\n",
       "      background-color: #E2EBFA;\n",
       "      box-shadow: 0px 1px 2px rgba(60, 64, 67, 0.3), 0px 1px 3px 1px rgba(60, 64, 67, 0.15);\n",
       "      fill: #174EA6;\n",
       "    }\n",
       "\n",
       "    [theme=dark] .colab-df-convert {\n",
       "      background-color: #3B4455;\n",
       "      fill: #D2E3FC;\n",
       "    }\n",
       "\n",
       "    [theme=dark] .colab-df-convert:hover {\n",
       "      background-color: #434B5C;\n",
       "      box-shadow: 0px 1px 3px 1px rgba(0, 0, 0, 0.15);\n",
       "      filter: drop-shadow(0px 1px 2px rgba(0, 0, 0, 0.3));\n",
       "      fill: #FFFFFF;\n",
       "    }\n",
       "  </style>\n",
       "\n",
       "      <script>\n",
       "        const buttonEl =\n",
       "          document.querySelector('#df-b0a44f45-edb7-40b8-ac34-b64ca80e45c5 button.colab-df-convert');\n",
       "        buttonEl.style.display =\n",
       "          google.colab.kernel.accessAllowed ? 'block' : 'none';\n",
       "\n",
       "        async function convertToInteractive(key) {\n",
       "          const element = document.querySelector('#df-b0a44f45-edb7-40b8-ac34-b64ca80e45c5');\n",
       "          const dataTable =\n",
       "            await google.colab.kernel.invokeFunction('convertToInteractive',\n",
       "                                                     [key], {});\n",
       "          if (!dataTable) return;\n",
       "\n",
       "          const docLinkHtml = 'Like what you see? Visit the ' +\n",
       "            '<a target=\"_blank\" href=https://colab.research.google.com/notebooks/data_table.ipynb>data table notebook</a>'\n",
       "            + ' to learn more about interactive tables.';\n",
       "          element.innerHTML = '';\n",
       "          dataTable['output_type'] = 'display_data';\n",
       "          await google.colab.output.renderOutput(dataTable, element);\n",
       "          const docLink = document.createElement('div');\n",
       "          docLink.innerHTML = docLinkHtml;\n",
       "          element.appendChild(docLink);\n",
       "        }\n",
       "      </script>\n",
       "    </div>\n",
       "  </div>\n",
       "  "
      ],
      "text/plain": [
       "   prodi     minat     bakat  mapel  nilai  ibu  ayah  penghasilan\n",
       "0      2  0.148217  0.147235    0.0     89    5     3            1\n",
       "1     38  0.177834  0.147950    0.0     96    8     3            1"
      ]
     },
     "execution_count": 11,
     "metadata": {},
     "output_type": "execute_result"
    }
   ],
   "source": [
    "df.head(2)"
   ]
  },
  {
   "cell_type": "markdown",
   "metadata": {
    "id": "vtLwdekIEz-l"
   },
   "source": [
    "* Ok now all the value on our dataset are on integer format which mean now we can train our model\n",
    "* N.B: All ML model only accept integer as their input"
   ]
  },
  {
   "cell_type": "markdown",
   "metadata": {
    "id": "zJSA3G3lFBBN"
   },
   "source": [
    "## Modelling(RandomForest)"
   ]
  },
  {
   "cell_type": "markdown",
   "metadata": {
    "id": "hywRKotKFbA6"
   },
   "source": [
    "* Now let's train our RandomForest model"
   ]
  },
  {
   "cell_type": "code",
   "execution_count": 12,
   "metadata": {
    "colab": {
     "base_uri": "https://localhost:8080/",
     "height": 112
    },
    "id": "6kgUQjkYF6SD",
    "outputId": "28531bad-8ed3-4e73-85e8-8925227a4a2a"
   },
   "outputs": [
    {
     "data": {
      "text/html": [
       "\n",
       "  <div id=\"df-3ff17176-ad2e-40dc-8039-6bf5161a3a13\">\n",
       "    <div class=\"colab-df-container\">\n",
       "      <div>\n",
       "<style scoped>\n",
       "    .dataframe tbody tr th:only-of-type {\n",
       "        vertical-align: middle;\n",
       "    }\n",
       "\n",
       "    .dataframe tbody tr th {\n",
       "        vertical-align: top;\n",
       "    }\n",
       "\n",
       "    .dataframe thead th {\n",
       "        text-align: right;\n",
       "    }\n",
       "</style>\n",
       "<table border=\"1\" class=\"dataframe\">\n",
       "  <thead>\n",
       "    <tr style=\"text-align: right;\">\n",
       "      <th></th>\n",
       "      <th>prodi</th>\n",
       "      <th>minat</th>\n",
       "      <th>bakat</th>\n",
       "      <th>mapel</th>\n",
       "      <th>nilai</th>\n",
       "      <th>ibu</th>\n",
       "      <th>ayah</th>\n",
       "      <th>penghasilan</th>\n",
       "    </tr>\n",
       "  </thead>\n",
       "  <tbody>\n",
       "    <tr>\n",
       "      <th>0</th>\n",
       "      <td>2</td>\n",
       "      <td>0.148217</td>\n",
       "      <td>0.147235</td>\n",
       "      <td>0.0</td>\n",
       "      <td>89</td>\n",
       "      <td>5</td>\n",
       "      <td>3</td>\n",
       "      <td>1</td>\n",
       "    </tr>\n",
       "    <tr>\n",
       "      <th>1</th>\n",
       "      <td>38</td>\n",
       "      <td>0.177834</td>\n",
       "      <td>0.147950</td>\n",
       "      <td>0.0</td>\n",
       "      <td>96</td>\n",
       "      <td>8</td>\n",
       "      <td>3</td>\n",
       "      <td>1</td>\n",
       "    </tr>\n",
       "  </tbody>\n",
       "</table>\n",
       "</div>\n",
       "      <button class=\"colab-df-convert\" onclick=\"convertToInteractive('df-3ff17176-ad2e-40dc-8039-6bf5161a3a13')\"\n",
       "              title=\"Convert this dataframe to an interactive table.\"\n",
       "              style=\"display:none;\">\n",
       "        \n",
       "  <svg xmlns=\"http://www.w3.org/2000/svg\" height=\"24px\"viewBox=\"0 0 24 24\"\n",
       "       width=\"24px\">\n",
       "    <path d=\"M0 0h24v24H0V0z\" fill=\"none\"/>\n",
       "    <path d=\"M18.56 5.44l.94 2.06.94-2.06 2.06-.94-2.06-.94-.94-2.06-.94 2.06-2.06.94zm-11 1L8.5 8.5l.94-2.06 2.06-.94-2.06-.94L8.5 2.5l-.94 2.06-2.06.94zm10 10l.94 2.06.94-2.06 2.06-.94-2.06-.94-.94-2.06-.94 2.06-2.06.94z\"/><path d=\"M17.41 7.96l-1.37-1.37c-.4-.4-.92-.59-1.43-.59-.52 0-1.04.2-1.43.59L10.3 9.45l-7.72 7.72c-.78.78-.78 2.05 0 2.83L4 21.41c.39.39.9.59 1.41.59.51 0 1.02-.2 1.41-.59l7.78-7.78 2.81-2.81c.8-.78.8-2.07 0-2.86zM5.41 20L4 18.59l7.72-7.72 1.47 1.35L5.41 20z\"/>\n",
       "  </svg>\n",
       "      </button>\n",
       "      \n",
       "  <style>\n",
       "    .colab-df-container {\n",
       "      display:flex;\n",
       "      flex-wrap:wrap;\n",
       "      gap: 12px;\n",
       "    }\n",
       "\n",
       "    .colab-df-convert {\n",
       "      background-color: #E8F0FE;\n",
       "      border: none;\n",
       "      border-radius: 50%;\n",
       "      cursor: pointer;\n",
       "      display: none;\n",
       "      fill: #1967D2;\n",
       "      height: 32px;\n",
       "      padding: 0 0 0 0;\n",
       "      width: 32px;\n",
       "    }\n",
       "\n",
       "    .colab-df-convert:hover {\n",
       "      background-color: #E2EBFA;\n",
       "      box-shadow: 0px 1px 2px rgba(60, 64, 67, 0.3), 0px 1px 3px 1px rgba(60, 64, 67, 0.15);\n",
       "      fill: #174EA6;\n",
       "    }\n",
       "\n",
       "    [theme=dark] .colab-df-convert {\n",
       "      background-color: #3B4455;\n",
       "      fill: #D2E3FC;\n",
       "    }\n",
       "\n",
       "    [theme=dark] .colab-df-convert:hover {\n",
       "      background-color: #434B5C;\n",
       "      box-shadow: 0px 1px 3px 1px rgba(0, 0, 0, 0.15);\n",
       "      filter: drop-shadow(0px 1px 2px rgba(0, 0, 0, 0.3));\n",
       "      fill: #FFFFFF;\n",
       "    }\n",
       "  </style>\n",
       "\n",
       "      <script>\n",
       "        const buttonEl =\n",
       "          document.querySelector('#df-3ff17176-ad2e-40dc-8039-6bf5161a3a13 button.colab-df-convert');\n",
       "        buttonEl.style.display =\n",
       "          google.colab.kernel.accessAllowed ? 'block' : 'none';\n",
       "\n",
       "        async function convertToInteractive(key) {\n",
       "          const element = document.querySelector('#df-3ff17176-ad2e-40dc-8039-6bf5161a3a13');\n",
       "          const dataTable =\n",
       "            await google.colab.kernel.invokeFunction('convertToInteractive',\n",
       "                                                     [key], {});\n",
       "          if (!dataTable) return;\n",
       "\n",
       "          const docLinkHtml = 'Like what you see? Visit the ' +\n",
       "            '<a target=\"_blank\" href=https://colab.research.google.com/notebooks/data_table.ipynb>data table notebook</a>'\n",
       "            + ' to learn more about interactive tables.';\n",
       "          element.innerHTML = '';\n",
       "          dataTable['output_type'] = 'display_data';\n",
       "          await google.colab.output.renderOutput(dataTable, element);\n",
       "          const docLink = document.createElement('div');\n",
       "          docLink.innerHTML = docLinkHtml;\n",
       "          element.appendChild(docLink);\n",
       "        }\n",
       "      </script>\n",
       "    </div>\n",
       "  </div>\n",
       "  "
      ],
      "text/plain": [
       "   prodi     minat     bakat  mapel  nilai  ibu  ayah  penghasilan\n",
       "0      2  0.148217  0.147235    0.0     89    5     3            1\n",
       "1     38  0.177834  0.147950    0.0     96    8     3            1"
      ]
     },
     "execution_count": 12,
     "metadata": {},
     "output_type": "execute_result"
    }
   ],
   "source": [
    "df.head(2)"
   ]
  },
  {
   "cell_type": "markdown",
   "metadata": {
    "id": "oNmbkSCzFQYg"
   },
   "source": [
    "* Let's split our dataset into feature and target"
   ]
  },
  {
   "cell_type": "markdown",
   "metadata": {
    "id": "ehv25CY4HaTQ"
   },
   "source": [
    "### Feature and Target"
   ]
  },
  {
   "cell_type": "code",
   "execution_count": 13,
   "metadata": {
    "id": "82nIbalyFOmC"
   },
   "outputs": [],
   "source": [
    "X = df.drop([\"prodi\"], axis=1)\n",
    "y = df[\"prodi\"]"
   ]
  },
  {
   "cell_type": "markdown",
   "metadata": {
    "id": "G4Nt-bm4F2JF"
   },
   "source": [
    "* let's check the proportion of the target first"
   ]
  },
  {
   "cell_type": "code",
   "execution_count": 14,
   "metadata": {
    "colab": {
     "base_uri": "https://localhost:8080/"
    },
    "id": "LkxaK5PxGC-8",
    "outputId": "c90b63fc-ef2d-48be-c0ed-41827ce7dba0"
   },
   "outputs": [
    {
     "data": {
      "text/plain": [
       "38    24\n",
       "2     12\n",
       "42     9\n",
       "9      8\n",
       "36     7\n",
       "34     7\n",
       "19     6\n",
       "17     6\n",
       "13     4\n",
       "7      3\n",
       "23     3\n",
       "4      3\n",
       "37     3\n",
       "32     3\n",
       "22     2\n",
       "44     2\n",
       "30     2\n",
       "41     2\n",
       "39     2\n",
       "25     2\n",
       "31     2\n",
       "27     2\n",
       "16     2\n",
       "33     1\n",
       "1      1\n",
       "3      1\n",
       "28     1\n",
       "21     1\n",
       "5      1\n",
       "29     1\n",
       "10     1\n",
       "35     1\n",
       "8      1\n",
       "43     1\n",
       "11     1\n",
       "6      1\n",
       "12     1\n",
       "18     1\n",
       "14     1\n",
       "26     1\n",
       "40     1\n",
       "0      1\n",
       "15     1\n",
       "20     1\n",
       "24     1\n",
       "Name: prodi, dtype: int64"
      ]
     },
     "execution_count": 14,
     "metadata": {},
     "output_type": "execute_result"
    }
   ],
   "source": [
    "y.value_counts()"
   ]
  },
  {
   "cell_type": "markdown",
   "metadata": {
    "id": "C5_IruMKGGaq"
   },
   "source": [
    "* The target was extreamly imbalanced and might effect the performance of our model"
   ]
  },
  {
   "cell_type": "markdown",
   "metadata": {
    "id": "AWT3ZvL8GPL8"
   },
   "source": [
    "* Let's use oversampling technique to settle this."
   ]
  },
  {
   "cell_type": "markdown",
   "metadata": {
    "id": "QXEGQwZBGufa"
   },
   "source": [
    "### Oversampling with imblearn"
   ]
  },
  {
   "cell_type": "code",
   "execution_count": 15,
   "metadata": {
    "id": "Gzt_cl6TGsBo"
   },
   "outputs": [],
   "source": [
    "from imblearn.over_sampling import RandomOverSampler\n",
    "\n",
    "sampler = RandomOverSampler()\n",
    "\n",
    "X, y = sampler.fit_resample(X,y)"
   ]
  },
  {
   "cell_type": "code",
   "execution_count": 16,
   "metadata": {
    "colab": {
     "base_uri": "https://localhost:8080/"
    },
    "id": "TTN4iUlrI1JW",
    "outputId": "2281e4c2-22db-4974-8e38-bb8dd7d7d46f"
   },
   "outputs": [
    {
     "data": {
      "text/plain": [
       "2     24\n",
       "39    24\n",
       "12    24\n",
       "23    24\n",
       "11    24\n",
       "43    24\n",
       "13    24\n",
       "8     24\n",
       "3     24\n",
       "16    24\n",
       "10    24\n",
       "30    24\n",
       "41    24\n",
       "5     24\n",
       "21    24\n",
       "25    24\n",
       "1     24\n",
       "33    24\n",
       "7     24\n",
       "28    24\n",
       "29    24\n",
       "18    24\n",
       "37    24\n",
       "38    24\n",
       "26    24\n",
       "36    24\n",
       "42    24\n",
       "9     24\n",
       "22    24\n",
       "34    24\n",
       "32    24\n",
       "6     24\n",
       "14    24\n",
       "40    24\n",
       "35    24\n",
       "19    24\n",
       "17    24\n",
       "44    24\n",
       "27    24\n",
       "20    24\n",
       "31    24\n",
       "15    24\n",
       "0     24\n",
       "4     24\n",
       "24    24\n",
       "Name: prodi, dtype: int64"
      ]
     },
     "execution_count": 16,
     "metadata": {},
     "output_type": "execute_result"
    }
   ],
   "source": [
    "y.value_counts()"
   ]
  },
  {
   "cell_type": "markdown",
   "metadata": {
    "id": "cdqlQ9_xHRLb"
   },
   "source": [
    "* Now all the target all perfectly balanced"
   ]
  },
  {
   "cell_type": "markdown",
   "metadata": {
    "id": "OC9vlU2BHliO"
   },
   "source": [
    "### Train and Accuracy"
   ]
  },
  {
   "cell_type": "markdown",
   "metadata": {
    "id": "bS5v9_cTHqZj"
   },
   "source": [
    "* before we train our model, let's split the feature and target into train and test set"
   ]
  },
  {
   "cell_type": "code",
   "execution_count": 17,
   "metadata": {
    "id": "t-xZGd_9I9OI"
   },
   "outputs": [],
   "source": [
    "# split into train set and test set with 30% test size\n",
    "X_train, X_test, y_train, y_test = train_test_split(X,y, test_size=0.3,\n",
    "                                                    random_state=42)"
   ]
  },
  {
   "cell_type": "code",
   "execution_count": 21,
   "metadata": {
    "colab": {
     "base_uri": "https://localhost:8080/"
    },
    "id": "L81f7Qp0JBIO",
    "outputId": "5dbf2ef1-f8c2-4131-ca60-b4bd03ebedc3"
   },
   "outputs": [
    {
     "data": {
      "text/plain": [
       "RandomForestClassifier(random_state=42)"
      ]
     },
     "execution_count": 21,
     "metadata": {},
     "output_type": "execute_result"
    }
   ],
   "source": [
    "# fit the model\n",
    "model = RandomForestClassifier(random_state=42)\n",
    "model.fit(X_train, y_train)"
   ]
  },
  {
   "cell_type": "markdown",
   "metadata": {
    "id": "kBe3FewYIIN0"
   },
   "source": [
    "* Now let's see how accurate our model is"
   ]
  },
  {
   "cell_type": "code",
   "execution_count": 23,
   "metadata": {
    "colab": {
     "base_uri": "https://localhost:8080/"
    },
    "id": "bEcrgvh3JN-u",
    "outputId": "70aeb4d6-20e2-4086-b2a6-f0c08b9d544e"
   },
   "outputs": [
    {
     "name": "stdout",
     "output_type": "stream",
     "text": [
      "RandomForest Accuracy Score: 0.97\n"
     ]
    }
   ],
   "source": [
    "y_pred = model.predict(X_test)\n",
    "\n",
    "print(\"RandomForest Accuracy Score: {:.2f}\".format(accuracy_score(y_test, y_pred)))"
   ]
  },
  {
   "cell_type": "markdown",
   "metadata": {
    "id": "ktYymFkwJRkd"
   },
   "source": [
    "* The model achieve great accuracy with 97% accuracy score"
   ]
  },
  {
   "cell_type": "markdown",
   "metadata": {
    "id": "5JMkGbN_IlDk"
   },
   "source": [
    "* Let's save our model for next development process"
   ]
  },
  {
   "cell_type": "markdown",
   "metadata": {
    "id": "LTzmGms6JVPj"
   },
   "source": [
    "### Saving Model"
   ]
  },
  {
   "cell_type": "code",
   "execution_count": 24,
   "metadata": {
    "id": "cQryR8hnJduO"
   },
   "outputs": [],
   "source": [
    "# saving model with pickle\n",
    "import pickle\n",
    "\n",
    "pickle.dump(model, open('model.pkl', 'wb'))"
   ]
  },
  {
   "cell_type": "markdown",
   "metadata": {
    "id": "sEyij4lqJIRg"
   },
   "source": [
    "### Load and Test Model"
   ]
  },
  {
   "cell_type": "code",
   "execution_count": 25,
   "metadata": {
    "id": "mlfaM0exLxDS"
   },
   "outputs": [],
   "source": [
    "loaded_model = pickle.load(open('model.pkl', 'rb'))"
   ]
  },
  {
   "cell_type": "code",
   "execution_count": 26,
   "metadata": {
    "id": "LeG8F6M0M5_r"
   },
   "outputs": [],
   "source": [
    "y_load_pred = loaded_model.predict(X_test)"
   ]
  },
  {
   "cell_type": "code",
   "execution_count": 28,
   "metadata": {
    "colab": {
     "base_uri": "https://localhost:8080/"
    },
    "id": "7Eo3QiCgM-d1",
    "outputId": "d215a8c9-9554-40c6-de27-4da62c83841e"
   },
   "outputs": [
    {
     "name": "stdout",
     "output_type": "stream",
     "text": [
      "Loaded Model Accuracy: 0.97\n"
     ]
    }
   ],
   "source": [
    "print(\"Loaded Model Accuracy: {:.2f}\".format(accuracy_score(y_test, y_load_pred)))"
   ]
  },
  {
   "cell_type": "markdown",
   "metadata": {
    "id": "1L2TEn-dNHWm"
   },
   "source": [
    "* Yup its working perfectly"
   ]
  },
  {
   "cell_type": "code",
   "execution_count": null,
   "metadata": {
    "id": "pnZdGyEFNNTS"
   },
   "outputs": [],
   "source": []
  }
 ],
 "metadata": {
  "colab": {
   "collapsed_sections": [],
   "name": "Recommendation System using Random Forest.ipynb",
   "provenance": []
  },
  "kernelspec": {
   "display_name": "Python 3 (ipykernel)",
   "language": "python",
   "name": "python3"
  },
  "language_info": {
   "codemirror_mode": {
    "name": "ipython",
    "version": 3
   },
   "file_extension": ".py",
   "mimetype": "text/x-python",
   "name": "python",
   "nbconvert_exporter": "python",
   "pygments_lexer": "ipython3",
   "version": "3.9.10"
  }
 },
 "nbformat": 4,
 "nbformat_minor": 1
}
